{
 "cells": [
  {
   "cell_type": "markdown",
   "metadata": {
    "colab_type": "text",
    "id": "aBPGOpUM11V1"
   },
   "source": [
    "\n",
    "<center>\n",
    "    <h1> INF285/ILI285 Computación Científica </h1>\n",
    "    <h1> Tarea N°1, v1.00 </h1>\n",
    "    \n",
    "</center>\n",
    "\n",
    "<p>\n",
    "\n",
    "</p>\n",
    "\n",
    "#### Martín Salinas Scussolin 201773557-0 201"
   ]
  },
  {
   "cell_type": "markdown",
   "metadata": {
    "colab_type": "text",
    "id": "B7MCAVSDRk3l"
   },
   "source": [
    "## Instrucciones\n",
    "\n",
    "* La tarea es individual.\n",
    "* Las consultas sobre las tareas se deben realizar por medio de la plataforma Aula.\n",
    "* La tarea debe ser realizada en `Jupyter Notebook` (`Python3`).\n",
    "* Se evaluará la correcta utilización de librerias `NumPy`, `SciPy`, entre otras, así como la correcta implementación de algoritmos de forma vectorizada.\n",
    "*  **El archivo de entrega debe denominarse ROL-tarea-numero.ipynb**. _De no respetarse este formato existirá un descuento de **50 puntos**_\n",
    "* La fecha de entrega es el jueves 30 de Abril a las **18:00 hrs**.  Se aceptarán entregas hasta las 19:00 hrs sin descuento en caso de existir algun problema, posteriormente existirá un descuento lineal hasta las 20:00 hrs del mismo día.\n",
    "* Las tareas que sean entregadas antes del jueves a mediodía recibirán una bonificación de 10 puntos\n",
    "* Debe citar cualquier código ajeno utilizado (incluso si proviene de los Jupyter Notebooks del curso).\n",
    "\n",
    "\n"
   ]
  },
  {
   "cell_type": "markdown",
   "metadata": {
    "colab_type": "text",
    "id": "PNhvmtRq2Orx"
   },
   "source": [
    "## Introducción \n",
    "\n",
    "En esta primera tarea de INF/ILI-285, versión 2020-1, estudiaremos la importancia de los primeros temas estudiados en el curso, los cuales son: Representación de Punto Flotante, Pérdida de Significancia, Errores de Cancelación y Búsqueda de Ceros. El desarrollo de cada uno de esos temas se presenta en una serie de preguntas, donde ustedes deben ir decidiendo, pregunta a pregunta, como cada uno de los temas se aplica. En general, los temas no se analizan por separado, sino de manera acoplada. Es muy importante que cada uno de los problemas sea analizado teóricamente primero, para luego poner su conocimiento en acción. Cada problema puede ser desarrollado de diversas formas, sin embargo, es muy importante determinar al final si el camino elegido resuelve la pregunta presentada."
   ]
  },
  {
   "cell_type": "markdown",
   "metadata": {
    "colab_type": "text",
    "id": "lAtn1U0qRg2S"
   },
   "source": [
    "## Problemas"
   ]
  },
  {
   "cell_type": "markdown",
   "metadata": {
    "colab_type": "text",
    "id": "3znHUOxOUB0-"
   },
   "source": [
    "### 1. Simulador (50 ptos) \n",
    "\n",
    "Dada la familia de polinomios de grado 3 con la forma:\n",
    "\n",
    "\n",
    "\\begin{equation}\n",
    "f(x)=x^3 - A\\,x^2 + A\\,x - 1\n",
    "\\end{equation}\n",
    "\n",
    "\n",
    "Se pide implementar un algoritmo que reciba como parámetros el valor de $A$ (con $|A|>>1$) y la cantidad de bits que tiene en la mantisa un computador ficticio, el manejo del exponente debe considerarse de las misma forma que lo maneja _double precision_.\n",
    "Esta implementación debe calcular las raíces de $f$ sin perdida de significancia con la cantidad de bits disponibles para la mantisa.\n",
    "Para obtener las raíces de $f$ usted debe encontrar de forma algebraica sus raíces y luego proponer un algoritmo basado en las _fórmulas_ obtenidas.\n",
    "\n",
    "Considere que en ese computador ficticio cuenta con las operaciones matemáticas necesarias para obtener las raíces.  Considere el siguiente ejemplo:\n",
    "\n",
    "```python\n",
    "# Alg. Base\n",
    "a = 9819824.624837\n",
    "b = 148736.523476\n",
    "c = a + b\n",
    "\n",
    "# Alg. con Representación de Punto Flotante de 'bits_mant' bits en la mantisa.\n",
    "am = f_new_rep(9819824.624837, bits_mant) # Aproximar el input en la nueva representación.\n",
    "bm = f_new_rep(148736.523476, bits_mant) # Aproximar el input en la nueva representación.\n",
    "cm = f_new_rep(m, am+bm) # Aproximar el output de la suma y cada operación en la nueva representación.\n",
    "```\n"
   ]
  },
  {
   "cell_type": "code",
   "execution_count": 555,
   "metadata": {},
   "outputs": [],
   "source": [
    "import numpy as np\n",
    "from math import sqrt\n",
    "from decimal import *\n",
    "from scipy.special import legendre, roots_legendre, chebyt"
   ]
  },
  {
   "cell_type": "markdown",
   "metadata": {},
   "source": [
    "## Desarrollo\n",
    "\n",
    "Para un mejor análisis de la función propuesta, se realiza división polinómica sobre esta, empezando por $(x-1)$, es posible llegar a la siguiente solución:\n",
    "<img src=\"files/Untitled.png\">\n",
    "\n",
    "Resultando en lo siguiente:\n",
    "\\begin{equation}\n",
    "f(x) = (x-1) (x^2 + (1 - A)x + 1))\n",
    "\\end{equation}\n",
    "\n",
    "Con el fin de calcular los valores de las raíces del polinomio propuesto, se toma la fórmula para la ecuación cuadrática obtenida del libro _Numerical Analysis_. Se muestran a continuación:\n",
    "\n",
    "a) Tenemos que la fórmula para la ecuación cuadrática es:\n",
    "\n",
    "\\begin{equation}\n",
    "ax^2 + bx + c = 0\n",
    "\\end{equation}\n",
    "    \n",
    "Esta ecuación tiene como constantes a, b y c. Las cuales sirven para la fórmula original que es:\n",
    "    \n",
    "\\begin{equation}\n",
    "x_1 = \\frac{-b + \\sqrt{b^2 - 4ac}}{2a}\\qquad x_2 = \\frac{-b - \\sqrt{b^2 - 4ac}}{2a}\n",
    "\\end{equation}\n",
    "    \n",
    "b) Para evitar la perdida de significancia, en el libro se ilustran las nuevas formas de encontrar los posibles valores de x por cada caso:\n",
    " \n",
    "i) Para el caso 0 < b\n",
    "\\begin{equation}\n",
    "x_1 = - \\frac{b + \\sqrt{b^2 - 4ac}}{2a}\\qquad x_2 = \\frac{-2c}{b + \\sqrt{b^2 - 4ac}}\n",
    "\\end{equation} \n",
    "               \n",
    "ii) Para el caso 0 > b\n",
    "\\begin{equation}\n",
    "x_1 = \\frac{- b + \\sqrt{b^2 - 4ac}}{2a}\\qquad x_2 = \\frac{2c}{-b + \\sqrt{b^2 - 4ac}}\n",
    "\\end{equation} \n",
    "\n",
    "Se identifica la primera raiz del polinomio: $x_1=1$, para las siguientes se tiene que desarrollar el segundo factor de $f(x)$. Para ello se reconocen los valores a,b y c como:\n",
    "\\begin{equation}\n",
    "a = 1\\qquad b = 1-A \\qquad c = 1\n",
    "\\end{equation} \n",
    "Como los casos anteriores quedan:\n",
    "\\begin{equation}\n",
    "b<0\\quad \\lor \\quad b>0\\qquad \\rightarrow\\qquad A>1\\quad \\lor \\quad A<1\\\\\n",
    "\\end{equation} \n",
    "Con esto, _sólo_ hace falta reemplazar los valores en las ecuaciones correspondientes.\n",
    "\n",
    "Finalmente las soluciones quedan:\n",
    "$$x_1=1$$\n",
    "i) Para el caso 1 < A\n",
    "\\begin{equation}\n",
    "x_2 = - \\frac{(1-A) + \\sqrt{(1-A)^2 -4}}{2}\\qquad x_3 = -\\frac{2}{(1-A) + \\sqrt{(1-A)^2 -4}}\n",
    "\\end{equation} \n",
    "               \n",
    "ii) Para el caso 1 > A\n",
    "\\begin{equation}\n",
    "x_3 = \\frac{-(1-A) + \\sqrt{(1-A)^2 -4}}{2}\\qquad x_3 = \\frac{2}{-(1-A) + \\sqrt{(1-A)^2 -4}}\n",
    "\\end{equation} \n",
    "\n",
    "A continuación, se muestra el código de las funciones solicitadas.\n"
   ]
  },
  {
   "cell_type": "code",
   "execution_count": 150,
   "metadata": {},
   "outputs": [],
   "source": [
    "# de pana ba na na \n",
    "# funcion que convierte la parte decimal de un numero a base 2\n",
    "# con bits + 50 de tamaño para la mantissa pre-redondeo\n",
    "# utiliza el algoritmo presente en el libro guia\n",
    "\"\"\"\n",
    "input\n",
    "stringDec: (string) decimal sin el punto -> 00102525514\n",
    "output\n",
    "root: (string) parte decimal en binario -> .11101001\n",
    "\"\"\"\n",
    "def dotDecToBin(stringDec):\n",
    "    n = \"\"\n",
    "    fl = Decimal(\"0.\" + stringDec)\n",
    "    \n",
    "    for i in range(128):\n",
    "        fl = format(fl*2, \".52f\").split(\".\")\n",
    "        \n",
    "        if len(fl) == 2:\n",
    "            n += fl[0]\n",
    "            fl = Decimal(\"0.\" + fl[1])\n",
    "        else:\n",
    "            n += \"0\"\n",
    "            break\n",
    "            \n",
    "    return \".\" + n"
   ]
  },
  {
   "cell_type": "code",
   "execution_count": 151,
   "metadata": {},
   "outputs": [],
   "source": [
    "# it work!\n",
    "# funcion para obtener mantissa y exponente de un numero decimal base 2\n",
    "# recibe un numero decimal en base 2\n",
    "\"\"\"\n",
    "input\n",
    "bitString: (string) numero binario con parte entera y parte decimal. ie: 1101101.0101\n",
    "output\n",
    "root: (list) mantisa, exponente\n",
    "\"\"\"\n",
    "def getMantissa(bitString):\n",
    "    # el exponente parte en 0\n",
    "    Exp = 0\n",
    "    \n",
    "    # se separa el numero en parte entera y decimales\n",
    "    x, y = bitString.split(\".\")\n",
    "    \n",
    "    # si hay un 1 en x, se juntan ambas partes y se retorna el exponente segun la posicion del 1\n",
    "    if \"1\" in x:\n",
    "        return x[1:] + y, len(x)-1\n",
    "    \n",
    "    # si no, se ubican el primer 1 en los decimales y se retorna lo correspondiente\n",
    "    else: \n",
    "        for i in y:\n",
    "            if i == \"0\":\n",
    "                Exp += 1\n",
    "            else:\n",
    "                break\n",
    "                \n",
    "        return y[Exp+1:], -(Exp+1)"
   ]
  },
  {
   "cell_type": "code",
   "execution_count": 191,
   "metadata": {},
   "outputs": [],
   "source": [
    "# funcion de redondeo\n",
    "# recibe un string binario, un exponente entero y un entero que representa el tamaño al que se desea redondear\n",
    "# retorna una mantisa redondeada de largo {bits} con largo original {len(mantissa)}\n",
    "# utiliza el algoritmo del libro numerical analysis para el redondeo de punto flotante\n",
    "\"\"\"\n",
    "input\n",
    "mantissa: (string) mantisa sin redondear\n",
    "exp: (int) exponente del numero\n",
    "bits: (int) tamaño deseado mantissa\n",
    "output\n",
    "root: (list) mantisa (redondeada), exponente(actualizado)\n",
    "\"\"\"\n",
    "def fixBits(mantissa, Exp, bits):\n",
    "    #print(\"MANTISSA    ------------------>%%%%%%\\t\"+mantissa)     \n",
    "    #print(\"\\tLENN %%%% \\t\",len(mantissa)  )\n",
    "    #print(\"EXP         ----------------->%%%%%%\\t\",Exp) \n",
    "    #print(\"Bits        ----------------->%%%%%%\\t\",bits)\n",
    "    \n",
    "    # varibles de condiciones para el redondeo\n",
    "\n",
    "    if len(mantissa) <= bits:\n",
    "        mantissaPrima = mantissa + \"0\"*45\n",
    "        a = mantissaPrima[0 : bits]\n",
    "        b = mantissaPrima[bits]\n",
    "        c = mantissaPrima[bits+1:]\n",
    "        #print(\"MANTISSAPRIMA    ------------------>%%%%%%\\t\"+mantissaPrima)     \n",
    "        #print(\"\\tLENN %%%% \\t\",len(mantissa)  )\n",
    "    \n",
    "    else:\n",
    "        a = mantissa[0 : bits]\n",
    "        b = mantissa[bits]\n",
    "        c = mantissa[bits+1:]\n",
    "    \n",
    "    #se trabaja la matiza como lista porque facil\n",
    "    alist = list(a)\n",
    "    \n",
    "    # ultimo + 1 bit\n",
    "    if b == \"1\":\n",
    "        if \"1\" in c:\n",
    "            pos = len(a)-1\n",
    "\n",
    "            while pos > 0:\n",
    "                if alist[pos] == \"1\":\n",
    "                    alist[pos] = \"0\"\n",
    "                \n",
    "                else:\n",
    "                    alist[pos] = \"1\"\n",
    "                    break\n",
    "                pos -= 1\n",
    "        else:\n",
    "            if a[-1] == \"1\":\n",
    "                pos = len(a) - 1\n",
    "            \n",
    "                while pos > 0:\n",
    "                    if alist[pos] == \"1\":\n",
    "                        alist[pos] = \"0\"\n",
    "\n",
    "                    else:\n",
    "                        alist[pos] = \"1\"\n",
    "                        break\n",
    "                    pos -= 1\n",
    "    \n",
    "    # se retorna la mantisa alterada\n",
    "    joined = \"\".join(alist)\n",
    "    \n",
    "    return joined, Exp\n"
   ]
  },
  {
   "cell_type": "code",
   "execution_count": 242,
   "metadata": {},
   "outputs": [],
   "source": [
    "# funciona de pana banana\n",
    "# funcion que revierte un numero en punto flotante a base 10 y lo transforma a un string\n",
    "\"\"\"\n",
    "input\n",
    "n: (list) lista con signo(string), exponent(decimal), mantissa(mantisa) de un numero\n",
    "output\n",
    "root: (double) numero en representacion base 10\n",
    "\"\"\"\n",
    "def revertRepr(number):\n",
    "    # de f_new_rep se obtienen signo mantisa y exponente\n",
    "    sign, exponent, mantissa = number\n",
    "    \n",
    "    # se prepara calculo de parte decimal\n",
    "    number_dec_ret = 0.0\n",
    "    \n",
    "    # el 1 es añadido a la mantissa\n",
    "    num_pre_expand = \"1\" + mantissa\n",
    "    \n",
    "    # zero extend xdxdxdxdxdxdxdxdxdxdx\n",
    "    num = num_pre_expand + \"0\" * (abs(exponent)-len(mantissa))\n",
    "    \n",
    "    # parte entera de binaria a decimal\n",
    "    if exponent >= 0:    \n",
    "        num_int = int(\"0b\" + num[0:exponent+1], 2) #<------- exponent está\n",
    "        helpme = num[exponent+1:]\n",
    "        for i in range(len(helpme)):\n",
    "            if helpme[i] == \"1\":\n",
    "                number_dec_ret += (0.5)**(i+1)\n",
    "\n",
    "        \n",
    "    else:\n",
    "        # exp = -5 ;   num = 1.101110110 -> .00001101110110\n",
    "        num_int = 0\n",
    "        # se trabaja con el exponente positivo para facilidad de calculos\n",
    "        exponent2 = abs(exponent)-1\n",
    "        num = \"0\" * exponent2 + num\n",
    "        \n",
    "        for i in range(len(num)):\n",
    "            if num[i] == \"1\":\n",
    "                number_dec_ret += (0.5)**(i+1)\n",
    "\n",
    "\n",
    "    if sign == \"1\":\n",
    "        return -1*(num_int + number_dec_ret)\n",
    "        \n",
    "    return num_int + number_dec_ret"
   ]
  },
  {
   "cell_type": "code",
   "execution_count": 243,
   "metadata": {},
   "outputs": [],
   "source": [
    "\"\"\"\n",
    "input\n",
    "number    : (double) valor a evaluar\n",
    "bits_mant : (int) cantidad de bits de la mantisa\n",
    "output\n",
    "eval      : (double) resultado obtenido\n",
    "\"\"\"\n",
    "def f_new_rep(number, bits_mant):\n",
    "    if number == 0:\n",
    "        return 0\n",
    "    \n",
    "    # numero a string\n",
    "    num_string = format(number, \".52f\")\n",
    "    \n",
    "    # signo \n",
    "    if \"-\" in num_string:\n",
    "        # signo es el primer caracter del numero en string\n",
    "        sign = \"1\"\n",
    "        # se actualiza el string numero\n",
    "        numString = num_string[1:]\n",
    "        \n",
    "    else:\n",
    "        numString = num_string\n",
    "        sign = \"0\"    \n",
    "    #print(sign)  \n",
    "    \n",
    "    # se separa en parte decimal y parte entera\n",
    "    numInt, numDec = numString.split(\".\") \n",
    "    #print(numInt, numDec)\n",
    "    \n",
    "    # se obtiene el redondeo de la parte entera\n",
    "    numInt = \"{0:b}\".format(int(numInt))\n",
    "    #print(numInt)\n",
    "    \n",
    "    # se obtiene la parte decimal en base 2\n",
    "    numDec = dotDecToBin(numDec)\n",
    "    #print(numDec)\n",
    "    \n",
    "    # numero en base 2\n",
    "    numBin = numInt+numDec\n",
    "    #print(numBin)\n",
    "    \n",
    "    # se obtiene la mantisa pre rounding y el exponente del numero en base 2\n",
    "    preRoundMant, preRoundExp = getMantissa(numBin)\n",
    "    #print(\"PRE-ROUND\\n--->\\t1.\"+preRoundMant, preRoundExp)\n",
    "    \n",
    "    # se redonde la mantisa y se ajusta el exponente\n",
    "    mant, exp = fixBits(preRoundMant, preRoundExp, bits_mant)\n",
    "    #print(\"AFTER-ROUND\\n--->\\t1.\"+mant, exp)\n",
    "\n",
    "    # el numero en punto flotante\n",
    "    newRepr = [sign, exp, mant]\n",
    "    # print(\"Ahora sí, SENDO DAB\") <-------for debugging purposes only\n",
    "    # se retorna el numero ajustado a la nueva representacion\n",
    "    return revertRepr(newRepr)\n",
    "    #--------------------------------------------------------------------------------------------> ok\n"
   ]
  },
  {
   "cell_type": "code",
   "execution_count": 244,
   "metadata": {},
   "outputs": [
    {
     "data": {
      "text/plain": [
       "49152.0"
      ]
     },
     "execution_count": 244,
     "metadata": {},
     "output_type": "execute_result"
    }
   ],
   "source": [
    "f_new_rep(50000.125, 1) # that's the death number, if it even defeated death, then it can't be wrong, right?"
   ]
  },
  {
   "cell_type": "code",
   "execution_count": 588,
   "metadata": {
    "colab": {},
    "colab_type": "code",
    "id": "2efm5YD2UBGD"
   },
   "outputs": [],
   "source": [
    "\"\"\"\n",
    "input\n",
    "a: (double) valor de a\n",
    "bits_mant: (int) cantidad de bits de la mantisa\n",
    "output\n",
    "x_root: (double) raices obtenida\n",
    "\"\"\"\n",
    "def f_find_roots(a, bits_mant):\n",
    "    # Algoritmo para encontrar raíces de f(x).\n",
    "    \n",
    "    # x1 = [-b + sqrt(b**2 - 4ac)]/2a\n",
    "    # x2 = -2c/[b + sqrt(b**2 - 4ac)]\n",
    "    \n",
    "    # a = 1     b = A - 1\n",
    "    # c = -1\n",
    "    \n",
    "    \n",
    "    A = f_new_rep(a, bits_mant)\n",
    "    #print(\"New A\\n--->\\t\", A)\n",
    "\n",
    "    one_a = f_new_rep(1-A, bits_mant)\n",
    "        \n",
    "    #print(one_a)\n",
    "    a2 = f_new_rep(one_a**2, bits_mant)\n",
    "    #print(a2)\n",
    "    sub2 = f_new_rep(a2-4, bits_mant)\n",
    "    #print(a2-4)\n",
    "    sroot = f_new_rep(np.sqrt(sub2), bits_mant)\n",
    "    #print(sroot)\n",
    "    \n",
    "    if A>= 1:\n",
    "        sumA = -1*f_new_rep(-1*one_a + sroot, bits_mant)\n",
    "        r1 = f_new_rep(sumA/-2, bits_mant)\n",
    "        r2 = f_new_rep(-2/sumA, bits_mant)\n",
    "        \n",
    "    else:\n",
    "        one_a2 = -1*f_new_rep(-1*one_a, bits_mant)\n",
    "        sumA = -1*f_new_rep(one_a2 + sroot, bits_mant)\n",
    "        r1 = f_new_rep(sumA/2, bits_mant)\n",
    "        r2 = f_new_rep(2/sumA, bits_mant)\n",
    "\n",
    "    \n",
    "    x_roots = [1, r1, r2]\n",
    "    \n",
    "    return x_roots\n"
   ]
  },
  {
   "cell_type": "code",
   "execution_count": 592,
   "metadata": {
    "scrolled": true
   },
   "outputs": [
    {
     "data": {
      "text/plain": [
       "[1, 5001216.0, 2.00001522898674e-07]"
      ]
     },
     "execution_count": 592,
     "metadata": {},
     "output_type": "execute_result"
    }
   ],
   "source": [
    "f_find_roots(5000000.125,10)"
   ]
  },
  {
   "cell_type": "code",
   "execution_count": 256,
   "metadata": {
    "scrolled": true
   },
   "outputs": [
    {
     "data": {
      "text/plain": [
       "True"
      ]
     },
     "execution_count": 256,
     "metadata": {},
     "output_type": "execute_result"
    }
   ],
   "source": [
    "1 == Decimal(1) and 1 == float(1) and 1 == 1e0 and 1 == 1+0j"
   ]
  },
  {
   "cell_type": "markdown",
   "metadata": {
    "colab_type": "text",
    "id": "Nw-jJfD-VPMa"
   },
   "source": [
    "### Polinomios de Legendre (50 puntos)\n",
    "Dada la función compuesta $f$\n",
    "\\begin{equation}\n",
    "f_{n,m}(x) = L_n(C_m(x)),\n",
    "\\end{equation}\n",
    "donde $L_n$ es conocido como el polinomio de Legendre de grado $n$ definido de la siguiente forma:\n",
    "\\begin{equation}\n",
    "L_{n}(x)=\\frac{1}{2^{n}} \\sum_{k=0}^{n}\\left(\\begin{array}{l}\n",
    "n \\\\\n",
    "k\n",
    "\\end{array}\\right)^{2}(x-1)^{n-k}(x+1)^{k},\n",
    "\\end{equation}\n",
    "y $C_m$ es el polinomio de Chebyshev\n",
    "\\begin{equation}\n",
    "C_m(x) = \\cos(m \\cdot \\arccos(x)).\n",
    "\\end{equation}\n",
    "\n",
    "Utilizando el método de Bisección y Punto fijo se pide obtener la raíz de $f$ más cercana a $0.5$ dado un valor de $m$ y $n$\n",
    "\n",
    "\n",
    "\n",
    "*Hint: Las raíces de Legendre son conocidas*\n",
    "\n"
   ]
  },
  {
   "cell_type": "markdown",
   "metadata": {},
   "source": [
    "#### Respuesta\n",
    "Se utiliza una aproximación creando una suerte de vecindario cerca de la raiz que se desea encontrar, para ello se utiliza la fnción getNearby, la cual busca en el vecindario definido con n elementos, los valores cercanos a la raiz que se busca."
   ]
  },
  {
   "cell_type": "code",
   "execution_count": 553,
   "metadata": {},
   "outputs": [],
   "source": [
    "\"\"\"\n",
    "input\n",
    "n: (int) grado del polinomio de Legendre\n",
    "root: (double) raiz cercana a 0.5\n",
    "\"\"\"\n",
    "def getNearby(n):\n",
    "    nearbyN = roots_legendre(n)[0]\n",
    "    distances = list(map(lambda x: abs(x-0.5), nearbyN))\n",
    "    nearestIndex = distances.index(min(distances))\n",
    "    return nearbyN[nearestIndex]"
   ]
  },
  {
   "cell_type": "code",
   "execution_count": 554,
   "metadata": {},
   "outputs": [
    {
     "data": {
      "text/plain": [
       "0.4580167776572274"
      ]
     },
     "execution_count": 554,
     "metadata": {},
     "output_type": "execute_result"
    }
   ],
   "source": [
    "getNearby(16)"
   ]
  },
  {
   "cell_type": "code",
   "execution_count": 593,
   "metadata": {},
   "outputs": [],
   "source": [
    "\"\"\"\n",
    "input\n",
    "x: (double) valor a evaluar\n",
    "m: (int) grado del polinomio de Chebyshev\n",
    "output\n",
    "root: (double) valor obtenido al evaluar en el polinomio\n",
    "\"\"\"\n",
    "Cm = lambda m, x: chebyt(m)(x)"
   ]
  },
  {
   "cell_type": "code",
   "execution_count": 596,
   "metadata": {
    "colab": {},
    "colab_type": "code",
    "id": "x0rfc_-6JTrG"
   },
   "outputs": [],
   "source": [
    "\"\"\"\n",
    "input\n",
    "n: (int) grado del polinomio de Legendre\n",
    "m: (int) grado del polinomio de Chebyshev\n",
    "tol: (double) tolerancia para la detención del algoritmo\n",
    "output\n",
    "root: (double) raiz obtenida\n",
    "\"\"\"\n",
    "def f_Biseccion(n, m, tol):  \n",
    "    \n",
    "    # Se obtiene una reaiz cercana a la que se desea encontrar\n",
    "    root = getNearby(n)\n",
    "    \n",
    "    #se define un rango de valores a los cuales se desea aproximar la raiz\n",
    "    interv = 1/(10*m)\n",
    "    \n",
    "    # si la raiz es menor que el valor deseado, se mueve --->\n",
    "    if root < 0.5:\n",
    "        a = root\n",
    "        while legendre(n)(Cm(m, root))*legendre(n)(Cm(m, a)) > 0:\n",
    "            root+=interv\n",
    "        b = root\n",
    "    # caso contrario\n",
    "    else:\n",
    "        b = root\n",
    "        while legendre(n)(Cm(m, root))*legendre(n)(Cm(m, b)) > 0:\n",
    "            r+= intervalo\n",
    "        a=root\n",
    "    \n",
    "    #el clasico de clasicos\n",
    "    root = (a+b)/2\n",
    "\n",
    "    while (b-a)/2 > tol:        \n",
    "               \n",
    "        root = (b+a)/2\n",
    "\n",
    "        if legendre(n)(Cm(m,root))*legendre(n)(Cm(m,root)) == 0:\n",
    "            break\n",
    "            \n",
    "        elif legendre(n)(Cm(m, a))*legendre(n)(Cm(m,root)) < 0:\n",
    "            b = root\n",
    "\n",
    "        else:\n",
    "            a = root\n",
    "            \n",
    "    return root"
   ]
  },
  {
   "cell_type": "code",
   "execution_count": 597,
   "metadata": {},
   "outputs": [
    {
     "data": {
      "text/plain": [
       "0.43388372123649316"
      ]
     },
     "execution_count": 597,
     "metadata": {},
     "output_type": "execute_result"
    }
   ],
   "source": [
    "f_Biseccion(7, 7, 0.0000001)"
   ]
  },
  {
   "cell_type": "code",
   "execution_count": 576,
   "metadata": {},
   "outputs": [],
   "source": [
    "def f_FPI(n, m, tol):\n",
    "    return root"
   ]
  },
  {
   "cell_type": "markdown",
   "metadata": {
    "colab_type": "text",
    "id": "sv7nBimeVOT2"
   },
   "source": [
    "###  Determinantes (20 puntos)"
   ]
  },
  {
   "cell_type": "markdown",
   "metadata": {
    "colab_type": "text",
    "id": "fZPW_hUvQTW_"
   },
   "source": [
    "Dada una matriz de dimensiones $ n \\times n$ de la forma:\n",
    "\\begin{equation}\n",
    "A\n",
    "=\n",
    "\\begin{pmatrix}\n",
    "a_{1,1} & a_{1,2}  & \\dots & a_{1,n} \\\\\n",
    "a_{2,1} & a_{2,2}  & \\dots & a_{2,n} \\\\\n",
    "\\vdots &  \\vdots   & \\ddots & \\vdots \\\\\n",
    "a_{n,1} & a_{n,2}  & \\dots & a_{n,n}\n",
    "\\end{pmatrix}\n",
    "=\n",
    "\\begin{pmatrix}\n",
    "\\mathbf{r}_1 \\\\\n",
    "\\mathbf{r}_2 \\\\\n",
    "\\vdots \\\\\n",
    "\\mathbf{r}_n \\\\\n",
    "\\end{pmatrix},\n",
    "\\end{equation}\n",
    "donde $\\mathbf{r}_k$ representa la $k$-ésima fila de la matriz $A$.\n",
    "Considere la siguiente matriz $C_{i,j}(\\alpha)$,\n",
    "\\begin{equation}\n",
    "C_{i,j}(\\alpha)\n",
    "=\n",
    "\\begin{pmatrix}\n",
    "\\mathbf{r}_1 \\\\\n",
    "\\vdots \\\\\n",
    "\\mathbf{r}_i\\,(1-\\alpha)+\\mathbf{r}_j\\,\\alpha \\\\\n",
    "\\vdots \\\\\n",
    "\\mathbf{r}_j\\,(1-\\alpha)+\\mathbf{r}_i\\,\\alpha \\\\\n",
    "\\vdots \\\\\n",
    "\\mathbf{r}_n \\\\\n",
    "\\end{pmatrix},\n",
    "\\end{equation}\n",
    "de lo cual sabemos que $C_{i,j}(0)=A$ y que $C_{i,j}(1)$ es la matriz $A$ donde se intercambiaron las filas $i$ y $j$, es decir:\n",
    "\\begin{equation}\n",
    "C_{i,j}(1)\n",
    "=\n",
    "\\begin{pmatrix}\n",
    "\\mathbf{r}_1 \\\\\n",
    "\\vdots \\\\\n",
    "\\mathbf{r}_j \\\\\n",
    "\\vdots \\\\\n",
    "\\mathbf{r}_i \\\\\n",
    "\\vdots \\\\\n",
    "\\mathbf{r}_n \\\\\n",
    "\\end{pmatrix}.\n",
    "\\end{equation}\n",
    "De las relaciones anteriores podemos concluir que el determinante de la matriz $A$, denominado $D=\\det(A)$, es igual al determinante de $C_{i,j}(0)$, es decir $\\det(C_{i,j}(0))=\\det(A)=D$.\n",
    "Por el otro lado, el determinante de $C_{i,j}(1)$ es $-D$, dado que es el intercambio de las filas $i$ y $j$ de la matriz $A$.\n",
    "Por lo cual podemos concluir que $-D\\leq \\det(C_{i,j}(\\alpha))\\leq D$.\n",
    "\n",
    "Utilizando el método de Bisección debe encontrar el valor de $\\alpha$ con $p$ decimales de precisión que permitan que, dado los índices de las filas $i$, $j$, y $i\\neq j$, el determinante de la matriz sea igual a $d$, donde $d\\in[-D,D]$. \n",
    "\n",
    "Para esto se debe implementar una función que reciba la matriz $A$, las filas $i$ y $j$, y $p$; y retorne $\\widehat{\\alpha}$ tal que $\\det(C_{i,j}(\\widehat{\\alpha}))=d$.\n"
   ]
  },
  {
   "cell_type": "code",
   "execution_count": 395,
   "metadata": {
    "colab": {},
    "colab_type": "code",
    "id": "ZewzBMC0WevO"
   },
   "outputs": [],
   "source": [
    "\"\"\"\n",
    "input\n",
    "A: (array n x n) matriz\n",
    "i: (int) índice de la fila \"i\".\n",
    "j: (int) índice de la fila \"j\".\n",
    "p: (int) cantidad de decimales de precision \n",
    "d: (double) valor requerido del determinante de $C_{i,j}(\\alpha)$, i.e. $\\det(C_{i,j}(\\widehat{\\alpha}))=d$.\n",
    "output\n",
    "alpha_hat: (double) alpha_hat tal que det(C_{i,j}(alpha_hat))=d.\n",
    "\"\"\"\n",
    "def find_alpha_hat(A, i, j, p, d):\n",
    "    # Algoritmo a desarrollar, note que usted debe definir el intervalo a utilizar en el método de la bisección.\n",
    "    \n",
    "    # casos base\n",
    "        # det(Cij(0)) = det(A)\n",
    "        # det(Cij(1)) = -det(A)\n",
    "    det_A = np.linalg.det(A)\n",
    "    \n",
    "    # si son iguales en magnitud entonces es un caso base\n",
    "    if det_A == d:\n",
    "        return 0\n",
    "    # como ya eran iguales, \n",
    "    elif det_A == -1*d:\n",
    "        return 1\n",
    "    \n",
    "    # para facilidad de el método, se aprovecha el enunciado y hace uso de np.linealg.det\n",
    "    # además, se considera tolerancia de 10^-{cantidad decimales}\n",
    "    tol = 10**(-p)\n",
    "    \n",
    "    # se necesitan los valores de a y b, en este caso como se pide 0.5 se usan 1 y -0.5\n",
    "    ai = -0.3\n",
    "    bj = 1.3\n",
    "    alpha_hat = (ai+bj)/2\n",
    "    \n",
    "    fi = d - det_A\n",
    "    fj = d + det_A\n",
    "    \n",
    "    f_alpha = d - det_A # bc yes\n",
    "    \n",
    "    # hay que matar en caso de que no se pueda hacer bisection\n",
    "    if fi*fj > 0:\n",
    "        print(\"can't bisect\")\n",
    "        return float(\"-inf\")\n",
    "    \n",
    "    while abs(f_alpha) >= tol:\n",
    "        # un clasico de clasicos\n",
    "        alpha_hat = (ai+bj)/2\n",
    "        # Estamos buscando un alpha tal que det(Cij(aplha)) = d <-> det(Cij(alpha)) - d = 0\n",
    "        # la funcion seria det(%) - d = 0\n",
    "        # matriz para no matar la original\n",
    "        \n",
    "        Cij = np.copy(A)        \n",
    "\n",
    "        ri = np.copy(Cij[i])\n",
    "        rj = np.copy(Cij[j])\n",
    "        \n",
    "        # se aplica el r correspondiente\n",
    "        Cij[i] = ri * (1-alpha_hat) + alpha_hat * rj\n",
    "        Cij[j] = rj * (1-alpha_hat) + alpha_hat * ri\n",
    "        \n",
    "        # se comprueba la funcion para la raiz alpha\n",
    "        f_alpha = d - np.linalg.det(Cij)\n",
    "        \n",
    "        # el paso de la bisección\n",
    "        if f_alpha == 0:\n",
    "            break\n",
    "            \n",
    "        elif fi * f_alpha < 0:\n",
    "            bj = alpha_hat\n",
    "            fj = f_alpha\n",
    "            \n",
    "        else:\n",
    "            ai = alpha_hat\n",
    "            fi = f_alpha   \n",
    "    \n",
    "    return round(alpha_hat, p)"
   ]
  },
  {
   "cell_type": "code",
   "execution_count": 396,
   "metadata": {},
   "outputs": [
    {
     "data": {
      "text/plain": [
       "0.78301887"
      ]
     },
     "execution_count": 396,
     "metadata": {},
     "output_type": "execute_result"
    }
   ],
   "source": [
    "m = np.array([[9., 8., 3.],\n",
    "                   [7., 2., 6.],\n",
    "                   [9., 5., 7.]])\n",
    "i = 1\n",
    "j = 2\n",
    "p = 8\n",
    "d = 30\n",
    "\n",
    "find_alpha_hat(m, i, j, p, d)\n",
    "#0.78301887"
   ]
  },
  {
   "cell_type": "markdown",
   "metadata": {
    "colab_type": "text",
    "id": "gVOkWN_zrvR9"
   },
   "source": [
    "# Referencias"
   ]
  },
  {
   "cell_type": "markdown",
   "metadata": {},
   "source": [
    "https://docs.python.org/3/tutorial/floatingpoint.html"
   ]
  },
  {
   "cell_type": "markdown",
   "metadata": {},
   "source": [
    "https://docs.scipy.org/doc/numpy/reference/generated/numpy.linalg.det.html"
   ]
  },
  {
   "cell_type": "markdown",
   "metadata": {},
   "source": [
    "Sauer, Numerical Analysis, 2nd Ed. - 2012"
   ]
  },
  {
   "cell_type": "markdown",
   "metadata": {},
   "source": [
    "https://docs.scipy.org/doc/scipy/reference/generated/scipy.special.chebyt.html?highlight=chebyt#scipy.special.chebyt"
   ]
  }
 ],
 "metadata": {
  "colab": {
   "collapsed_sections": [],
   "name": "Tarea1-CC.ipynb",
   "provenance": [],
   "toc_visible": true
  },
  "kernelspec": {
   "display_name": "Python 3",
   "language": "python",
   "name": "python3"
  },
  "language_info": {
   "codemirror_mode": {
    "name": "ipython",
    "version": 3
   },
   "file_extension": ".py",
   "mimetype": "text/x-python",
   "name": "python",
   "nbconvert_exporter": "python",
   "pygments_lexer": "ipython3",
   "version": "3.7.4"
  }
 },
 "nbformat": 4,
 "nbformat_minor": 1
}
