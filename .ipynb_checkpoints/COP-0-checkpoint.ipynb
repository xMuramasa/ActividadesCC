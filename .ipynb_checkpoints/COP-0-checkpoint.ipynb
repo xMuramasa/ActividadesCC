{
 "cells": [
  {
   "cell_type": "markdown",
   "metadata": {},
   "source": [
    "# Pregunta 1"
   ]
  },
  {
   "cell_type": "code",
   "execution_count": 76,
   "metadata": {},
   "outputs": [],
   "source": [
    "import matplotlib.pyplot as plt\n",
    "import numpy as np"
   ]
  },
  {
   "cell_type": "code",
   "execution_count": 77,
   "metadata": {},
   "outputs": [
    {
     "name": "stdout",
     "output_type": "stream",
     "text": [
      "N_IT 34\n"
     ]
    },
    {
     "data": {
      "text/plain": [
       "1.36523001344176"
      ]
     },
     "execution_count": 77,
     "metadata": {},
     "output_type": "execute_result"
    }
   ],
   "source": [
    "def bisect(a,b, f, tol): \n",
    "    it = 0\n",
    "    \n",
    "    if f(a)*f(b) > 0:\n",
    "        return \"xd\"\n",
    "    \n",
    "    while (b-a)/2 > tol:\n",
    "        it+=1\n",
    "        c = float((b+a)/2)\n",
    "        if f(c) == 0:\n",
    "            break\n",
    "        if f(a)*f(c) < 0:\n",
    "            b = c\n",
    "        else:\n",
    "            a = c\n",
    "\n",
    "    print(\"N_IT\", it)\n",
    "    return c\n",
    "\n",
    "bisect(1,2,lambda x: x**3+4*x**2-10, 0.5*1E-10)"
   ]
  },
  {
   "cell_type": "code",
   "execution_count": 78,
   "metadata": {},
   "outputs": [
    {
     "name": "stdout",
     "output_type": "stream",
     "text": [
      "diverges\n",
      "diverges\n",
      "1.3652300134140969\n"
     ]
    }
   ],
   "source": [
    "def fpi(x0, f):\n",
    "    while 1:\n",
    "        try:\n",
    "            if f(x0) == x0:\n",
    "                break\n",
    "            x0 = f(x0)\n",
    "        except(OverflowError):\n",
    "            return \"diverges\"\n",
    "            \n",
    "    return x0\n",
    "\n",
    "print(fpi(1.5, lambda x: 10/(x**2+4*x)))\n",
    "print(fpi(1.5, lambda x: 0.25*(10/x-x**2)))\n",
    "#print(fpi(1.5, lambda x: 10/x**2-4))\n",
    "print(fpi(0.5, lambda x: ((10-x**3)/4)**0.5))"
   ]
  },
  {
   "cell_type": "code",
   "execution_count": 79,
   "metadata": {},
   "outputs": [
    {
     "data": {
      "text/plain": [
       "-0.5119612550302863"
      ]
     },
     "execution_count": 79,
     "metadata": {},
     "output_type": "execute_result"
    }
   ],
   "source": [
    "fx = lambda x: (-0.75*x**2)*0.5*((10-x**3)/4)**(-0.5)\n",
    "def tasaConv(x0, f):\n",
    "    return f(x0)\n",
    "tasaConv(1.3652300134140969, fx)"
   ]
  },
  {
   "cell_type": "markdown",
   "metadata": {},
   "source": [
    "# Pregunta 2"
   ]
  },
  {
   "cell_type": "code",
   "execution_count": 134,
   "metadata": {
    "scrolled": true
   },
   "outputs": [
    {
     "data": {
      "text/plain": [
       "array([[0.25, 0.  , 0.  , 0.  ],\n",
       "       [0.  , 0.25, 0.  , 0.  ],\n",
       "       [0.  , 0.  , 0.5 , 0.  ],\n",
       "       [0.  , 0.  , 0.  , 0.5 ]])"
      ]
     },
     "execution_count": 134,
     "metadata": {},
     "output_type": "execute_result"
    }
   ],
   "source": [
    "W4T = np.array([[1, 1, 1, 1],\n",
    "              [1, 1,-1,-1],\n",
    "              [1,-1, 0, 0],\n",
    "              [0, 0, 1,-1]])\n",
    "\n",
    "\n",
    "diag = np.array([\n",
    "                [1/2, 0, 0, 0],\n",
    "                [0, 1/2, 0, 0],\n",
    "                [0, 0, 1/np.sqrt(2), 0],\n",
    "                [0, 0, 0, 1/np.sqrt(2)]  ])\n",
    "\n",
    "diag2 = (diag.T).dot(diag)\n",
    "diag2"
   ]
  },
  {
   "cell_type": "code",
   "execution_count": 135,
   "metadata": {},
   "outputs": [
    {
     "data": {
      "text/plain": [
       "array([[ 0.25,  0.25,  0.25,  0.25],\n",
       "       [ 0.25,  0.25, -0.25, -0.25],\n",
       "       [ 0.5 , -0.5 ,  0.  ,  0.  ],\n",
       "       [ 0.  ,  0.  ,  0.5 , -0.5 ]])"
      ]
     },
     "execution_count": 135,
     "metadata": {},
     "output_type": "execute_result"
    }
   ],
   "source": [
    "W4inv = diag2.dot(W4T)\n",
    "W4inv"
   ]
  },
  {
   "cell_type": "code",
   "execution_count": 136,
   "metadata": {},
   "outputs": [
    {
     "data": {
      "text/plain": [
       "array([[ 1.5],\n",
       "       [ 0. ],\n",
       "       [-0.5],\n",
       "       [ 1.5]])"
      ]
     },
     "execution_count": 136,
     "metadata": {},
     "output_type": "execute_result"
    }
   ],
   "source": [
    "#haar\n",
    "c = np.array([[1,2,3,0]])\n",
    "W4inv.dot(c.T)"
   ]
  },
  {
   "cell_type": "code",
   "execution_count": 137,
   "metadata": {},
   "outputs": [
    {
     "data": {
      "text/plain": [
       "array([[ 0.125,  0.125,  0.125,  0.125,  0.125,  0.125,  0.125,  0.125],\n",
       "       [ 0.125,  0.125,  0.125,  0.125, -0.125, -0.125, -0.125, -0.125],\n",
       "       [ 0.25 ,  0.25 , -0.25 , -0.25 ,  0.   ,  0.   ,  0.   ,  0.   ],\n",
       "       [ 0.   ,  0.   ,  0.   ,  0.   ,  0.25 ,  0.25 , -0.25 , -0.25 ],\n",
       "       [ 0.5  , -0.5  ,  0.   ,  0.   ,  0.   ,  0.   ,  0.   ,  0.   ],\n",
       "       [ 0.   ,  0.   ,  0.5  , -0.5  ,  0.   ,  0.   ,  0.   ,  0.   ],\n",
       "       [ 0.   ,  0.   ,  0.   ,  0.   ,  0.5  , -0.5  ,  0.   ,  0.   ],\n",
       "       [ 0.   ,  0.   ,  0.   ,  0.   ,  0.   ,  0.   ,  0.5  , -0.5  ]])"
      ]
     },
     "execution_count": 137,
     "metadata": {},
     "output_type": "execute_result"
    }
   ],
   "source": [
    "W8T = np.array([\n",
    "                [ 1,  1,  1,  1,  1,  1,  1,  1],\n",
    "                [ 1,  1,  1,  1, -1, -1, -1, -1],\n",
    "                [ 1,  1, -1, -1,  0,  0,  0,  0],\n",
    "                [ 0,  0,  0,  0,  1,  1, -1, -1],\n",
    "                [ 1, -1,  0,  0,  0,  0,  0,  0],\n",
    "                [ 0,  0,  1, -1,  0,  0,  0,  0],\n",
    "                [ 0,  0,  0,  0,  1, -1,  0,  0],\n",
    "                [ 0,  0,  0,  0,  0,  0,  1, -1] ])\n",
    "\n",
    "norms = [1/np.linalg.norm(x) for x in W8T]\n",
    "\n",
    "diag8 = np.array(np.identity(8))\n",
    "\n",
    "for x in range(8):\n",
    "    diag8[x,x] = norms[x]\n",
    "\n",
    "diag8_sqrd = (diag8.T).dot(diag8)\n",
    "W8inv = diag8_sqrd.dot(W8T)\n",
    "W8inv"
   ]
  },
  {
   "cell_type": "code",
   "execution_count": 139,
   "metadata": {},
   "outputs": [
    {
     "name": "stdout",
     "output_type": "stream",
     "text": [
      "[[ 0.875]\n",
      " [ 0.625]\n",
      " [ 0.   ]\n",
      " [-0.25 ]\n",
      " [-0.5  ]\n",
      " [ 1.5  ]\n",
      " [ 0.   ]\n",
      " [-0.5  ]]\n"
     ]
    }
   ],
   "source": [
    "c2 = np.array([[1,2,3,0,0,0,0,1]])\n",
    "print(W8inv.dot(c2.T))"
   ]
  },
  {
   "cell_type": "markdown",
   "metadata": {},
   "source": [
    "# Pregunta 3"
   ]
  },
  {
   "cell_type": "code",
   "execution_count": 119,
   "metadata": {},
   "outputs": [],
   "source": [
    "def A(n):\n",
    "    ret = np.identity(n)\n",
    "    for i in range(n-1):\n",
    "        ret[i,i+1] = -2    \n",
    "    return ret"
   ]
  },
  {
   "cell_type": "code",
   "execution_count": 120,
   "metadata": {},
   "outputs": [
    {
     "data": {
      "text/plain": [
       "array([[ 1., -2.,  0., ...,  0.,  0.,  0.],\n",
       "       [ 0.,  1., -2., ...,  0.,  0.,  0.],\n",
       "       [ 0.,  0.,  1., ...,  0.,  0.,  0.],\n",
       "       ...,\n",
       "       [ 0.,  0.,  0., ...,  1., -2.,  0.],\n",
       "       [ 0.,  0.,  0., ...,  0.,  1., -2.],\n",
       "       [ 0.,  0.,  0., ...,  0.,  0.,  1.]])"
      ]
     },
     "execution_count": 120,
     "metadata": {},
     "output_type": "execute_result"
    }
   ],
   "source": [
    "A(100)"
   ]
  },
  {
   "cell_type": "code",
   "execution_count": 155,
   "metadata": {},
   "outputs": [
    {
     "data": {
      "text/plain": [
       "array([[1.00000000e+00, 2.00000000e+00, 4.00000000e+00, ...,\n",
       "        1.58456325e+29, 3.16912650e+29, 6.33825300e+29],\n",
       "       [0.00000000e+00, 1.00000000e+00, 2.00000000e+00, ...,\n",
       "        7.92281625e+28, 1.58456325e+29, 3.16912650e+29],\n",
       "       [0.00000000e+00, 0.00000000e+00, 1.00000000e+00, ...,\n",
       "        3.96140813e+28, 7.92281625e+28, 1.58456325e+29],\n",
       "       ...,\n",
       "       [0.00000000e+00, 0.00000000e+00, 0.00000000e+00, ...,\n",
       "        1.00000000e+00, 2.00000000e+00, 4.00000000e+00],\n",
       "       [0.00000000e+00, 0.00000000e+00, 0.00000000e+00, ...,\n",
       "        0.00000000e+00, 1.00000000e+00, 2.00000000e+00],\n",
       "       [0.00000000e+00, 0.00000000e+00, 0.00000000e+00, ...,\n",
       "        0.00000000e+00, 0.00000000e+00, 1.00000000e+00]])"
      ]
     },
     "execution_count": 155,
     "metadata": {},
     "output_type": "execute_result"
    }
   ],
   "source": [
    "# C -> A_{n}^{-1} sin obtener la inversa numericamente\n",
    "def Anot1(n):\n",
    "    ret = np.zeros((n,n))\n",
    "    for i in range(n):\n",
    "        for j in range(n):\n",
    "            if i <= j:\n",
    "                ret[i,j] = 2**(j-i)\n",
    "            else:\n",
    "                ret[i,j] = 0\n",
    "    return ret\n",
    "Anot1(100)"
   ]
  },
  {
   "cell_type": "code",
   "execution_count": 156,
   "metadata": {},
   "outputs": [
    {
     "data": {
      "text/plain": [
       "array([[1., 0., 0., ..., 0., 0., 0.],\n",
       "       [0., 1., 0., ..., 0., 0., 0.],\n",
       "       [0., 0., 1., ..., 0., 0., 0.],\n",
       "       ...,\n",
       "       [0., 0., 0., ..., 1., 0., 0.],\n",
       "       [0., 0., 0., ..., 0., 1., 0.],\n",
       "       [0., 0., 0., ..., 0., 0., 1.]])"
      ]
     },
     "execution_count": 156,
     "metadata": {},
     "output_type": "execute_result"
    }
   ],
   "source": [
    "(A(100)).dot(Anot1(100))"
   ]
  },
  {
   "cell_type": "code",
   "execution_count": 122,
   "metadata": {},
   "outputs": [
    {
     "data": {
      "text/plain": [
       "array([ 0.00000000e+00,  6.34239197e-02,  1.26592454e-01,  1.89251244e-01,\n",
       "        2.51147987e-01,  3.12033446e-01,  3.71662456e-01,  4.29794912e-01,\n",
       "        4.86196736e-01,  5.40640817e-01,  5.92907929e-01,  6.42787610e-01,\n",
       "        6.90079011e-01,  7.34591709e-01,  7.76146464e-01,  8.14575952e-01,\n",
       "        8.49725430e-01,  8.81453363e-01,  9.09631995e-01,  9.34147860e-01,\n",
       "        9.54902241e-01,  9.71811568e-01,  9.84807753e-01,  9.93838464e-01,\n",
       "        9.98867339e-01,  9.99874128e-01,  9.96854776e-01,  9.89821442e-01,\n",
       "        9.78802446e-01,  9.63842159e-01,  9.45000819e-01,  9.22354294e-01,\n",
       "        8.95993774e-01,  8.66025404e-01,  8.32569855e-01,  7.95761841e-01,\n",
       "        7.55749574e-01,  7.12694171e-01,  6.66769001e-01,  6.18158986e-01,\n",
       "        5.67059864e-01,  5.13677392e-01,  4.58226522e-01,  4.00930535e-01,\n",
       "        3.42020143e-01,  2.81732557e-01,  2.20310533e-01,  1.58001396e-01,\n",
       "        9.50560433e-02,  3.17279335e-02, -3.17279335e-02, -9.50560433e-02,\n",
       "       -1.58001396e-01, -2.20310533e-01, -2.81732557e-01, -3.42020143e-01,\n",
       "       -4.00930535e-01, -4.58226522e-01, -5.13677392e-01, -5.67059864e-01,\n",
       "       -6.18158986e-01, -6.66769001e-01, -7.12694171e-01, -7.55749574e-01,\n",
       "       -7.95761841e-01, -8.32569855e-01, -8.66025404e-01, -8.95993774e-01,\n",
       "       -9.22354294e-01, -9.45000819e-01, -9.63842159e-01, -9.78802446e-01,\n",
       "       -9.89821442e-01, -9.96854776e-01, -9.99874128e-01, -9.98867339e-01,\n",
       "       -9.93838464e-01, -9.84807753e-01, -9.71811568e-01, -9.54902241e-01,\n",
       "       -9.34147860e-01, -9.09631995e-01, -8.81453363e-01, -8.49725430e-01,\n",
       "       -8.14575952e-01, -7.76146464e-01, -7.34591709e-01, -6.90079011e-01,\n",
       "       -6.42787610e-01, -5.92907929e-01, -5.40640817e-01, -4.86196736e-01,\n",
       "       -4.29794912e-01, -3.71662456e-01, -3.12033446e-01, -2.51147987e-01,\n",
       "       -1.89251244e-01, -1.26592454e-01, -6.34239197e-02, -2.44929360e-16])"
      ]
     },
     "execution_count": 122,
     "metadata": {},
     "output_type": "execute_result"
    }
   ],
   "source": [
    "b = np.sin(np.linspace(0, 2*np.pi, 100))\n",
    "b"
   ]
  },
  {
   "cell_type": "code",
   "execution_count": 151,
   "metadata": {},
   "outputs": [
    {
     "name": "stdout",
     "output_type": "stream",
     "text": [
      "[0.00000000e+00 2.51841060e-01 3.55798333e-01 4.35030165e-01\n",
      " 5.01146672e-01 5.58599540e-01 6.09641252e-01 6.55587456e-01\n",
      " 6.97278091e-01 7.35282815e-01 7.70005149e-01 8.01740363e-01\n",
      " 8.30709944e-01 8.57083257e-01 8.80991750e-01 9.02538615e-01\n",
      " 9.21805527e-01 9.38857478e-01 9.53746295e-01 9.66513249e-01\n",
      " 9.77190995e-01 9.85805036e-01 9.92374805e-01 9.96914472e-01\n",
      " 9.99433509e-01 9.99937062e-01 9.98426149e-01 9.94897704e-01\n",
      " 9.89344453e-01 9.81754633e-01 9.72111526e-01 9.60392781e-01\n",
      " 9.46569477e-01 9.30604859e-01 9.12452659e-01 8.92054842e-01\n",
      " 8.69338584e-01 8.44212160e-01 8.16559245e-01 7.86230873e-01\n",
      " 7.53033773e-01 7.16712907e-01 6.76924310e-01 6.33190758e-01\n",
      " 5.84824883e-01            nan            nan 1.81662863e-01\n",
      "            nan 2.18616902e-02            nan            nan\n",
      " 4.64204053e-02 1.98139399e-02            nan            nan\n",
      " 1.38748502e-02 5.04295524e-03            nan            nan\n",
      "            nan 1.39087825e-03 1.37987702e-03            nan\n",
      " 4.70682400e-04 4.70482729e-04            nan 2.33414144e-04\n",
      "            nan 9.27243287e-05            nan 6.15342265e-05\n",
      "            nan 2.37616175e-05            nan            nan\n",
      " 1.21310279e-05            nan            nan            nan\n",
      " 2.77141569e-06            nan            nan 1.18653859e-06\n",
      "            nan            nan            nan 0.00000000e+00\n",
      " 2.31088138e-07            nan            nan            nan\n",
      " 3.72529030e-08            nan 1.97123834e-08            nan\n",
      " 0.00000000e+00 5.26835606e-09 0.00000000e+00 0.00000000e+00]\n"
     ]
    },
    {
     "name": "stderr",
     "output_type": "stream",
     "text": [
      "C:\\Users\\marth\\Anaconda3\\lib\\site-packages\\ipykernel_launcher.py:16: RuntimeWarning: invalid value encountered in sqrt\n",
      "  app.launch_new_instance()\n"
     ]
    },
    {
     "data": {
      "text/plain": [
       "4.963627548075938"
      ]
     },
     "execution_count": 151,
     "metadata": {},
     "output_type": "execute_result"
    }
   ],
   "source": [
    "# solve A100 x = b\n",
    "# x = [A100]^{-1}b\n",
    "x = (Anot1(100)).dot(b)\n",
    "\n",
    "A100_X = (A(100)).dot(x)\n",
    "\n",
    "Norm = b - A100_X\n",
    "\n",
    "#print(Norm)\n",
    "#print(x)\n",
    "#print(b)\n",
    "\n",
    "ret = [i**2 for i in Norm]\n",
    "np.sqrt(sum(ret))\n",
    "\n",
    "print(norm2(Norm))\n",
    "np.linalg.norm(Norm)"
   ]
  },
  {
   "cell_type": "markdown",
   "metadata": {},
   "source": [
    "## Pregunta 6 \n",
    "#### b)"
   ]
  },
  {
   "cell_type": "code",
   "execution_count": 74,
   "metadata": {},
   "outputs": [
    {
     "data": {
      "image/png": "[encoded data removed]",
      "text/plain": [
       "<Figure size 1080x504 with 2 Axes>"
      ]
     },
     "metadata": {
      "needs_background": "light"
     },
     "output_type": "display_data"
    }
   ],
   "source": [
    "\n",
    "\n",
    "f1 = lambda C,L: 200*L*((1-(1-C)**2)/C)\n",
    "f2 = lambda C,L: 200*L*(2-C)\n",
    "\n",
    "r = np.logspace(-17, -1, num=10000)\n",
    "\n",
    "F1 = f1(r,1)\n",
    "F2 = f2(r,1)\n",
    "\n",
    "plt.figure(figsize=(15,7))\n",
    "\n",
    "plt.subplot(2,2,1)\n",
    "plt.plot(r, f1(r,1))\n",
    "plt.xlabel(\"Valores de C\")\n",
    "plt.ylabel(\"f1(c,1)\")\n",
    "plt.title(\"R(C,L) = 200*L*((1-(1-C)**2)/C)\")\n",
    "plt.xscale('log')\n",
    "\n",
    "plt.subplot(2,2,2)\n",
    "plt.plot(r, f2(r,1))\n",
    "plt.xscale('log')\n",
    "plt.xlabel(\"Valores de C\")\n",
    "plt.ylabel(\"f2(c,1)\")\n",
    "plt.title(\"R(C,L) = 200*L*(2-C)\")\n",
    "plt.xscale('log')\n",
    "\n",
    "plt.show()"
   ]
  },
  {
   "cell_type": "code",
   "execution_count": null,
   "metadata": {},
   "outputs": [],
   "source": []
  },
  {
   "cell_type": "code",
   "execution_count": null,
   "metadata": {},
   "outputs": [],
   "source": []
  },
  {
   "cell_type": "code",
   "execution_count": null,
   "metadata": {},
   "outputs": [],
   "source": []
  },
  {
   "cell_type": "code",
   "execution_count": null,
   "metadata": {},
   "outputs": [],
   "source": []
  },
  {
   "cell_type": "code",
   "execution_count": null,
   "metadata": {},
   "outputs": [],
   "source": []
  },
  {
   "cell_type": "code",
   "execution_count": null,
   "metadata": {},
   "outputs": [],
   "source": []
  },
  {
   "cell_type": "code",
   "execution_count": null,
   "metadata": {},
   "outputs": [],
   "source": []
  },
  {
   "cell_type": "code",
   "execution_count": null,
   "metadata": {},
   "outputs": [],
   "source": []
  },
  {
   "cell_type": "code",
   "execution_count": null,
   "metadata": {},
   "outputs": [],
   "source": []
  },
  {
   "cell_type": "code",
   "execution_count": null,
   "metadata": {},
   "outputs": [],
   "source": []
  }
 ],
 "metadata": {
  "kernelspec": {
   "display_name": "Python 3",
   "language": "python",
   "name": "python3"
  },
  "language_info": {
   "codemirror_mode": {
    "name": "ipython",
    "version": 3
   },
   "file_extension": ".py",
   "mimetype": "text/x-python",
   "name": "python",
   "nbconvert_exporter": "python",
   "pygments_lexer": "ipython3",
   "version": "3.7.4"
  }
 },
 "nbformat": 4,
 "nbformat_minor": 2
}
