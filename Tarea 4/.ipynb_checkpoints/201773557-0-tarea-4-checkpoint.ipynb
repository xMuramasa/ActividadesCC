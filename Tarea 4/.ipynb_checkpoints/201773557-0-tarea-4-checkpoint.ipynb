{
 "cells": [
  {
   "cell_type": "markdown",
   "metadata": {
    "colab_type": "text",
    "id": "tXFdqRn2MogS"
   },
   "source": [
    "# Tarea 4: Restauración de imagenes"
   ]
  },
  {
   "cell_type": "markdown",
   "metadata": {},
   "source": [
    "## Instrucciones\n",
    "\n",
    "* La tarea es individual.\n",
    "* Las consultas sobre las tareas se deben realizar por medio de la plataforma Aula.\n",
    "* La tarea debe ser realizada en `Jupyter Notebook` (`Python3`).\n",
    "* Se evaluará la correcta utilización de librerias `NumPy`, `SciPy`, entre otras, así como la correcta utilizacion de algoritmos de forma vectorizada.\n",
    "*  **El archivo de entrega debe denominarse ROL-tarea-numero.ipynb**. _De no respetarse este formato existirá un descuento de **50 puntos**_\n",
    "* La fecha de entrega es el viernes 31 de Julio a las **18:00 hrs**.  Se aceptarán entregas hasta las 19:00 hrs sin descuento en caso de existir algun problema, posteriormente existirá un descuento lineal hasta las 20:00 hrs del mismo día.\n",
    "* Las tareas que sean entregadas antes del jueves a mediodía recibirán una bonificación de 10 puntos\n",
    "* Debe citar cualquier código ajeno utilizado (incluso si proviene de los Jupyter Notebooks del curso)."
   ]
  },
  {
   "cell_type": "code",
   "execution_count": null,
   "metadata": {},
   "outputs": [],
   "source": [
    "import numpy as np\n",
    "import scipy as sp\n",
    "import matplotlib.pyplot as plt\n",
    "from skimage.metrics import structural_similarity as ssim\n",
    "from scipy.optimize import minimize"
   ]
  },
  {
   "cell_type": "markdown",
   "metadata": {
    "colab_type": "text",
    "id": "vkmmJRIgzlT7"
   },
   "source": [
    "# Introducción"
   ]
  },
  {
   "cell_type": "markdown",
   "metadata": {
    "colab_type": "text",
    "id": "H_4hmMHbzpwx"
   },
   "source": [
    "Como se vio en la tarea anterior la interpolación bicúbica sirve para aumentar la dimensión de una imagen obteniendo valores de nuevos pixeles interiores. En esta tarea se verá otra aplicación a la interpolación bicúbica para la restauración de imágenes"
   ]
  },
  {
   "cell_type": "markdown",
   "metadata": {
    "colab_type": "text",
    "id": "k3aW0XcyLtAw"
   },
   "source": [
    "# Eliminación de ruido "
   ]
  },
  {
   "cell_type": "markdown",
   "metadata": {
    "colab_type": "text",
    "id": "Gf7AEXweLzMb"
   },
   "source": [
    "\n",
    "Supongamos que se tiene una imagen $X$ cuyos pixeles presentan valores $I_{xy}$ con ruido y se quiere volver a la imagen original\n"
   ]
  },
  {
   "cell_type": "code",
   "execution_count": null,
   "metadata": {
    "colab": {
     "base_uri": "https://localhost:8080/",
     "height": 297
    },
    "colab_type": "code",
    "collapsed": false,
    "id": "U5WuO1Uo7coP",
    "jupyter": {
     "outputs_hidden": false
    },
    "outputId": "59bbe47f-4b5e-40b9-f53a-58b1feb38fa7"
   },
   "outputs": [],
   "source": [
    "\n",
    "from skimage import data, img_as_float\n",
    "from skimage.metrics import structural_similarity as ssim\n",
    "from skimage.metrics import mean_squared_error\n",
    "from skimage import io\n",
    "from skimage import color\n",
    "\n",
    "img = color.rgb2gray(io.imread('test.png'))\n",
    "\n",
    "img = img_as_float(img)\n",
    "\n",
    "rows, cols = img.shape\n",
    "\n",
    "\n",
    "noise = np.ones_like(img) * 0.2 * (img.max() - img.min())\n",
    "noise[np.random.random(size=noise.shape) > 0.5] *= -1\n",
    "\n",
    "img_noise = img + noise\n",
    "\n",
    "fig, axes = plt.subplots(nrows=1, ncols=2, figsize=(10, 4),\n",
    "                         sharex=True, sharey=True)\n",
    "ax = axes.ravel()\n",
    "\n",
    "\n",
    "ax[0].imshow(img, cmap=plt.cm.gray, vmin=0, vmax=1)\n",
    "\n",
    "ax[0].set_title('Original image')\n",
    "\n",
    "ax[1].imshow(img_noise, cmap=plt.cm.gray, vmin=0, vmax=1)\n",
    "ax[1].set_title('Image with noise')\n",
    "\n",
    "plt.tight_layout()\n",
    "plt.show()"
   ]
  },
  {
   "cell_type": "markdown",
   "metadata": {
    "colab_type": "text",
    "id": "xVk-5BppOteH"
   },
   "source": [
    "El método a implementar, será utilizando la interpolación bicúbica que viene representada por la siguiente spline\n",
    "\n",
    "$$\n",
    "p(x,y) = \\sum\\limits_{i=0}^3 \\sum_{j=0}^3 a_{ij} x^i y^j.\n",
    "$$\n",
    "Como se puede observar el problema de interpolación se resume en determinar los 16 coeficientes $a_{ij}$. Ya que la imagen presenta ruido, no se puede despejar los coeficientes asumiendo que los valores de las derivadas $f_x$, $f_y$ y $f_{xy}$ son correctas. \n",
    "\n",
    "Para determinar los coeficientes se seleccionara secciones solapadas de la imagen de $5\\times5 $ pixeles y se determinará una función $p_i$ por cada sección, ejemplificando con una imagen de $9\\times 9$  las secciones quedarían de la siguiente manera:\n"
   ]
  },
  {
   "cell_type": "markdown",
   "metadata": {
    "colab_type": "text",
    "id": "4q3tGPEKzJWn"
   },
   "source": [
    "<img src=\"matriz_seccion.png\" width=\"50%\"/>"
   ]
  },
  {
   "cell_type": "markdown",
   "metadata": {
    "colab_type": "text",
    "id": "YsBNHSYhYLVa"
   },
   "source": [
    "Se busca la minimización del error cuadrático entre la spline generada $p_i$ y el punto de la imagen, en el caso del ejemplo anterior la función objetivo a minimizar es:\n",
    "\n",
    "$$(p_1(0,0)-I_{00})^2 + (p_1(0,1)-I_{01})^2 +\\dots+(p_1(4,4)-I_{44})^2 + (p_2(4,4)-I_{44})^2+ \\dots+(p_4(8,8)-I_{88})^2 $$\n"
   ]
  },
  {
   "cell_type": "markdown",
   "metadata": {
    "colab_type": "text",
    "id": "H8Btw8YKz3kO"
   },
   "source": [
    "Ya que la imagen debe presentar continuidad entre las secciones los pixeles que abarcan más de una deben presentar el mismo valor por lo tanto existen restricciones que se deben cumplir:"
   ]
  },
  {
   "cell_type": "markdown",
   "metadata": {},
   "source": [
    "$$p_1(0,4) = p_2(0,4)$$\n",
    "$$p_1(4,4) = p_2(4,4)$$\n",
    "$$p_1(4,0) = p_3(4,0)$$\n",
    "$$p_1(4,4) = p_3(4,4)$$\n",
    "$$\\vdots$$\n",
    "\n",
    "Es decir los valores de los pixeles de solamente las **esquinas** deben ser iguales en todas las secciones que coinciden "
   ]
  },
  {
   "cell_type": "markdown",
   "metadata": {},
   "source": [
    "Finalmente al obtener los valores de los coeficientes la nueva imagen será el resultado de la evaluación de todos los pixeles en su spline respectiva"
   ]
  },
  {
   "cell_type": "markdown",
   "metadata": {},
   "source": [
    "# Preguntas"
   ]
  },
  {
   "cell_type": "markdown",
   "metadata": {},
   "source": [
    "## 1.Restauración de imagenes"
   ]
  },
  {
   "cell_type": "markdown",
   "metadata": {},
   "source": [
    "### 1.1 Generar $p_i(x,y)$ (10 pts)\n",
    "\n",
    "Debe implementar la función `spline_evaluate` que reciba un arreglo con los valores de los coeficientes y el valor de la coordenada $x$ e $y$ del pixel y debe retornar el valor del pixel evaluado en la spline\n"
   ]
  },
  {
   "cell_type": "code",
   "execution_count": null,
   "metadata": {
    "colab": {},
    "colab_type": "code",
    "collapsed": false,
    "id": "hQ-q7BDT0-LP",
    "jupyter": {
     "outputs_hidden": false
    }
   },
   "outputs": [],
   "source": [
    "def spline_evaluate(a, pos):\n",
    "    '''\n",
    "    a: (array 16) arreglo de coeficientes\n",
    "    pos: (tuple) tupla con forma (x,y) que representa la posicion del pixel\n",
    "    \n",
    "    return\n",
    "    value: (float) evaluacion del pixel\n",
    "      \n",
    "    '''\n",
    "    new_a = a.reshape(4,4).T\n",
    "    \n",
    "    x, y = pos\n",
    "    P = lambda x, y, a: np.array([x**i for i in range(4)]) @ a @ np.array([y**i for i in range(4)])\n",
    "    \n",
    "    value = P(x, y, new_a)\n",
    "    \n",
    "    return value"
   ]
  },
  {
   "cell_type": "markdown",
   "metadata": {},
   "source": [
    "### 1.2 Generar funcion a minimizar (25 pts)\n",
    "\n",
    "Debe implementar la función `objective_function` que reciba un arreglo con los valores de todos los coeficientes necesarios y la imagen con ruido, y debe retornar el error cuadrático entre el polinomio y el valor del pixel de la imagen.\n"
   ]
  },
  {
   "cell_type": "code",
   "execution_count": null,
   "metadata": {
    "collapsed": false,
    "jupyter": {
     "outputs_hidden": false
    }
   },
   "outputs": [],
   "source": [
    "def objective_function(a,image):\n",
    "    '''\n",
    "    a: (array) array con todos los coeficientes \n",
    "    image: (array nxn) imagen que presenta ruido en sus datos\n",
    "    \n",
    "    return\n",
    "    error: suma total del error cuadratico entre la spline evaluada y el valor del pixel respectivo\n",
    "    \n",
    "    '''\n",
    "    \n",
    "    n = image.shape[0]\n",
    "    \n",
    "    error = 0\n",
    "    \n",
    "    # function to compute sqrd error\n",
    "    errSqrd = lambda p_sec, I_sec: np.sum([(p_ij - I_ij)**2 for p_ij, I_ij in zip(p_sec, I_sec)])\n",
    "    \n",
    "    # index for array of alphas\n",
    "    a_index = 0\n",
    "    # n = 4k + 1, for some k   \n",
    "    for i in range(0, n, 4):\n",
    "        for j in range(0, n, 4):\n",
    "            if i+4 < n and j + 4 < n:\n",
    "\n",
    "                # sqr pos of matrix\n",
    "                I_s = (image[i: i+5, j: j+5])\n",
    "\n",
    "                # this is big brain stuff\n",
    "                # square matrix (5x5) with i,j coefficients in each pos\n",
    "                # eg: if i = 1 then p_ij[0] = [1,1]; p_ij[1] = [1,2]; etc\n",
    "                # p_xs = np.mgrid[i:i+5, j:j+5].reshape(2,-1).T\n",
    "                p_xs = np.mgrid[0:1.25:0.25, 0:1.25:0.25].reshape(2,-1).T\n",
    "\n",
    "                # slice a to form matrix for MATRIX MULTIPLICATION\n",
    "                a_secc = a[a_index : a_index + 16]\n",
    "\n",
    "                # hasta ahora esta sumando de mas las partes p_1(x,y) = p_2(x,y)\n",
    "\n",
    "                # compute sline evaluate for every pixel in p_xs\n",
    "                p_s = np.array([spline_evaluate(a_secc, p) for p in p_xs])\n",
    "\n",
    "                # compute squared difference between pixel and p(i,j)\n",
    "                error += errSqrd(p_s, I_s.reshape(25))\n",
    "\n",
    "                a_index += 16\n",
    "                \n",
    "    return error"
   ]
  },
  {
   "cell_type": "markdown",
   "metadata": {},
   "source": [
    "### 1.3 Generar Restricciones (25 pts)\n",
    "\n",
    "Se debe implementar la función `create_constraints` que reciba la imagen y retorne una lista de diccionarios con las restricciones del problema. El diccionario debe tener la siguiente estructura:\n",
    "\n",
    "`{\"type: \"eq\", \"fun\": funcion_con_restriccion}`\n",
    "\n"
   ]
  },
  {
   "cell_type": "code",
   "execution_count": null,
   "metadata": {
    "collapsed": false,
    "jupyter": {
     "outputs_hidden": false
    }
   },
   "outputs": [],
   "source": [
    "def create_constraints(image):\n",
    "    '''\n",
    "    image: (array nxn) imagen que presenta ruido en sus datos\n",
    "\n",
    "    return\n",
    "    constraints: (list) lista de restricciones  \n",
    "    '''\n",
    "    constraints = list()\n",
    "    \n",
    "    n = image.shape[0]\n",
    "    n_splines = 0\n",
    "    \n",
    "    # ROW CONSTRAINTS\n",
    "    for row_up_down in range(4, n-1, 4):\n",
    "        \n",
    "        # UP\n",
    "        ru = row_up_down*16\n",
    "        ru_next = (row_up_down+1)*16\n",
    "        \n",
    "        constranints.append( {\"type\":\"eq\", \"fun\": lambda a, row_up_down: \n",
    "                spline_evaluate(a[ru: ru+16], (0,1)) == spline_evaluate(a[ru_next: ru_next+16], (0,0))})\n",
    "        \n",
    "        # DOWN\n",
    "        rd = (row_up_down + n_splines)*16\n",
    "        rd_next = ((row_up_down +n_splines)+1)*16\n",
    "        constranints.append( {\"type\":\"eq\", \"fun\": lambda a, row_up_down: \n",
    "                spline_evaluate(a[rd: r_u_drd+16], (1,1)) == spline_evaluate(a[rd: r_u_d+16], (1,0))})\n",
    "        \n",
    "        n_splines +=1\n",
    "    \n",
    "    # COL CONSTRAINTS\n",
    "    for row_up_down in range(4, n-1, 4):\n",
    "        r_u_d = row_up_down*16\n",
    "        # LEFT\n",
    "        constranints.append( {\"type\":\"eq\", \"fun\": lambda a, row_up_down: \n",
    "                spline_evaluate(a[r_u_d: r_u_d+16], (1,0)) == spline_evaluate(a[r_u_d: r_u_d+16], (0,0))})\n",
    "        # RIGHT\n",
    "        constranints.append( {\"type\":\"eq\", \"fun\": lambda a, row_up_down: \n",
    "                spline_evaluate(a[r_u_d: r_u_d+16], (1,1)) == spline_evaluate(a[r_u_d: r_u_d+16], (0,1))})\n",
    "    \n",
    "    \n",
    "    for i in range(0, n, 4):\n",
    "        for j in range(0, n, 4):\n",
    "            if i+4 < n and j + 4 < n:\n",
    "                \"\"\" xd \"\"\"\n",
    "                \n",
    "            \n",
    "            \n",
    "    \n",
    "    \n",
    "    return constraints"
   ]
  },
  {
   "cell_type": "markdown",
   "metadata": {},
   "source": [
    "### 1.4 Generar nueva imagen (30 pts)\n",
    "Se debe implementar la función `clean_image` que reciba un arreglo con una imagen en escala de grises y si es que se consideran las restricciones de continuidad. Debe retornar una nueva imagen con el ruido minimizado. \n",
    "Para realizar la minimización, debe utilizarse la función [minimize de la libreria de scipy](https://docs.scipy.org/doc/scipy/reference/generated/scipy.optimize.minimize.html)\n"
   ]
  },
  {
   "cell_type": "code",
   "execution_count": null,
   "metadata": {},
   "outputs": [],
   "source": [
    "def clean_image(image,constraints):\n",
    "    '''\n",
    "    image: (array nxn) imagen con ruido\n",
    "    constraints: (bool) true si es que se consideran las restricciones\n",
    "    \n",
    "    return\n",
    "    new_iamge: (array nxn) imagen restaurada\n",
    "    '''\n",
    "    \n",
    "    n = image.shape[0]\n",
    "    x0 = np.zeros(int(16*((n-5)/4 + 1)**2))\n",
    "    \n",
    "    if constraints:\n",
    "        cons = create_constraints(image)\n",
    "        alphas = sp.optimize.minimize(objective_function, x0,(image), constraints = cons)\n",
    "    else:\n",
    "        alphas = sp.optimize.minimize(objective_function, x0,(image))\n",
    "    print(alphas)\n",
    "    \n",
    "    a = alphas.x\n",
    "    # prepare new_image\n",
    "    new_image = np.zeros_like(image)\n",
    "    \n",
    "    splines = (a.shape[0]/16)\n",
    "    \n",
    "    # offset in new images\n",
    "    new_r = 0\n",
    "    new_l = 0\n",
    "    \n",
    "    for s in range(int(splines)):\n",
    "        for row_m in range(0,5):\n",
    "            for col_m in range(0,5):\n",
    "                new_image[row_m+new_r , col_m + new_l] = spline_evaluate(\n",
    "                                                                        a[s*16: s*16 +16], (row_m/4, col_m/4))\n",
    "        new_r += 4\n",
    "        if(new_r >= n-1):\n",
    "            new_r=0\n",
    "            new_l +=4    \n",
    "        \n",
    "    return new_image"
   ]
  },
  {
   "cell_type": "code",
   "execution_count": null,
   "metadata": {},
   "outputs": [],
   "source": [
    "img_new = clean_image(img_noise, False)\n",
    "imgplot = plt.imshow(img_new, cmap=plt.cm.gray)\n",
    "plt.show()"
   ]
  },
  {
   "cell_type": "markdown",
   "metadata": {},
   "source": [
    "## 2. Evaluar error (5 pts)\n",
    "\n",
    "Implemente la función `error_restore` la cual debe obtener el error de la imagen obtenida comparándola con una de referencia. El error debe ser calculado utilizando el índice SSIM (Structural similarity)"
   ]
  },
  {
   "cell_type": "code",
   "execution_count": null,
   "metadata": {
    "collapsed": false,
    "jupyter": {
     "outputs_hidden": false
    }
   },
   "outputs": [],
   "source": [
    "def error_restore(original,new):\n",
    "    \"\"\"\n",
    "    Parameters\n",
    "    ----------\n",
    "    image:\t(nxn array) imagen original limpia\n",
    "    new:\t(nxn array) imagen restaurada\n",
    "\n",
    "\n",
    "    Returns\n",
    "    -------\n",
    "    error:\t(float) diferencia entre imagenes (1-ssim) \n",
    "\n",
    "    \"\"\"\n",
    "    n = new.shape[0]\n",
    "    error = 1 - ssim(original, new, multichannel=True, data_shape=n)\n",
    "    \n",
    "    return error"
   ]
  },
  {
   "cell_type": "markdown",
   "metadata": {},
   "source": [
    "**Pregunta: ¿Como afecta el uso de restricciones en el error?** (5 pts)"
   ]
  },
  {
   "cell_type": "markdown",
   "metadata": {},
   "source": [
    "Al hacer uso de constraints, el error debería disminuir. Esto debido a que se fuerza al sistema a tener puntos de continuidad, resultando en una mayor nitidez en la imagen.\n",
    "Además, con las restricciones se hace un tradeoff entre calidad de la imagen y tiempo de ejecución."
   ]
  },
  {
   "cell_type": "markdown",
   "metadata": {},
   "source": [
    "# Consideraciones\n",
    "\n",
    "* Se trabajará con imágenes cuadradas en escala de grises\n",
    "* Las imágenes tendrán una dimensión adecuada para que no sobren o falten pixeles para la agrupación de $5\\times5$\n",
    "* Para los casos de los pixeles que no tienen restricción pero pueden ser evaluados por distintas splines considere el valor de la spline de la izquierda o superior\n"
   ]
  }
 ],
 "metadata": {
  "colab": {
   "name": "Untitled",
   "provenance": [],
   "toc_visible": true
  },
  "kernelspec": {
   "display_name": "Python 3",
   "language": "python",
   "name": "python3"
  },
  "language_info": {
   "codemirror_mode": {
    "name": "ipython",
    "version": 3
   },
   "file_extension": ".py",
   "mimetype": "text/x-python",
   "name": "python",
   "nbconvert_exporter": "python",
   "pygments_lexer": "ipython3",
   "version": "3.8.3"
  }
 },
 "nbformat": 4,
 "nbformat_minor": 4
}
