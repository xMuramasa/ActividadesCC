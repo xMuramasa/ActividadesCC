{
 "cells": [
  {
   "cell_type": "markdown",
   "metadata": {},
   "source": [
    "# INF-285 / ILI-285\n",
    "##  Desafío 4\n",
    "### SCT 2020-1"
   ]
  },
  {
   "cell_type": "markdown",
   "metadata": {
    "colab_type": "text",
    "id": "JZTwv1PmA-mn"
   },
   "source": [
    "# Instrucciones\n",
    "\n",
    "- El desafío es individual, por lo cual se considera que todo el código entregado es de elaboración propia y no ha sido compartido de forma alguna.\n",
    "- Las consultas sobre el desafío se deben realizar por medio de la plataforma Aula. **No está permitido publicar código en consultas de Aula**.\n",
    "- El desafío debe ser realizado en Jupyter Notebook (Python3) utilizando este archivo como base.\n",
    "- Debe utilizar arreglos de ```NumPy``` junto a las funciones y bibliotecas que se ponen a disposición en este archivo.\n",
    "- Se debe respetar las firmas de las funciones, sus parámetros y retornos. Para eso se incluye un detalle de cada función tanto de las entregadas como las que deberá implementar. En caso de no seguir estas instrucciones, el desafío no podrá evaluarse.\n",
    "- Se evaluará la correcta utilización de librerias ```NumPy```, ```SciPy```, entre otras, así como la correcta implementación de algoritmos de forma vectorizada.\n",
    "- Evitar la impresión de mensajes salvo que se solicite en el enunciado.\n",
    "- El archivo de entrega debe denominarse **ROL-desafio-numero.ipynb**. **De no respetarse este formato existirá un descuento de 50 puntos**\n",
    "- La fecha de entrega es el **30 de julio a las 10:00 hrs**,  posteriormente existirá un descuento lineal hasta las 11:00 hrs del mismo día."
   ]
  },
  {
   "cell_type": "markdown",
   "metadata": {
    "colab_type": "text",
    "id": "YNg382fNA-mo"
   },
   "source": [
    "# Introducción\n",
    "\n",
    "En este desafío vamos a comparar el rendimiento de la interpolación polinomial utilizando **Intepolación de Lagrange** e **Interpolación Baricéntrica**. Recordar que estamos buscando un polinomio interpolador de la forma:\n",
    "\n",
    "\\begin{equation}\n",
    "    P(x) = a_0 + a_1x + a_2x^2 + \\cdots + a_{n-1}x^{n-1}+a_{n}x^{n}= \\sum_{i=0}^{n}a_ix^i,\n",
    "\\end{equation}\n",
    "\n",
    "que se construye conociendo el conjunto de puntos $S=\\{(x_0, y_0),(x_1, y_1), \\dots, (x_n, y_n)\\}$.\n",
    "\n",
    "## Interpolación de Lagrange\n",
    "\n",
    "El polinomio interpolador de Lagrange se define como:\n",
    "\n",
    "\\begin{equation*}\n",
    "    P(x) = y_{0}L_{0}(x) + y_{1}L_{1}(x) + \\dots + y_{n} L_{n}(x) = \\displaystyle \\sum_{k=0}^{n} y_{k} L_{k}(x),\n",
    "\\end{equation*}\n",
    "\n",
    "con\n",
    "\n",
    "\\begin{equation*}\n",
    "    L_k(x) = \\frac{l_k(x)}{l_k(x_k)} \\quad \\text{y} \\quad l_k(x) = \\prod_{i=0, i\\neq k}^{n}(x-x_i)= (x-x_1)(x-x_2)\\cdots(x-x_{k-1})(x-x_{k+1})\\cdots(x-x_n).\n",
    "\\end{equation*}\n",
    "    \n",
    "\n",
    "## Interpolación Baricéntrica\n",
    "\n",
    "El polinomio interpolador utilizando **Interpolación Baricéntrica** se calcula de la siguiente manera:\n",
    "\n",
    "\\begin{equation*}\n",
    "    P(x)=l(x)\\,\\sum_{k=0}^n y_k\\,\\dfrac{w_k}{(x-x_k)}\n",
    "        =\\dfrac{\\displaystyle{\\sum_{k=0}^n} y_k\\dfrac{w_k}{(x-x_k)}}\n",
    "        {\\displaystyle{\\sum_{k=0}^n} \\dfrac{w_k}{(x-x_k)}},\n",
    "\\end{equation*}\n",
    "\n",
    "donde $l(x)=\\displaystyle{\\prod_{i=0}^n(x-x_i)}$ y $w_k=\\dfrac{1}{l_k(x_k)}$. "
   ]
  },
  {
   "cell_type": "code",
   "execution_count": 116,
   "metadata": {
    "colab": {},
    "colab_type": "code",
    "id": "5qGqrepRA-mp"
   },
   "outputs": [],
   "source": [
    "import time\n",
    "import numpy as np\n",
    "import sympy as sp\n",
    "from scipy import interpolate\n",
    "import matplotlib.pyplot as plt"
   ]
  },
  {
   "cell_type": "markdown",
   "metadata": {
    "colab_type": "text",
    "id": "cglge2o2-d-V"
   },
   "source": [
    "# Implementación"
   ]
  },
  {
   "cell_type": "markdown",
   "metadata": {
    "colab_type": "text",
    "id": "UK4s3FGGA-mu"
   },
   "source": [
    "Implemente la función ```lagrange(x_i, y_i)``` que recibe como parámetros los puntos de interpolación $x_i, y_i$ y retorna el polinomio interpolador $L(x)$.\n",
    "Asegúrese que su polinomio pueda evaluar arreglos de ```NumPy```."
   ]
  },
  {
   "cell_type": "markdown",
   "metadata": {},
   "source": [
    "lagrange de scipy es muy OP :("
   ]
  },
  {
   "cell_type": "code",
   "execution_count": 3,
   "metadata": {
    "colab": {},
    "colab_type": "code",
    "id": "ASjRfXI_A-my"
   },
   "outputs": [],
   "source": [
    "def lagrange(x_i, y_i):\n",
    "    \"\"\"\n",
    "    Compute Interpolating Polynomial using Lagrange\n",
    "\n",
    "    Parameters\n",
    "    -----------\n",
    "    x_i     : (n, ) array\n",
    "             Data x_i to interpolate\n",
    "    y_i     : (n, ) array\n",
    "             Data y_i to interpolate\n",
    "\n",
    "    Returns\n",
    "    -------\n",
    "    L     : Lambda function\n",
    "            Lagrange interpolating polynomial\n",
    "    \"\"\"\n",
    "    \n",
    "    return np.poly1d(interpolate.lagrange(x_i, y_i))"
   ]
  },
  {
   "cell_type": "code",
   "execution_count": 107,
   "metadata": {},
   "outputs": [],
   "source": [
    "def lagrange2(x_i, y_i):\n",
    "    \"\"\"\n",
    "    Compute Interpolating Polynomial using Lagrange\n",
    "\n",
    "    Parameters\n",
    "    -----------\n",
    "    x_i     : (n, ) array\n",
    "             Data x_i to interpolate\n",
    "    y_i     : (n, ) array\n",
    "             Data y_i to interpolate\n",
    "\n",
    "    Returns\n",
    "    -------\n",
    "    L     : Lambda function\n",
    "            Lagrange interpolating polynomial\n",
    "    \"\"\"\n",
    "    n = x_i.shape[-1]\n",
    "    L = lambda x: np.dot(y_i, np.array([np.prod(x - np.delete(x_i, k)) \n",
    "                                        / np.prod(x_i[k] - np.delete(x_i, k)) for k in range(n)]))\n",
    "    return np.vectorize(L)"
   ]
  },
  {
   "cell_type": "markdown",
   "metadata": {
    "colab_type": "text",
    "id": "-_vJ7Nz8qVuI"
   },
   "source": [
    "Implemente la función ```barycentric(x_i, y_i)``` que recibe como parámetros los puntos de interpolación $x_i, y_i$ y retorna el polinomio interpolador $B(x)$.\n",
    "Asegúrese que su polinomio pueda evaluar arreglos de ```NumPy```."
   ]
  },
  {
   "cell_type": "markdown",
   "metadata": {},
   "source": [
    "barycentric de scipy es muy op"
   ]
  },
  {
   "cell_type": "code",
   "execution_count": 101,
   "metadata": {
    "colab": {},
    "colab_type": "code",
    "id": "x_Nfe3_0A-m1"
   },
   "outputs": [],
   "source": [
    "def barycentric(x_i, y_i):\n",
    "    \"\"\"\n",
    "    Compute Interpolating Polynomial using Barycentric interpolation\n",
    "\n",
    "    Parameters\n",
    "    -----------\n",
    "    x_i     : (n, ) array\n",
    "             Data x_i to interpolate\n",
    "    y_i     : (n, ) array\n",
    "             Data y_i to interpolate\n",
    "\n",
    "    Returns\n",
    "    -------\n",
    "    B     : Lambda function\n",
    "            Barycentric interpolation\n",
    "    \"\"\"\n",
    "    x = lambda d: interpolate.barycentric_interpolate(x_i, y_i, d)\n",
    "    \n",
    "    return x"
   ]
  },
  {
   "cell_type": "code",
   "execution_count": 108,
   "metadata": {},
   "outputs": [],
   "source": [
    "def barycentric2(x_i, y_i):\n",
    "    \"\"\"\n",
    "    Compute Interpolating Polynomial using Barycentric interpolation\n",
    "\n",
    "    Parameters\n",
    "    -----------\n",
    "    x_i     : (n, ) array\n",
    "             Data x_i to interpolate\n",
    "    y_i     : (n, ) array\n",
    "             Data y_i to interpolate\n",
    "\n",
    "    Returns\n",
    "    -------\n",
    "    B     : Lambda function\n",
    "            Barycentric interpolation\n",
    "    \"\"\"\n",
    "    n = x_i.shape[-1]\n",
    "    w = 1 / np.array([np.prod(x_i[i] - np.delete(x_i, i)) for i in range(n)]) \n",
    "    b1 = lambda x: y_i[np.where(np.in1d(x_i, x))] \n",
    "    b2 = lambda x: np.dot(y_i, w /(x - x_i))/ np.dot(w, 1 / (x - x_i))\n",
    "    B = lambda x: b1(x) if x in x_i else b2(x)\n",
    "    return np.vectorize(B)"
   ]
  },
  {
   "cell_type": "markdown",
   "metadata": {
    "colab_type": "text",
    "id": "ZasxwZDqA-m9"
   },
   "source": [
    "# Pruebas"
   ]
  },
  {
   "cell_type": "markdown",
   "metadata": {
    "colab_type": "text",
    "id": "_kUgN9IKA-m9"
   },
   "source": [
    "Para que pueda probar sus funciones se ponen a disposición las siguientes funciones:"
   ]
  },
  {
   "cell_type": "code",
   "execution_count": 103,
   "metadata": {
    "colab": {},
    "colab_type": "code",
    "id": "1f_tk_J8A-m-"
   },
   "outputs": [],
   "source": [
    "f1 = lambda x: 2 * x + 3 \n",
    "f2 = lambda x: np.sin(x) ** 3 \n",
    "f3 = lambda x: np.exp(x) \n",
    "f4 = lambda x: np.exp(-x ** 2)\n",
    "f5 = lambda x: np.sinc(x)\n",
    "f6 = lambda x: 1 + x * 0\n",
    "f7 = lambda x: 1 / (1 + 25 * x ** 2) "
   ]
  },
  {
   "cell_type": "markdown",
   "metadata": {
    "colab_type": "text",
    "id": "vnb1uK2_A-nC"
   },
   "source": [
    "## Datos a interpolar\n",
    "\n",
    "Acá puede seleccionar la función de la celda anterior que estime conveniente para probar su interpolación."
   ]
  },
  {
   "cell_type": "code",
   "execution_count": 6,
   "metadata": {
    "colab": {},
    "colab_type": "code",
    "id": "8NeCUdQXA-nC"
   },
   "outputs": [],
   "source": [
    "f = f5"
   ]
  },
  {
   "cell_type": "markdown",
   "metadata": {
    "colab_type": "text",
    "id": "cLp7gFYFA-nF"
   },
   "source": [
    "Se generarán puntos equispaciados $x_i$ en un intervalo indicado y luego se evaluaran dichos puntos en una función $f$ para generar puntos $y_i$."
   ]
  },
  {
   "cell_type": "code",
   "execution_count": 7,
   "metadata": {
    "colab": {},
    "colab_type": "code",
    "id": "8B3uRBU0A-nG"
   },
   "outputs": [],
   "source": [
    "N_i = 11\n",
    "x_a, x_b = -2 * np.pi, 2 * np.pi\n",
    "x_i = np.linspace(x_a, x_b, N_i)\n",
    "y_i = f(x_i)"
   ]
  },
  {
   "cell_type": "markdown",
   "metadata": {
    "colab_type": "text",
    "id": "7vJrTxI3A-nJ"
   },
   "source": [
    "## Interpolación\n",
    "\n",
    "Para probar su interpolación, utilice las siguientes celdas."
   ]
  },
  {
   "cell_type": "code",
   "execution_count": 8,
   "metadata": {
    "colab": {},
    "colab_type": "code",
    "id": "azI62Hk3A-nM"
   },
   "outputs": [],
   "source": [
    "Pl = lagrange(x_i, y_i)"
   ]
  },
  {
   "cell_type": "code",
   "execution_count": 9,
   "metadata": {
    "colab": {},
    "colab_type": "code",
    "id": "AeKN58VoA-nP"
   },
   "outputs": [],
   "source": [
    "Pb = barycentric(x_i, y_i)"
   ]
  },
  {
   "cell_type": "code",
   "execution_count": 31,
   "metadata": {},
   "outputs": [],
   "source": [
    "Pl2 = lagrange2(x_i,y_i)\n",
    "Pb2 = barycentric(x_i,y_i)"
   ]
  },
  {
   "cell_type": "markdown",
   "metadata": {
    "colab_type": "text",
    "id": "D6_0F5lcA-nV"
   },
   "source": [
    "# Visualización\n",
    "\n",
    "Utilice este código para visualizar su interpolación."
   ]
  },
  {
   "cell_type": "code",
   "execution_count": 83,
   "metadata": {
    "colab": {
     "base_uri": "https://localhost:8080/",
     "height": 388
    },
    "colab_type": "code",
    "executionInfo": {
     "elapsed": 1343,
     "status": "ok",
     "timestamp": 1593650715259,
     "user": {
      "displayName": "Daniel San Martin",
      "photoUrl": "https://lh3.googleusercontent.com/a-/AOh14Gh2H_R1eke7gfs9ptm4_ZPOT9q7BMmrOHf1dOAvXg=s64",
      "userId": "18392387168599098942"
     },
     "user_tz": 240
    },
    "id": "tWucS_suA-nW",
    "outputId": "f6e8e5f5-39ed-4f0f-e94d-d3331bf42ce4"
   },
   "outputs": [
    {
     "data": {
      "image/png": "[encoded data removed]",
      "text/plain": [
       "<Figure size 864x432 with 1 Axes>"
      ]
     },
     "metadata": {
      "needs_background": "light"
     },
     "output_type": "display_data"
    }
   ],
   "source": [
    "N_e = 90\n",
    "x_e = np.linspace(x_a, x_b, N_e)\n",
    "y_e = f(x_e)\n",
    "plt.figure(figsize=(12, 6))\n",
    "plt.plot(x_e, y_e, 'b-', label=r\"$f(x)$\")\n",
    "plt.plot(x_i, y_i, 'rd', label=\"Puntos para interpolar\")\n",
    "plt.plot(x_e, Pl2(x_e), 'm--', label=r'$P_L(x)$')\n",
    "plt.plot(x_e, Pb2(x_e), 'k-.', label=r'$P_B(x)$')\n",
    "plt.grid(True)\n",
    "plt.legend()\n",
    "plt.xlabel(r'$x$')\n",
    "plt.ylabel(r'$y$')\n",
    "plt.show()"
   ]
  },
  {
   "cell_type": "markdown",
   "metadata": {
    "colab_type": "text",
    "id": "8lcZLS1aA-np"
   },
   "source": [
    "## Comparar tiempo de evaluacion\n",
    "\n",
    "Diseñe un experimento de manera que pueda mostrar la complejidad computacional en la **evaluación** de sus interpoladores. Recuerde que la complejidad de evaluar un polinomio utilizando Lagrange debería ser del orden $O(n^2)$ mientras que al usar Interpolación Baricéntrica $O(n)$."
   ]
  },
  {
   "cell_type": "code",
   "execution_count": 109,
   "metadata": {
    "colab": {},
    "colab_type": "code",
    "id": "AtRGK1utkwqw"
   },
   "outputs": [],
   "source": [
    "x_a, x_b = -2 * np.e, 2 * np.e # Interpolation domain\n",
    "N_exp = 100\n",
    "low = 3\n",
    "upp = 12\n",
    "Nt = (2**np.arange(low, upp)).astype(\"int64\")\n",
    "N = Nt.shape[-1]\n",
    "times_el = np.zeros(N)\n",
    "times_eb = np.zeros(N)"
   ]
  },
  {
   "cell_type": "code",
   "execution_count": 110,
   "metadata": {
    "colab": {
     "base_uri": "https://localhost:8080/",
     "height": 323
    },
    "colab_type": "code",
    "executionInfo": {
     "elapsed": 14329,
     "status": "ok",
     "timestamp": 1593649555824,
     "user": {
      "displayName": "Daniel San Martin",
      "photoUrl": "https://lh3.googleusercontent.com/a-/AOh14Gh2H_R1eke7gfs9ptm4_ZPOT9q7BMmrOHf1dOAvXg=s64",
      "userId": "18392387168599098942"
     },
     "user_tz": 240
    },
    "id": "K9oEJrS9A-ny",
    "outputId": "373f01d2-7069-419e-84bd-5451146c94e2"
   },
   "outputs": [],
   "source": [
    "def exTime(a, b, nt, f, f1, f2, nexp):\n",
    "    \"\"\"\n",
    "    Calculate times run times of f1 & f2\n",
    "\n",
    "    Parameters\n",
    "    -----------\n",
    "    a    : <float> lower bound of linspace for x_i\n",
    "    b    : <float> upper bound of linspace for x_i\n",
    "    nt   : (n, ) array\n",
    "                array of sizes of data for interpolation\n",
    "    f    : <function> function to interpolate\n",
    "    f1   : <function> function for interpolation\n",
    "    f2   : <function> function for interpolation\n",
    "    nexp : <int> number of experiments to do each time  \n",
    "    \n",
    "    Returns\n",
    "    -------\n",
    "    t1, t2: <tuple>\n",
    "                arrays with times\n",
    "    \"\"\"\n",
    "    \n",
    "    t1 = np.zeros(Nt.shape[0])\n",
    "    t2 = np.zeros(Nt.shape[0])\n",
    "    \n",
    "    for i,x in enumerate(Nt):\n",
    "        x_i = np.linspace(a, b, num=Nt[i])\n",
    "        y_i = f(x_i)\n",
    "        test = choice(x_i)\n",
    "        \n",
    "        start = time.time()\n",
    "        for ax in range(nexp):\n",
    "            bx = f1(x_i)\n",
    "        stop = time.time()\n",
    "        t1[i] = (stop - start) /nexp\n",
    "        \n",
    "        start = time.time()\n",
    "        for ax in range(nexp):\n",
    "            bx = f2(x_i)\n",
    "        stop = time.time()\n",
    "        t2[i] = (stop - start) / nexp\n",
    "        \n",
    "    return t1, t2"
   ]
  },
  {
   "cell_type": "code",
   "execution_count": 111,
   "metadata": {
    "scrolled": false
   },
   "outputs": [],
   "source": [
    "times_el, times_eb = exTime(a=x_a, b=x_b, nt=Nt, f=f, f1=Pl2, f2=Pb2, nexp=N_exp)"
   ]
  },
  {
   "cell_type": "code",
   "execution_count": 112,
   "metadata": {},
   "outputs": [
    {
     "name": "stdout",
     "output_type": "stream",
     "text": [
      "[0.00389066 0.00735128 0.01379926 0.03117738 0.05630713 0.09907868\n",
      " 0.20350631 0.40031044 0.8444606 ]\n",
      "[0.00018037 0.00025062 0.00021012 0.00019023 0.0001565  0.00031265\n",
      " 0.0003126  0.00038689 0.00046893]\n"
     ]
    }
   ],
   "source": [
    "print(times_el)\n",
    "print(times_eb)"
   ]
  },
  {
   "cell_type": "markdown",
   "metadata": {
    "colab_type": "text",
    "id": "U4cmcHUxrKG5"
   },
   "source": [
    "# Visualización tiempos\n",
    "\n",
    "Puede utilizar este código para visualizar los tiempos de evaluación."
   ]
  },
  {
   "cell_type": "code",
   "execution_count": 115,
   "metadata": {
    "colab": {
     "base_uri": "https://localhost:8080/",
     "height": 396
    },
    "colab_type": "code",
    "executionInfo": {
     "elapsed": 1709,
     "status": "ok",
     "timestamp": 1593649559629,
     "user": {
      "displayName": "Daniel San Martin",
      "photoUrl": "https://lh3.googleusercontent.com/a-/AOh14Gh2H_R1eke7gfs9ptm4_ZPOT9q7BMmrOHf1dOAvXg=s64",
      "userId": "18392387168599098942"
     },
     "user_tz": 240
    },
    "id": "QoyYLZiqkncN",
    "outputId": "e1ad364d-18bc-4f46-f6e4-e98e115b6711"
   },
   "outputs": [
    {
     "data": {
      "image/png": "[encoded data removed]",
      "text/plain": [
       "<Figure size 864x432 with 1 Axes>"
      ]
     },
     "metadata": {
      "needs_background": "light"
     },
     "output_type": "display_data"
    }
   ],
   "source": [
    "plt.figure(figsize=(12, 6))\n",
    "plt.plot(Nt, times_el, 'rx', label=\"Lagrange\")\n",
    "plt.plot(Nt, times_eb, 'gd', label=\"Barycentric\")\n",
    "plt.plot(Nt, 1e-5 * Nt, label=r\"$O(n)$\") # Puede ajustar el coeficiente 1e-4\n",
    "plt.plot(Nt, 1e-5 * Nt**2, label=r\"$O(n^2)$\") # Puede ajustar el coeficiente 1e-4\n",
    "plt.xscale('log')\n",
    "plt.yscale('log')\n",
    "plt.ylabel(\"Time [s]\")\n",
    "plt.xlabel(\"Number of evaluation points\")\n",
    "plt.grid(True)\n",
    "plt.legend()\n",
    "plt.show()"
   ]
  },
  {
   "cell_type": "code",
   "execution_count": null,
   "metadata": {},
   "outputs": [],
   "source": []
  }
 ],
 "metadata": {
  "colab": {
   "collapsed_sections": [],
   "name": "desafio_4.ipynb",
   "provenance": []
  },
  "kernelspec": {
   "display_name": "Python 3",
   "language": "python",
   "name": "python3"
  },
  "language_info": {
   "codemirror_mode": {
    "name": "ipython",
    "version": 3
   },
   "file_extension": ".py",
   "mimetype": "text/x-python",
   "name": "python",
   "nbconvert_exporter": "python",
   "pygments_lexer": "ipython3",
   "version": "3.8.3"
  }
 },
 "nbformat": 4,
 "nbformat_minor": 1
}
