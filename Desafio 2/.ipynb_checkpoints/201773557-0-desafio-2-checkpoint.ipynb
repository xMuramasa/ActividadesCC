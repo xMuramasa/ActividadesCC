{
 "cells": [
  {
   "cell_type": "markdown",
   "metadata": {
    "colab_type": "text",
    "id": "uPbvxarIuRu9"
   },
   "source": [
    "# Instrucciones\n",
    "\n",
    "- El desafío es individual, por lo cual se considera que todo el código entregado es de elaboración propia y no ha sido compartido de forma alguna.\n",
    "- Las consultas sobre el desafío se deben realizar por medio de la plataforma Aula. **No está permitido publicar código en consultas de Aula**.\n",
    "- El desafío debe ser realizado en Jupyter Notebook (Python3) utilizando este archivo como base.\n",
    "- Debe utilizar arreglos de ```NumPy``` junto a las funciones y bibliotecas que se ponen a disposición en este archivo.\n",
    "- Se debe respetar las firmas de las funciones, sus parámetros y retornos. Para eso se incluye un detalle de cada función tanto de las entregadas como las que deberá implementar. En caso de no seguir estas instrucciones, el desafío no podrá evaluarse.\n",
    "- Se evaluará la correcta utilización de librerias ```NumPy```, ```SciPy```, entre otras, así como la correcta implementación de algoritmos de forma vectorizada.\n",
    "- Evitar la impresión de mensajes salvo que se solicite en el enunciado.\n",
    "- El archivo de entrega debe denominarse **ROL-desafio-numero.ipynb**. **De no respetarse este formato existirá un descuento de 50 puntos**\n",
    "- La fecha de entrega es el **miércoles 27 de Mayo a las 10:00 hrs**,  posteriormente existirá un descuento lineal hasta las 11:00 hrs del mismo día."
   ]
  },
  {
   "cell_type": "code",
   "execution_count": 1,
   "metadata": {
    "colab": {},
    "colab_type": "code",
    "id": "VYPmwmXt7KBK"
   },
   "outputs": [],
   "source": [
    "# Libraries\n",
    "import time # For time profiling\n",
    "import numpy as np # Linear algebra and data structure\n",
    "import matplotlib.pyplot as plt # Plots\n",
    "from scipy import linalg as spla # Linear Algebra"
   ]
  },
  {
   "cell_type": "markdown",
   "metadata": {
    "colab_type": "text",
    "id": "QZCaaiXpY5bZ"
   },
   "source": [
    "# Introducción \n",
    "\n",
    "En el siguiente desafio estudiaremos la complejidad temporal de resolver sistemas de ecuaciones lineales utilizando: la matriz inversa, PALU, Cholesky, y el _solver_ de NumPy. \n",
    "Para poder obtener la complejidad temporal de forma experimental se deberá medir el tiempo que les toma a cada uno de los métodos en resolver un sistema de ecuaciones de tamaño $n \\times n$. \n",
    "\n",
    "## Recordatorio\n",
    "\n",
    "### Sistema de ecuaciones lineales\n",
    "\n",
    "\\begin{equation}\n",
    "  A \\mathbf{x} = \\mathbf{b}\n",
    "\\end{equation}\n",
    "\n",
    "### Algoritmo de resolución utilizando la inversa\n",
    "\n",
    "\n",
    "1. $B=A^{-1}$\n",
    "2. $\\mathbf{x} = B\\,\\mathbf{b}$\n",
    "3. Retornar $\\mathbf{x}$\n",
    "\n",
    "### Resolución utilizando $PA=LU$\n",
    "\n",
    "\\begin{equation}\n",
    "  \\begin{split}\n",
    "    A\\, \\mathbf{x} & = \\mathbf{b} \\\\\n",
    "    PA\\, \\mathbf{x} & = P\\,\\mathbf{b} \\\\\n",
    "    LU\\, \\mathbf{x} & = P\\, \\mathbf{b} \\\\\n",
    "    L\\, \\mathbf{c} & = P\\, \\mathbf{b}\n",
    "  \\end{split}\n",
    "\\end{equation}\n",
    "\n",
    "Algoritmo,\n",
    "1. Obtener descomposición PALU: $PA=LU$ \n",
    "2. Resolver para $\\mathbf{c}$: $L\\,\\mathbf{c} = P\\, \\mathbf{b}$\n",
    "3. Resolver para $\\mathbf{x}$: $U\\,\\mathbf{x} = \\mathbf{c}$\n",
    "4. Retornar $\\mathbf{x}$\n",
    "\n",
    "### Resolución utilizando Cholesky\n",
    "\n",
    "\\begin{equation}\n",
    "  \\begin{split}\n",
    "    A \\, \\mathbf{x} & = \\mathbf{b} \\\\\n",
    "    R^T\\,R \\,\\mathbf{x} & = \\mathbf{b}\n",
    "  \\end{split}\n",
    "\\end{equation}\n",
    "\n",
    "Algoritmo,\n",
    "1. Obtener descomposición de Cholesky: $A=R^T\\,R$\n",
    "2. Resolver para $\\mathbf{c}$: $R^T\\mathbf{c} = \\mathbf{b}$\n",
    "3. Resolver para $\\mathbf{x}$: $R\\,\\mathbf{x} = \\mathbf{c}$\n",
    "4. Retornar $\\mathbf{x}$\n"
   ]
  },
  {
   "cell_type": "markdown",
   "metadata": {
    "colab_type": "text",
    "id": "Flb_INxvuCEz"
   },
   "source": [
    "# Ejercicio"
   ]
  },
  {
   "cell_type": "markdown",
   "metadata": {
    "colab_type": "text",
    "id": "IJsGwhUx1leR"
   },
   "source": [
    "Midiendo el tiempo que demora la resolución de sistemas de ecuaciones lineales para distintos tamaños, se puede estimar la complejidad temporal en función de su tamaño, es decir $n$.\n",
    "\n",
    "Para generar sistemas de ecuaciones lineales, usted dispone de la función  ```generateLinearSystem(n)``` que recibe como argumento un número entero $n$ y retorna una matriz $A\\in\\mathbb{R}^{n\\times n}$ definida positiva y un vector $\\mathbf{b}\\in\\mathbb{R}^n$ aleatorio.\n",
    "A modo de referencia: ¿Qué propiedades tiene la matriz construida? ¿Cual sería la solución del sistema de ecuaciones lineales?"
   ]
  },
  {
   "cell_type": "code",
   "execution_count": 2,
   "metadata": {
    "colab": {},
    "colab_type": "code",
    "id": "-CyjYu1S8aUt"
   },
   "outputs": [],
   "source": [
    "def generateLinearSystem(n):\n",
    "    \"\"\"\n",
    "    Parameters\n",
    "    ----------\n",
    "    n       : int\n",
    "            System of linear equations size\n",
    "\n",
    "    Returns\n",
    "    -------\n",
    "    A       : (n, n) array\n",
    "            Positive definite matrix with random values\n",
    "    b       : (n, ) array\n",
    "            RHS vector\n",
    "    \"\"\"\n",
    "    # Matrix generation\n",
    "    A = np.random.rand(n, n)\n",
    "    A = np.dot(A.T, A) # Symmetric matrix\n",
    "    A += np.eye(n) # Diagonally dominant \n",
    "\n",
    "    # RHS generation\n",
    "    b = np.dot(A, np.ones(n))\n",
    "\n",
    "    return A, b"
   ]
  },
  {
   "cell_type": "markdown",
   "metadata": {
    "colab_type": "text",
    "id": "eMZSy34CsL-B"
   },
   "source": [
    "A continuación se entregan las funciones que implementan los 4 algoritmos mencionados anteriormente:"
   ]
  },
  {
   "cell_type": "code",
   "execution_count": 3,
   "metadata": {
    "colab": {},
    "colab_type": "code",
    "id": "CCuI1Q1NIHdb"
   },
   "outputs": [],
   "source": [
    "def solveInverse(A, b):\n",
    "    \"\"\"\n",
    "    Parameters\n",
    "    ----------\n",
    "    A       : (n, n) array\n",
    "            Positive definite matrix with random values\n",
    "    b       : (n, ) array\n",
    "            RHS vector\n",
    "\n",
    "    Returns\n",
    "    -------\n",
    "    x       : (n, ) array\n",
    "            System of linear equations solution\n",
    "    \"\"\"\n",
    "    # Inverse matrix\n",
    "    B = np.linalg.inv(A)\n",
    "\n",
    "    # Get solution\n",
    "    x = np.dot(B, b)\n",
    "\n",
    "    return x"
   ]
  },
  {
   "cell_type": "code",
   "execution_count": 4,
   "metadata": {
    "colab": {},
    "colab_type": "code",
    "id": "Q7995WqzA1v-"
   },
   "outputs": [],
   "source": [
    "def solvePALU(A, b):\n",
    "    \"\"\"\n",
    "    Parameters\n",
    "    ----------\n",
    "    A       : (n, n) array\n",
    "            Positive definite matrix with random values\n",
    "    b       : (n, ) array\n",
    "            RHS vector\n",
    "\n",
    "    Returns\n",
    "    -------\n",
    "    x       : (n, ) array\n",
    "            System of linear equations solution\n",
    "    \"\"\"\n",
    "    # PA=LU factorization\n",
    "    P, L, U = spla.lu(A)\n",
    "\n",
    "    # Vector permutation\n",
    "    Pb = np.dot(P, b)\n",
    "\n",
    "    # Forward substitution\n",
    "    c = spla.solve_triangular(L, Pb, lower=True)\n",
    "\n",
    "    # Backward substituion\n",
    "    x = spla.solve_triangular(U, c)\n",
    "\n",
    "    return x"
   ]
  },
  {
   "cell_type": "code",
   "execution_count": 5,
   "metadata": {
    "colab": {},
    "colab_type": "code",
    "id": "ranM1T-3BDUx"
   },
   "outputs": [],
   "source": [
    "def solveCholesky(A, b):\n",
    "    \"\"\"\n",
    "    Parameters\n",
    "    ----------\n",
    "    A       : (n, n) array\n",
    "            Positive definite matrix with random values\n",
    "    b       : (n, ) array\n",
    "            RHS vector\n",
    "\n",
    "    Returns\n",
    "    -------\n",
    "    x       : (n, ) array\n",
    "            System of linear equations solution\n",
    "    \"\"\"\n",
    "    # Cholesky decomposition\n",
    "    # Warning: R in Scipy is different from the classnotes, but it is the same idea.\n",
    "    R = np.linalg.cholesky(A)\n",
    "\n",
    "    # Forward substitution\n",
    "    c = spla.solve_triangular(R, b, lower=True)\n",
    "\n",
    "    # Backward substitution\n",
    "    x = spla.solve_triangular(R.T, c)\n",
    "\n",
    "    return x"
   ]
  },
  {
   "cell_type": "code",
   "execution_count": 6,
   "metadata": {
    "colab": {},
    "colab_type": "code",
    "id": "2BYABYpesAZz"
   },
   "outputs": [],
   "source": [
    "def solveDirect(A, b):\n",
    "    \"\"\"\n",
    "    Parameters\n",
    "    ----------\n",
    "    A       : (n, n) array\n",
    "            Positive definite matrix with random values\n",
    "    b       : (n, ) array\n",
    "            RHS vector\n",
    "\n",
    "    Returns\n",
    "    -------\n",
    "    x       : (n, ) array\n",
    "            System of linear equations solution\n",
    "    \"\"\"\n",
    "    x = np.linalg.solve(A, b)\n",
    "    return x"
   ]
  },
  {
   "cell_type": "markdown",
   "metadata": {
    "colab_type": "text",
    "id": "MBIhWWbhgcbG"
   },
   "source": [
    "A continuación, se entrega la función ```obtainComputationTimes(solver, Ns, Ne)```, la cual obtiene el tiempo de computación utilizado en la ejecución por el algoritmo ```solver``` en resolver un sistema de ecuaciones lineales de tamaño $Ns[i]\\times Ns[i]$, para todo $i$. Además se puede incluir un parámetro adicional, $N_e$, que define el número de veces que se repite el experimento para obtener una mejor aproximación y reducir los efectos de computaciones concurrentes que puedan afectar los tiempos de computación. Mientras mayor es $N_e$ mejor es la estimación pero toma mayor tiempo la ejecución."
   ]
  },
  {
   "cell_type": "code",
   "execution_count": 7,
   "metadata": {
    "colab": {},
    "colab_type": "code",
    "id": "rGlRXWVrE7Yn"
   },
   "outputs": [],
   "source": [
    "def obtainComputationTimes(solver, Ns, Ne=5):\n",
    "    \"\"\"\n",
    "    Parameters\n",
    "    ----------\n",
    "    solver            : function\n",
    "                      Function with linear system solver implementation\n",
    "    N                 : (n, ) array \n",
    "                      Array of integers with system size\n",
    "    Ne                : int\n",
    "                      Number of experiments\n",
    "\n",
    "    Returns\n",
    "    -------\n",
    "    times_solver      : (n, ) array\n",
    "                      Mean times using solver\n",
    "    \"\"\"\n",
    "    Nn = Ns.shape[-1]\n",
    "    times_solver = np.zeros(Nn)\n",
    "\n",
    "    for i in range(Nn):\n",
    "        # Generate system Ax=b\n",
    "        A, b = generateLinearSystem(Ns[i])\n",
    "\n",
    "        # Compute time\n",
    "        start = time.time()\n",
    "        # Repeating the computation \"Ne\" times to get more accurate results.\n",
    "        for e in range(Ne):\n",
    "            x_i = solver(A, b)\n",
    "        end = time.time()\n",
    "\n",
    "        # Get mean time\n",
    "        times_solver[i] = (end - start) / Ne\n",
    "\n",
    "    return times_solver"
   ]
  },
  {
   "cell_type": "markdown",
   "metadata": {
    "colab_type": "text",
    "id": "P1as3SO9joUq"
   },
   "source": [
    "Recordando que para la factorización PALU se determinó que su complejidad computacional era $\\sim \\dfrac{2}{3}n^3$, donde $n$ correspondía al tamaño del sistema de ecuaciones lineales. \n",
    "En este desafío se quiere estudiar la estimación experimental de tal complejidad, por ejemplo para un algoritmo denotado por ```solver``` podemos indicar que su complejidad computacional tiene la forma $\\sim c\\,n^p$, donde $c$ sería su coeficiente y $p$ su exponente, en el caso de PALU, $c=\\dfrac{2}{3}$ y $p=3$.\n",
    "En particular, podemos determinar el tiempo total de computación con la siguiente relación $\\text{totalTime}\\approx c\\,n^p\\,\\text{TOp}$, donde ```TOp``` se puede obtener como se explica a continuación.\n",
    "\n",
    "Mediante la función ```timeOperation()``` usted debe estimar el tiempo promedio de las $4$ operaciones elementales, el cual se denomina ```TOp```. **Debe considerar que el tiempo de ejecución de esta función no debe superar los $20$ segundos**.\n",
    "\n"
   ]
  },
  {
   "cell_type": "code",
   "execution_count": 8,
   "metadata": {
    "colab": {},
    "colab_type": "code",
    "id": "-IsdWB_KPv_N"
   },
   "outputs": [],
   "source": [
    "def timeOperation():\n",
    "    \"\"\"\n",
    "    Returns\n",
    "    -------\n",
    "    TOp       : float\n",
    "              Elementary operation estimation time\n",
    "    \"\"\"\n",
    "    # Algorithm...\n",
    "    \n",
    "    # number of operations\n",
    "    n = 10000000 \n",
    "\n",
    "    # execution times\n",
    "    lS = 0  # sum\n",
    "    ld = 0  # division\n",
    "    lm = 0  # mutiplication\n",
    "    ls = 0  # substraction\n",
    "    \n",
    "    # time medition\n",
    "        # sum\n",
    "    start = time.perf_counter()\n",
    "    for i in range(n):\n",
    "        x = 2+2\n",
    "    end = time.perf_counter()\n",
    "    lS = (end-start)/n\n",
    "        \n",
    "    # multiplication\n",
    "    start = time.perf_counter()\n",
    "    for i in range(n):     \n",
    "        x = 2*2\n",
    "    end = time.perf_counter()\n",
    "    lm = (end-start)/n\n",
    "    \n",
    "    # subtraction\n",
    "    start = time.perf_counter()\n",
    "    for i in range(n):\n",
    "        x = 2-2\n",
    "    end = time.perf_counter()\n",
    "    ls = (end-start)/n\n",
    "    \n",
    "    # division        \n",
    "    start = time.perf_counter()\n",
    "    for i in range(n):\n",
    "        x = 2/2\n",
    "    end = time.perf_counter()\n",
    "    ld = (end-start)/n\n",
    "    \n",
    "    # averages calculation\n",
    "    \n",
    "    TOp = (lS + lm + ld + ls)/4\n",
    "    return TOp"
   ]
  },
  {
   "cell_type": "markdown",
   "metadata": {
    "colab_type": "text",
    "id": "8dCyIBpgWSSo"
   },
   "source": [
    "Además debe implementar la función ```findComplexity(Ns, times, TOp)``` donde ```Ns``` es el arreglo con el tamaño de los sistemas, ```times``` es el arreglo con los tiempos del algoritmo analizado y ```TOp``` es la estimación del tiempo que demora una operación elemental. Esta función debe retornar el coeficiente ```c``` y el exponente ```p``` indicados anteriormente.\n",
    "Utilice su algoritmo para determinar la complejidad experimental de  ```solveInverse```, ```solvePALU```, ```solveCholesky```, y ```solveDirect``` a modo de ejemplo. Su tarea será evaluada con otros algoritmos luego."
   ]
  },
  {
   "cell_type": "code",
   "execution_count": 9,
   "metadata": {},
   "outputs": [],
   "source": [
    "TOp = timeOperation()"
   ]
  },
  {
   "cell_type": "code",
   "execution_count": 63,
   "metadata": {},
   "outputs": [],
   "source": [
    "ns = (np.linspace(700,1000,200)).astype(\"int\")"
   ]
  },
  {
   "cell_type": "code",
   "execution_count": 64,
   "metadata": {},
   "outputs": [],
   "source": [
    "Dir = obtainComputationTimes(solveDirect, ns)\n",
    "palu = obtainComputationTimes(solvePALU, ns)\n",
    "inv = obtainComputationTimes(solveInverse, ns)\n",
    "ch = obtainComputationTimes(solveCholesky, ns)"
   ]
  },
  {
   "cell_type": "code",
   "execution_count": 65,
   "metadata": {
    "colab": {},
    "colab_type": "code",
    "id": "WPGYazbt8gbb"
   },
   "outputs": [],
   "source": [
    "def findComplexity(Ns, times, Top):\n",
    "    \"\"\"\n",
    "    Parameters\n",
    "    ----------\n",
    "    Ns                : (n, ) array \n",
    "                      Array with system size\n",
    "    times             : (n, ) array\n",
    "                      Mean times using a solver\n",
    "    TOp               : float\n",
    "                      Elementary operation estimation time\n",
    "\n",
    "    Returns\n",
    "    -------\n",
    "    c                 : float\n",
    "                      Complexity constant\n",
    "    p                 : float\n",
    "                      Complexity exponent\n",
    "    \"\"\"\n",
    "    # Algorithm\n",
    "    c = 0\n",
    "    p = 0\n",
    "    \n",
    "    x = np.log(Ns)\n",
    "    y = np.log(times/Top)\n",
    "    \n",
    "    p = (y[1:]-y[:-1])/(x[1:]-x[:-1])\n",
    "    p = np.mean(p)\n",
    "    \n",
    "    c = y - p*x\n",
    "    c = (np.e)**(np.mean(c))\n",
    "    \n",
    "    return c, p"
   ]
  },
  {
   "cell_type": "code",
   "execution_count": 66,
   "metadata": {},
   "outputs": [
    {
     "data": {
      "text/plain": [
       "(4.664623459593003e-13, 6.3308167401044715)"
      ]
     },
     "execution_count": 66,
     "metadata": {},
     "output_type": "execute_result"
    }
   ],
   "source": [
    "findComplexity(ns, palu, TOp)"
   ]
  },
  {
   "cell_type": "code",
   "execution_count": 48,
   "metadata": {},
   "outputs": [
    {
     "data": {
      "image/png": "[encoded data removed]",
      "text/plain": [
       "<Figure size 432x288 with 1 Axes>"
      ]
     },
     "metadata": {
      "needs_background": "light"
     },
     "output_type": "display_data"
    }
   ],
   "source": [
    "plt.plot(ns, inv, \"b-\",label= \"Inversa\")\n",
    "plt.plot(ns, palu, \"g-\",label= \"PALU\")\n",
    "plt.plot(ns, ch, \"r-\",label= \"Cholesky\")\n",
    "plt.plot(ns, Dir, \"y-\",label= \"Directa\")\n",
    "\n",
    "plt.ylabel(\"Tiempo\")\n",
    "plt.xlabel(\"N\")\n",
    "plt.legend()\n",
    "plt.show()"
   ]
  },
  {
   "cell_type": "code",
   "execution_count": null,
   "metadata": {},
   "outputs": [],
   "source": []
  },
  {
   "cell_type": "code",
   "execution_count": null,
   "metadata": {},
   "outputs": [],
   "source": []
  }
 ],
 "metadata": {
  "colab": {
   "collapsed_sections": [],
   "name": "desafio_2.ipynb",
   "provenance": []
  },
  "kernelspec": {
   "display_name": "Python 3",
   "language": "python",
   "name": "python3"
  },
  "language_info": {
   "codemirror_mode": {
    "name": "ipython",
    "version": 3
   },
   "file_extension": ".py",
   "mimetype": "text/x-python",
   "name": "python",
   "nbconvert_exporter": "python",
   "pygments_lexer": "ipython3",
   "version": "3.7.4"
  }
 },
 "nbformat": 4,
 "nbformat_minor": 4
}
