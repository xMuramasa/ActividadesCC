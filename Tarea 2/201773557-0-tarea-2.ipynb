{
  "nbformat": 4,
  "nbformat_minor": 0,
  "metadata": {
    "kernelspec": {
      "display_name": "Python 3 (system-wide)",
      "language": "python",
      "metadata": {
        "cocalc": {
          "description": "Python 3 programming language",
          "priority": 100,
          "url": "https://www.python.org/"
        }
      },
      "name": "python3"
    },
    "language_info": {
      "codemirror_mode": {
        "name": "ipython",
        "version": 3
      },
      "file_extension": ".py",
      "mimetype": "text/x-python",
      "name": "python",
      "nbconvert_exporter": "python",
      "pygments_lexer": "ipython3",
      "version": "3.6.9"
    },
    "colab": {
      "name": "Tarea-2.ipynb",
      "provenance": [],
      "collapsed_sections": []
    }
  },
  "cells": [
    {
      "cell_type": "markdown",
      "metadata": {
        "id": "pVd0tF-m0Jb2",
        "colab_type": "text"
      },
      "source": [
        "## INF-285 \n",
        "#Tarea 2: SVD y PCA"
      ]
    },
    {
      "cell_type": "markdown",
      "metadata": {
        "collapsed": false,
        "id": "JghL-XhvvGKq",
        "colab_type": "text"
      },
      "source": [
        "# Instrucciones\n",
        "* La tarea es individual.\n",
        "* Las consultas sobre las tareas se deben realizar por medio de la plataforma Aula.\n",
        "* La tarea debe ser realizada en Jupyter Notebook (Python 3).\n",
        "* Se evaluará la correcta utilización de librerias ```NumPy```, ```SciPy```, entre otras, así como la correcta implementación de algoritmos de forma vectorizada.\n",
        "* El archivo de entrega debe denominarse **ROL-tarea-numero.ipynb**. De no respetarse este formato existirá un descuento de 50 puntos\n",
        "* La fecha de entrega es el viernes 29 de Mayo a las 18:00 hrs. Se aceptarán entregas hasta las 19:00 hrs sin descuento en caso de existir algun problema, posteriormente existirá un descuento lineal hasta las 20:00 hrs del mismo día.\n",
        "* Las tareas que sean entregadas antes del jueves a mediodía recibirán una bonificación de 10 puntos.\n",
        "* Se limitará el uso de librerias a solo las que estan agregadas en el Notebook (No se permite usar sklearn)\n",
        "* Debe seguir la firma de las funciones que se indican en la tarea, en caso contrario se considerará incorrecta\n",
        "* Debe citar cualquier código ajeno utilizado (incluso si proviene de los Jupyter Notebooks del curso)."
      ]
    },
    {
      "cell_type": "markdown",
      "metadata": {
        "collapsed": false,
        "id": "P-v8NiwRvGKt",
        "colab_type": "text"
      },
      "source": [
        "# Introducción\n",
        "\n",
        "La compresión de Imágenes utilizando *SVD* se basa en que  la matriz $\\Sigma$ representa los valores singulares de la matriz original, entonces se puede obtener una aproximación de la imagen original minimizando el rango de la matriz al eliminar los  valores singulares de menor valor, ya que estos representan una \"menor información\" de la imagen. De este forma, por ejemplo si $\\Sigma$ es de tamaño $n\\times n$, se pueden omitir los $\\sigma$ menos significativos obteniendo $\\tilde{\\Sigma}$ de tamaño $m\\times m$, $m<n$.\n",
        "\n",
        "Por otro lado, también se puede utilizar el análisis de componentes principales (PCA) para la compresión de imágenes al reducir la dimensión de la matriz de la imagen y proyectar esas nuevas dimensiones en una nueva imagen reteniendo la información importante de la imagen original\n",
        "\n",
        "En esta tarea se busca comprimir un archivo *GIF*, el cual consiste de una secuencia de multiples imagenes, utilizando *SVD* y *PCA* para poder comparar ambos métodos y analizar la relación entre ambos."
      ]
    },
    {
      "cell_type": "code",
      "metadata": {
        "id": "VkDC02YMvGKu",
        "colab_type": "code",
        "colab": {}
      },
      "source": [
        "import numpy as np\n",
        "import matplotlib.pyplot as plt\n",
        "from PIL import Image, ImageSequence"
      ],
      "execution_count": 0,
      "outputs": []
    },
    {
      "cell_type": "code",
      "metadata": {
        "id": "3_i17VbvvGK8",
        "colab_type": "code",
        "colab": {}
      },
      "source": [
        "def plotAnimation(animation):\n",
        "    \"\"\"\n",
        "    Parameters\n",
        "    ----------\n",
        "    animimation         : (frames, rows, cols) array\n",
        "                          GIF array\n",
        "\n",
        "    Returns\n",
        "    -------\n",
        "    Animation plots      : None\n",
        "    \"\"\"\n",
        "    for frame in animation:\n",
        "        plt.imshow(frame, cmap=plt.cm.gray)\n",
        "        plt.axis('off')\n",
        "        plt.show()"
      ],
      "execution_count": 0,
      "outputs": []
    },
    {
      "cell_type": "code",
      "metadata": {
        "id": "ile_dQ-DvGLD",
        "colab_type": "code",
        "colab": {}
      },
      "source": [
        "def gifToArray(gif_file):\n",
        "    \"\"\"\n",
        "    Parameters\n",
        "    ----------\n",
        "    gif_file             : string\n",
        "                          GIF path\n",
        "\n",
        "    Returns\n",
        "    -------\n",
        "    data                 : (frames, rows, cols) array\n",
        "                          NumPy array with GIF pixel values\n",
        "    \"\"\"\n",
        "    im = Image.open(gif_file)\n",
        "    data = list()\n",
        "    for frame in ImageSequence.Iterator(im):\n",
        "        tmp = np.array(im.convert('L'))\n",
        "        data.append(tmp)\n",
        "    data = np.array(data)\n",
        "    return data"
      ],
      "execution_count": 0,
      "outputs": []
    },
    {
      "cell_type": "markdown",
      "metadata": {
        "collapsed": false,
        "id": "JMO9iKGbvGLL",
        "colab_type": "text"
      },
      "source": [
        "\n",
        "\n",
        "Podemos considerar un *GIF* como una colección de $p$ *frames*, donde un *frame* es una martriz $F\\in\\mathbb{R}^{r\\times c}$ con $r$ el número de filas y $c$ en número de columnas de esta imagen. Ahora, si $(f_k)_{i,j}$ corresponde al elemento $i,j$ del $k$-ésimo *frame*, vamos a definir $\\mathbf{f}_{i,j}=\\langle (f_1)_{i,j}, (f_2)_{i,j},\\dots,(f_p)_{i,j}\\rangle$,\n",
        "es decir, este vector corresponde a los valores de los $p$ frames de la coordenada $(i,j)$ del *GIF*.\n",
        "\n",
        "Finalmente, para trabajar con los algoritmos, vamos a construir la matriz $G \\in \\mathbb{R}^{q\\times p}$, donde $q=r\\times c$ de cada *frame*, y que se define como:\n",
        "\n",
        "\\begin{equation}\n",
        "    G = \n",
        "    \\left[\n",
        "    \\begin{array}{c}\n",
        "        \\mathbf{f}_{1,1} \\\\ \\hline\n",
        "        \\mathbf{f}_{1,2} \\\\ \\hline\n",
        "        \\dots \\\\ \\hline\n",
        "        \\mathbf{f}_{r,c}\n",
        "    \\end{array}\n",
        "    \\right]\n",
        "\\end{equation}"
      ]
    },
    {
      "cell_type": "markdown",
      "metadata": {
        "collapsed": false,
        "id": "c66vLEwcvGLM",
        "colab_type": "text"
      },
      "source": [
        "----\n",
        "## Funciones a Implementar"
      ]
    },
    {
      "cell_type": "markdown",
      "metadata": {
        "collapsed": false,
        "id": "FKGPVeK6vGLO",
        "colab_type": "text"
      },
      "source": [
        "1. Crear la función ```createG(data)``` que recibe ```data``` el arreglo ```NumPy``` con la información del GIF, y retorna el arreglo $G$ definido anteriormente. (10 puntos)"
      ]
    },
    {
      "cell_type": "code",
      "metadata": {
        "id": "7KtFKZE6vGLQ",
        "colab_type": "code",
        "colab": {}
      },
      "source": [
        "def createG(data):\n",
        "    \"\"\"\n",
        "    Parameters\n",
        "    ----------\n",
        "    data             : (frames, rows, cols) array\n",
        "                       NumPy array with GIF pixel values\n",
        "\n",
        "    G                : (q, p) array\n",
        "                       G matrix\n",
        "    \"\"\"\n",
        "    return G"
      ],
      "execution_count": 0,
      "outputs": []
    },
    {
      "cell_type": "markdown",
      "metadata": {
        "collapsed": false,
        "id": "NI6Wvv_YvGLX",
        "colab_type": "text"
      },
      "source": [
        "2. Crear la función ```restoreGIF(data)``` que recibe los datos procesados ```data``` y ```shape``` que contiene la tupla ```(frames, rows, cols)```, la dimensión original del *GIF*. Esta función retorna la reconstrucción del GIF. (10 puntos)"
      ]
    },
    {
      "cell_type": "code",
      "metadata": {
        "id": "rSrx92TivGLY",
        "colab_type": "code",
        "colab": {}
      },
      "source": [
        "def restoreGIF(data, shape):\n",
        "    \"\"\"\n",
        "    Parameters\n",
        "    ----------\n",
        "    data             : (q, p) array\n",
        "                       G matrix\n",
        "    shape            : tuple (frames, rows, cols) \n",
        "    Returns\n",
        "    -------\n",
        "    reshaped_data    : (frames, rows, cols) array\n",
        "                       NumPy array with GIF pixel values\n",
        "                       \n",
        "    \"\"\"\n",
        "    return reshaped_data"
      ],
      "execution_count": 0,
      "outputs": []
    },
    {
      "cell_type": "markdown",
      "metadata": {
        "collapsed": false,
        "id": "wBIADoJZvGLg",
        "colab_type": "text"
      },
      "source": [
        "### SVD\n",
        "3. Implementar la función ```G_SVD(G, m)``` que reciba la matriz $G$ y los $m$ componentes que se utilizarán para comprimir el *GIF* utilizando *SVD*. La función debe retornar $U$, $\\textrm{diag}(\\Sigma)$ y $V^T$. Además, implementar la función ```SVD_G(U, s, Vt)``` que recibe las matrices generadas por el *SVD* y retorne la reconstrucción de la matriz $G$. (30 puntos)"
      ]
    },
    {
      "cell_type": "code",
      "metadata": {
        "id": "_s-S59b6vGLg",
        "colab_type": "code",
        "colab": {}
      },
      "source": [
        "# G to SVD\n",
        "def G_SVD(G, m):\n",
        "    \"\"\"\n",
        "    Parameters\n",
        "    ----------\n",
        "    G             : (q, p)-array\n",
        "                    G matrix\n",
        "    m             : int\n",
        "                    Number of components\n",
        "    Returns\n",
        "    -------\n",
        "    U             : (q, m)-array\n",
        "                    SVD U matrix\n",
        "    s             : m-array\n",
        "                    Singular values\n",
        "    Vt            : (m, p)-array\n",
        "                    SVD V^T matrix \n",
        "    \"\"\"\n",
        "    # Apply SVD\n",
        "    \n",
        "    return U, s, Vt\n",
        "\n",
        "# SVD to 'compressed' G\n",
        "def SVD_G(U, s, Vt):\n",
        "    \"\"\"\n",
        "    Parameters\n",
        "    ----------\n",
        "    U             : (q, m)-array\n",
        "                    SVD U matrix\n",
        "    s             : m-array\n",
        "                    Singular values\n",
        "    Vt            : (m, q)-array\n",
        "                    SVD V^T matrix \n",
        "    Returns\n",
        "    -------\n",
        "    B             : (p, q)-array\n",
        "                    \"Compressed\" G\n",
        "    \"\"\"\n",
        "    return B"
      ],
      "execution_count": 0,
      "outputs": []
    },
    {
      "cell_type": "markdown",
      "metadata": {
        "collapsed": false,
        "id": "8sMOpP2xvGLs",
        "colab_type": "text"
      },
      "source": [
        "### PCA\n",
        "4. Implementar la función ```G_PCA(G, m)``` que reciba la matriz $G$ y los $m$ componentes que se utilizarán para comprimir el *GIF* utilizando *PCA*. La función debe retornar $PC$, $Y$ y $\\mu$. Además, implementar la función ```PCA_G(PC, Y, mu)``` que recibe las matrices generadas por *PCA* y retorne la reconstrucción de la matriz $G$. Para esto debe utilizar la funcion de SVD implementada en el punto anterior. (35 puntos)"
      ]
    },
    {
      "cell_type": "code",
      "metadata": {
        "id": "9HCshfMDvGLt",
        "colab_type": "code",
        "colab": {}
      },
      "source": [
        "def G_PCA(G, m):\n",
        "    \"\"\"\n",
        "    Parameters\n",
        "    ----------\n",
        "    G             : (q, p)-array\n",
        "                    G matrix\n",
        "    m             : int\n",
        "                    Number of components\n",
        "    Returns\n",
        "    -------\n",
        "    PC             : (p, m)-array\n",
        "                     first m principal components\n",
        "    Y             : (q,m)-array\n",
        "                    PC Scores \n",
        "    mu           : (p)-array\n",
        "                    Average per column \n",
        "    \"\"\"\n",
        "\n",
        "    return  PC, Y, mu"
      ],
      "execution_count": 0,
      "outputs": []
    },
    {
      "cell_type": "code",
      "metadata": {
        "id": "m05kUtkAvGL0",
        "colab_type": "code",
        "colab": {}
      },
      "source": [
        "def PCA_G(PC, Y, mu):\n",
        "    \"\"\"\n",
        "    Parameters\n",
        "    ----------\n",
        "    PC             : (p, m)-array\n",
        "                     first m principal components\n",
        "    Y             : (q,m)-array\n",
        "                    PC Scores \n",
        "    mu           : (p)-array\n",
        "                    Average per column \n",
        "    Returns\n",
        "    -------\n",
        "    B            : (q, p)-array\n",
        "                    \"Compressed\" G\n",
        "    \"\"\"\n",
        "    return B"
      ],
      "execution_count": 0,
      "outputs": []
    },
    {
      "cell_type": "markdown",
      "metadata": {
        "id": "WXU6uYie6Nq0",
        "colab_type": "text"
      },
      "source": [
        "## Preguntas\n",
        "\n",
        "Para responder las siguientes preguntas, debe implementar las funciones propuestas"
      ]
    },
    {
      "cell_type": "markdown",
      "metadata": {
        "collapsed": false,
        "id": "5RmHo48BvGM2",
        "colab_type": "text"
      },
      "source": [
        "#### 1. ¿Cuál sería el costo de almacenamiento en MB usando $m$ vectores singulares? (5 puntos)"
      ]
    },
    {
      "cell_type": "code",
      "metadata": {
        "id": "e7y73fYtvGM2",
        "colab_type": "code",
        "colab": {}
      },
      "source": [
        "def SVD_size(G, m):\n",
        "    \"\"\"\n",
        "    Parameters\n",
        "    ----------\n",
        "    G             : (q, p)-array\n",
        "                    G matrix\n",
        "    m             : int\n",
        "                    Number of components\n",
        "    Returns\n",
        "    -------\n",
        "    size          : Float\n",
        "                    total size of SVD return\n",
        "    \"\"\"\n",
        "    return size\n",
        "\n",
        "def PCA_size(G, m):\n",
        "    \"\"\"\n",
        "    Parameters\n",
        "    ----------\n",
        "    G             : (q, p)-array\n",
        "                    G matrix\n",
        "    m             : int\n",
        "                    Number of components\n",
        "    Returns\n",
        "    -------\n",
        "    size          : Float\n",
        "                    total size of PCA return\n",
        "    \"\"\"\n",
        "    return size"
      ],
      "execution_count": 0,
      "outputs": []
    },
    {
      "cell_type": "markdown",
      "metadata": {
        "collapsed": false,
        "id": "klJlLp9svGM6",
        "colab_type": "text"
      },
      "source": [
        "#### 2. ¿Cuál sería el *gif* resultante con $m$ componentes? (5 puntos)"
      ]
    },
    {
      "cell_type": "code",
      "metadata": {
        "id": "NfS25SORvGM7",
        "colab_type": "code",
        "colab": {}
      },
      "source": [
        "def print_animation_SVD(G, m):\n",
        "    \"\"\"\n",
        "    Parameters\n",
        "    ----------\n",
        "    G             : (q, p)-array\n",
        "                    G matrix\n",
        "    m             : int\n",
        "                    Number of components\n",
        "    Returns\n",
        "    -------\n",
        "    La funcion no debe retornar nada, solo mostrar las imagenes de los frames reconstruidos\n",
        "    \"\"\"\n",
        "    return\n",
        "\n",
        "def print_animation_PCA(G, m):\n",
        "    \"\"\"\n",
        "    Parameters\n",
        "    ----------\n",
        "    G             : (q, p)-array\n",
        "                    G matrix\n",
        "    m             : int\n",
        "                    Number of components\n",
        "    Returns\n",
        "    -------\n",
        "    La funcion no debe retornar nada, solo mostrar las imagenes de los frames reconstruidos\n",
        "    \"\"\"\n",
        "    return\n"
      ],
      "execution_count": 0,
      "outputs": []
    },
    {
      "cell_type": "markdown",
      "metadata": {
        "collapsed": false,
        "id": "hAYGfX8TvGNO",
        "colab_type": "text"
      },
      "source": [
        "#### 3. ¿Cual sería el error en función de $m$? (Calcule el error utilizando la norma-2) (5 puntos)\n",
        "\n",
        "Considere calcular el error de la siguiente manera: $||G-B_m||_2$, donde $G$ corresponde a la matriz definida anteriormente y $B_m$ a la matriz \"comprimida\" utilizando los métodos correspondientes para un $m$ particular."
      ]
    },
    {
      "cell_type": "code",
      "metadata": {
        "id": "Wk65LuvdvGNP",
        "colab_type": "code",
        "colab": {}
      },
      "source": [
        "def compression_error_SVD(G, m):\n",
        "    \"\"\"\n",
        "    Parameters\n",
        "    ----------\n",
        "    G             : (q, p)-array\n",
        "                    G matrix\n",
        "    m             : int\n",
        "                    Number of components\n",
        "    Returns\n",
        "    -------\n",
        "    error          : Float\n",
        "                    total size of PCA return\n",
        "    \"\"\"\n",
        "    return error\n",
        "\n",
        "def compression_error_PCA(G, m):\n",
        "    \"\"\"\n",
        "    Parameters\n",
        "    ----------\n",
        "    G             : (q, p)-array\n",
        "                    G matrix\n",
        "    m             : int\n",
        "                    Number of components\n",
        "    Returns\n",
        "    -------\n",
        "    error         : Float\n",
        "                    total size of PCA return\n",
        "    \"\"\"\n",
        "    return error"
      ],
      "execution_count": 0,
      "outputs": []
    },
    {
      "cell_type": "markdown",
      "metadata": {
        "id": "OCJCcJjH8Bbs",
        "colab_type": "text"
      },
      "source": [
        "# Prueba\n",
        "\n",
        "Para verificar sus algoritmos, pruebe las funciones desarrolladas para $m=10$."
      ]
    },
    {
      "cell_type": "markdown",
      "metadata": {
        "collapsed": false,
        "id": "R2zh8RmEvGNT",
        "colab_type": "text"
      },
      "source": [
        "# Referencias\n",
        "\n",
        "Si corresponde"
      ]
    }
  ]
}