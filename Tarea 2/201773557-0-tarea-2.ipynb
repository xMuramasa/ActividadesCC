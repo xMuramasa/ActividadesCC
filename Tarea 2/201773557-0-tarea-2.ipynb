{
 "cells": [
  {
   "cell_type": "markdown",
   "metadata": {
    "colab_type": "text",
    "id": "pVd0tF-m0Jb2"
   },
   "source": [
    "## INF-285 \n",
    "#Tarea 2: SVD y PCA"
   ]
  },
  {
   "cell_type": "markdown",
   "metadata": {
    "colab_type": "text",
    "id": "JghL-XhvvGKq"
   },
   "source": [
    "# Instrucciones\n",
    "* La tarea es individual.\n",
    "* Las consultas sobre las tareas se deben realizar por medio de la plataforma Aula.\n",
    "* La tarea debe ser realizada en Jupyter Notebook (Python 3).\n",
    "* Se evaluará la correcta utilización de librerias ```NumPy```, ```SciPy```, entre otras, así como la correcta implementación de algoritmos de forma vectorizada.\n",
    "* El archivo de entrega debe denominarse **ROL-tarea-numero.ipynb**. De no respetarse este formato existirá un descuento de 50 puntos\n",
    "* La fecha de entrega es el viernes 29 de Mayo a las 18:00 hrs. Se aceptarán entregas hasta las 19:00 hrs sin descuento en caso de existir algun problema, posteriormente existirá un descuento lineal hasta las 20:00 hrs del mismo día.\n",
    "* Las tareas que sean entregadas antes del jueves a mediodía recibirán una bonificación de 10 puntos.\n",
    "* Se limitará el uso de librerias a solo las que estan agregadas en el Notebook (No se permite usar sklearn)\n",
    "* Debe seguir la firma de las funciones que se indican en la tarea, en caso contrario se considerará incorrecta\n",
    "* Debe citar cualquier código ajeno utilizado (incluso si proviene de los Jupyter Notebooks del curso)."
   ]
  },
  {
   "cell_type": "markdown",
   "metadata": {
    "colab_type": "text",
    "id": "P-v8NiwRvGKt"
   },
   "source": [
    "# Introducción\n",
    "\n",
    "La compresión de Imágenes utilizando *SVD* se basa en que  la matriz $\\Sigma$ representa los valores singulares de la matriz original, entonces se puede obtener una aproximación de la imagen original minimizando el rango de la matriz al eliminar los  valores singulares de menor valor, ya que estos representan una \"menor información\" de la imagen. De este forma, por ejemplo si $\\Sigma$ es de tamaño $n\\times n$, se pueden omitir los $\\sigma$ menos significativos obteniendo $\\tilde{\\Sigma}$ de tamaño $m\\times m$, $m<n$.\n",
    "\n",
    "Por otro lado, también se puede utilizar el análisis de componentes principales (PCA) para la compresión de imágenes al reducir la dimensión de la matriz de la imagen y proyectar esas nuevas dimensiones en una nueva imagen reteniendo la información importante de la imagen original\n",
    "\n",
    "En esta tarea se busca comprimir un archivo *GIF*, el cual consiste de una secuencia de multiples imagenes, utilizando *SVD* y *PCA* para poder comparar ambos métodos y analizar la relación entre ambos."
   ]
  },
  {
   "cell_type": "code",
   "execution_count": 1,
   "metadata": {
    "colab": {},
    "colab_type": "code",
    "id": "VkDC02YMvGKu"
   },
   "outputs": [],
   "source": [
    "import numpy as np\n",
    "import matplotlib.pyplot as plt\n",
    "from PIL import Image, ImageSequence"
   ]
  },
  {
   "cell_type": "code",
   "execution_count": 2,
   "metadata": {
    "colab": {},
    "colab_type": "code",
    "id": "3_i17VbvvGK8"
   },
   "outputs": [],
   "source": [
    "def plotAnimation(animation):\n",
    "    \"\"\"\n",
    "    Parameters\n",
    "    ----------\n",
    "    animimation         : (frames, rows, cols) array\n",
    "                          GIF array\n",
    "\n",
    "    Returns\n",
    "    -------\n",
    "    Animation plots      : None\n",
    "    \"\"\"\n",
    "    for frame in animation:\n",
    "        plt.imshow(frame, cmap=plt.cm.gray)\n",
    "        plt.axis('off')\n",
    "        plt.show()"
   ]
  },
  {
   "cell_type": "code",
   "execution_count": 3,
   "metadata": {
    "colab": {},
    "colab_type": "code",
    "id": "ile_dQ-DvGLD"
   },
   "outputs": [],
   "source": [
    "def gifToArray(gif_file):\n",
    "    \"\"\"\n",
    "    Parameters\n",
    "    ----------\n",
    "    gif_file             : string\n",
    "                          GIF path\n",
    "\n",
    "    Returns\n",
    "    -------\n",
    "    data                 : (frames, rows, cols) array\n",
    "                          NumPy array with GIF pixel values\n",
    "    \"\"\"\n",
    "    im = Image.open(gif_file)\n",
    "    data = list()\n",
    "    for frame in ImageSequence.Iterator(im):\n",
    "        tmp = np.array(im.convert('L'))\n",
    "        data.append(tmp)\n",
    "    data = np.array(data)\n",
    "    return data"
   ]
  },
  {
   "cell_type": "markdown",
   "metadata": {
    "colab_type": "text",
    "id": "JMO9iKGbvGLL"
   },
   "source": [
    "\n",
    "\n",
    "Podemos considerar un *GIF* como una colección de $p$ *frames*, donde un *frame* es una martriz $F\\in\\mathbb{R}^{r\\times c}$ con $r$ el número de filas y $c$ en número de columnas de esta imagen. Ahora, si $(f_k)_{i,j}$ corresponde al elemento $i,j$ del $k$-ésimo *frame*, vamos a definir $\\mathbf{f}_{i,j}=\\langle (f_1)_{i,j}, (f_2)_{i,j},\\dots,(f_p)_{i,j}\\rangle$,\n",
    "es decir, este vector corresponde a los valores de los $p$ frames de la coordenada $(i,j)$ del *GIF*.\n",
    "\n",
    "Finalmente, para trabajar con los algoritmos, vamos a construir la matriz $G \\in \\mathbb{R}^{q\\times p}$, donde $q=r\\times c$ de cada *frame*, y que se define como:\n",
    "\n",
    "\\begin{equation}\n",
    "    G = \n",
    "    \\left[\n",
    "    \\begin{array}{c}\n",
    "        \\mathbf{f}_{1,1} \\\\ \\hline\n",
    "        \\mathbf{f}_{1,2} \\\\ \\hline\n",
    "        \\dots \\\\ \\hline\n",
    "        \\mathbf{f}_{r,c}\n",
    "    \\end{array}\n",
    "    \\right]\n",
    "\\end{equation}"
   ]
  },
  {
   "cell_type": "markdown",
   "metadata": {
    "colab_type": "text",
    "id": "c66vLEwcvGLM"
   },
   "source": [
    "----\n",
    "## Funciones a Implementar"
   ]
  },
  {
   "cell_type": "markdown",
   "metadata": {
    "colab_type": "text",
    "id": "FKGPVeK6vGLO"
   },
   "source": [
    "1. Crear la función ```createG(data)``` que recibe ```data``` el arreglo ```NumPy``` con la información del GIF, y retorna el arreglo $G$ definido anteriormente. (10 puntos)"
   ]
  },
  {
   "cell_type": "code",
   "execution_count": 4,
   "metadata": {
    "colab": {},
    "colab_type": "code",
    "id": "7KtFKZE6vGLQ"
   },
   "outputs": [],
   "source": [
    "def createG(data):\n",
    "    \"\"\"\n",
    "    Parameters\n",
    "    ----------\n",
    "    data             : (frames, rows, cols) array\n",
    "                       NumPy array with GIF pixel values\n",
    "\n",
    "    G                : (q, p) array\n",
    "                       G matrix\n",
    "    \"\"\"\n",
    "    \n",
    "    \n",
    "    nframes,  nrows, ncols =  data.shape\n",
    "    q = nrows * ncols\n",
    "    \n",
    "    G = list() \n",
    "    fij = list()\n",
    "    \n",
    "    for i in range(nrows):\n",
    "        for j in range(ncols):\n",
    "            for frame in data:\n",
    "                fij.append(frame[i,j])\n",
    "\n",
    "            G.append(fij)\n",
    "            fij = list()\n",
    "            \n",
    "    return np.array(G)"
   ]
  },
  {
   "cell_type": "markdown",
   "metadata": {
    "colab_type": "text",
    "id": "NI6Wvv_YvGLX"
   },
   "source": [
    "2. Crear la función ```restoreGIF(data)``` que recibe los datos procesados ```data``` y ```shape``` que contiene la tupla ```(frames, rows, cols)```, la dimensión original del *GIF*. Esta función retorna la reconstrucción del GIF. (10 puntos)"
   ]
  },
  {
   "cell_type": "code",
   "execution_count": 5,
   "metadata": {
    "colab": {},
    "colab_type": "code",
    "id": "rSrx92TivGLY"
   },
   "outputs": [],
   "source": [
    "def restoreGIF(data, shape):\n",
    "    \"\"\"\n",
    "    Parameters\n",
    "    ----------\n",
    "    data             : (q, p) array\n",
    "                       G matrix\n",
    "    shape            : tuple (frames, rows, cols) \n",
    "    Returns\n",
    "    -------\n",
    "    reshaped_data    : (frames, rows, cols) array\n",
    "                       NumPy array with GIF pixel values\n",
    "                       \n",
    "    \"\"\"\n",
    "    \n",
    "    nframes, nrows, ncols = shape\n",
    "    \n",
    "    # set up the frames to 0\n",
    "    reshaped_data = np.array([np.zeros((nrows,ncols)) for i in range(nframes)]).astype(\"int\")\n",
    "    \n",
    "    # transpuse la matriz porque me costaba verla vertical\n",
    "    Data = data.T\n",
    "    \n",
    "    # fill in the frames\n",
    "    for frame_k in range(nframes):\n",
    "        offset = 0\n",
    "        for row in range(nrows):\n",
    "            col = 0\n",
    "            for c in range(offset, ncols+offset):\n",
    "                reshaped_data[frame_k, row, col] = Data[frame_k, c]\n",
    "                col += 1\n",
    "                offset += 1 \n",
    "                \n",
    "    return reshaped_data"
   ]
  },
  {
   "cell_type": "markdown",
   "metadata": {
    "colab_type": "text",
    "id": "wBIADoJZvGLg"
   },
   "source": [
    "### SVD\n",
    "3. Implementar la función ```G_SVD(G, m)``` que reciba la matriz $G$ y los $m$ componentes que se utilizarán para comprimir el *GIF* utilizando *SVD*. La función debe retornar $U$, $\\textrm{diag}(\\Sigma)$ y $V^T$. Además, implementar la función ```SVD_G(U, s, Vt)``` que recibe las matrices generadas por el *SVD* y retorne la reconstrucción de la matriz $G$. (30 puntos)"
   ]
  },
  {
   "cell_type": "code",
   "execution_count": 6,
   "metadata": {
    "colab": {},
    "colab_type": "code",
    "id": "_s-S59b6vGLg"
   },
   "outputs": [],
   "source": [
    "# G to SVD\n",
    "def G_SVD(G, m):\n",
    "    \"\"\"\n",
    "    Parameters\n",
    "    ----------\n",
    "    G             : (q, p)-array\n",
    "                    G matrix\n",
    "    m             : int\n",
    "                    Number of components\n",
    "    Returns\n",
    "    -------\n",
    "    U             : (q, m)-array\n",
    "                    SVD U matrix\n",
    "    s             : m-array\n",
    "                    Singular values\n",
    "    Vt            : (m, p)-array\n",
    "                    SVD V^T matrix \n",
    "    \"\"\"\n",
    "    # Apply SVD\n",
    "    u, preS, v = np.linalg.svd(G, full_matrices=False)\n",
    "    \n",
    "    # ajuste matrices\n",
    "    U = u[ : , : m]\n",
    "    s = preS[ : m]\n",
    "    Vt = v\n",
    "    \n",
    "    return U, s, Vt\n",
    "\n",
    "# SVD to 'compressed' G\n",
    "def SVD_G(U, s, Vt):\n",
    "    \"\"\"\n",
    "    Parameters\n",
    "    ----------\n",
    "    U             : (q, m)-array\n",
    "                    SVD U matrix\n",
    "    s             : m-array\n",
    "                    Singular values\n",
    "    Vt            : (m, q)-array\n",
    "                    SVD V^T matrix \n",
    "    Returns\n",
    "    -------\n",
    "    B             : (p, q)-array\n",
    "                    \"Compressed\" G\n",
    "    \"\"\"\n",
    "    \n",
    "    diag_s = np.zeros((U.shape[1], Vt.shape[0]))\n",
    "    s = np.diag(s)\n",
    "    diag_s[ : U.shape[1], : s.shape[0]] = s\n",
    "    \n",
    "    y = np.dot(diag_s, Vt)\n",
    "    B = np.dot(U, y).astype(\"int\")\n",
    "    \n",
    "    return B"
   ]
  },
  {
   "cell_type": "markdown",
   "metadata": {
    "colab_type": "text",
    "id": "8sMOpP2xvGLs"
   },
   "source": [
    "### PCA\n",
    "4. Implementar la función ```G_PCA(G, m)``` que reciba la matriz $G$ y los $m$ componentes que se utilizarán para comprimir el *GIF* utilizando *PCA*. La función debe retornar $PC$, $Y$ y $\\mu$. Además, implementar la función ```PCA_G(PC, Y, mu)``` que recibe las matrices generadas por *PCA* y retorne la reconstrucción de la matriz $G$. Para esto debe utilizar la funcion de SVD implementada en el punto anterior. (35 puntos)"
   ]
  },
  {
   "cell_type": "code",
   "execution_count": 7,
   "metadata": {
    "colab": {},
    "colab_type": "code",
    "id": "9HCshfMDvGLt"
   },
   "outputs": [],
   "source": [
    "def G_PCA(G, m):\n",
    "    \"\"\"\n",
    "    Parameters\n",
    "    ----------\n",
    "    G             : (q, p)-array\n",
    "                    G matrix\n",
    "    m             : int\n",
    "                    Number of components\n",
    "    Returns\n",
    "    -------\n",
    "    PC             : (p, m)-array\n",
    "                     first m principal components\n",
    "    Y              : (q,m)-array\n",
    "                     PC Scores \n",
    "    mu             : (p)-array\n",
    "                     Average per column \n",
    "    \"\"\"\n",
    "       \n",
    "    # mu\n",
    "    mu = np.mean(G, axis=0)\n",
    "    \n",
    "    # se calcula Z, G = X\n",
    "    Z = G - mu\n",
    "    \n",
    "    # se obtiene svd de Z\n",
    "    _, _, Vt = G_SVD(Z, m)\n",
    "    \n",
    "    # dado que svd retorna Vt se debe transponer\n",
    "    # componentes principales de Y\n",
    "    PC = (Vt.T)[ : , : m]\n",
    "    \n",
    "    # se obtiene el Y para el cambio de base\n",
    "    Y = np.dot(Z, PC)\n",
    "    \n",
    "    return  PC, Y, mu"
   ]
  },
  {
   "cell_type": "code",
   "execution_count": 8,
   "metadata": {
    "colab": {},
    "colab_type": "code",
    "id": "m05kUtkAvGL0"
   },
   "outputs": [],
   "source": [
    "def PCA_G(PC, Y, mu):\n",
    "    \"\"\"\n",
    "    Parameters\n",
    "    ----------\n",
    "    PC             : (p, m)-array\n",
    "                     first m principal components\n",
    "    Y             : (q,m)-array\n",
    "                    PC Scores \n",
    "    mu           : (p)-array\n",
    "                    Average per column \n",
    "    Returns\n",
    "    -------\n",
    "    B            : (q, p)-array\n",
    "                    \"Compressed\" G\n",
    "    \"\"\"\n",
    "    \n",
    "    B = np.dot(Y, PC.T) + mu\n",
    "    \n",
    "    return B"
   ]
  },
  {
   "cell_type": "markdown",
   "metadata": {
    "colab_type": "text",
    "id": "WXU6uYie6Nq0"
   },
   "source": [
    "## Preguntas\n",
    "\n",
    "Para responder las siguientes preguntas, debe implementar las funciones propuestas"
   ]
  },
  {
   "cell_type": "markdown",
   "metadata": {
    "colab_type": "text",
    "id": "5RmHo48BvGM2"
   },
   "source": [
    "#### 1. ¿Cuál sería el costo de almacenamiento en MB usando $m$ vectores singulares? (5 puntos)"
   ]
  },
  {
   "cell_type": "code",
   "execution_count": 9,
   "metadata": {
    "colab": {},
    "colab_type": "code",
    "id": "e7y73fYtvGM2"
   },
   "outputs": [],
   "source": [
    "def SVD_size(G, m):\n",
    "    \"\"\"\n",
    "    Parameters\n",
    "    ----------\n",
    "    G             : (q, p)-array\n",
    "                    G matrix\n",
    "    m             : int\n",
    "                    Number of components\n",
    "    Returns\n",
    "    -------\n",
    "    size          : Float\n",
    "                    total size of SVD return\n",
    "    \"\"\"\n",
    "    U, s, Vt = G_SVD(G, m)\n",
    "    \n",
    "    size = (U.itemsize)*(U.size) + (s.itemsize)*(s.size) + (Vt.itemsize)*(Vt.size)\n",
    "    size = size*(10**-6)\n",
    "    return size\n",
    "\n",
    "\n",
    "def PCA_size(G, m):\n",
    "    \"\"\"\n",
    "    Parameters\n",
    "    ----------\n",
    "    G             : (q, p)-array\n",
    "                    G matrix\n",
    "    m             : int\n",
    "                    Number of components\n",
    "    Returns\n",
    "    -------\n",
    "    size          : Float\n",
    "                    total size of PCA return\n",
    "    \"\"\"\n",
    "    PC, Y, mu = G_PCA(G, m)\n",
    "    size = (PC.itemsize)*(PC.size) + (Y.itemsize)*(Y.size) + (mu.itemsize)*(mu.size)\n",
    "    size = size*(10**-6)\n",
    "    return size"
   ]
  },
  {
   "cell_type": "markdown",
   "metadata": {
    "colab_type": "text",
    "id": "klJlLp9svGM6"
   },
   "source": [
    "#### 2. ¿Cuál sería el *gif* resultante con $m$ componentes? (5 puntos)"
   ]
  },
  {
   "cell_type": "code",
   "execution_count": 10,
   "metadata": {
    "colab": {},
    "colab_type": "code",
    "id": "NfS25SORvGM7"
   },
   "outputs": [],
   "source": [
    "def print_animation_SVD(G, m, shape):\n",
    "    \"\"\"\n",
    "    Parameters\n",
    "    ----------\n",
    "    G             : (q, p)-array\n",
    "                    G matrix\n",
    "    m             : int\n",
    "                    Number of components\n",
    "    shape         : tuple (frames, rows, cols) \n",
    "    Returns\n",
    "    -------\n",
    "    La funcion no debe retornar nada, solo mostrar las imagenes de los frames reconstruidos\n",
    "    \"\"\"\n",
    "    U, s, Vt = G_SVD(G, m)\n",
    "    svd_g = SVD_G(U, s, Vt)\n",
    "    restored_svd = restoreGIF(svd_g, shape)\n",
    "    plotAnimation(restored_svd)\n",
    "    return\n",
    "\n",
    "\n",
    "def print_animation_PCA(G, m, shape):\n",
    "    \"\"\"\n",
    "    Parameters\n",
    "    ----------\n",
    "    G             : (q, p)-array\n",
    "                    G matrix\n",
    "    m             : int\n",
    "                    Number of components\n",
    "    shape         : tuple (frames, rows, cols) \n",
    "    Returns\n",
    "    -------\n",
    "    La funcion no debe retornar nada, solo mostrar las imagenes de los frames reconstruidos\n",
    "    \"\"\"\n",
    "    PC, Y, mu = G_PCA(G, m)\n",
    "    restored_pca = restoreGIF(PCA_G(PC, Y, mu), shape)\n",
    "    plotAnimation(restored_pca)\n",
    "    return\n",
    "\n"
   ]
  },
  {
   "cell_type": "markdown",
   "metadata": {
    "colab_type": "text",
    "id": "hAYGfX8TvGNO"
   },
   "source": [
    "#### 3. ¿Cual sería el error en función de $m$? (Calcule el error utilizando la norma-2) (5 puntos)\n",
    "\n",
    "Considere calcular el error de la siguiente manera: $||G-B_m||_2$, donde $G$ corresponde a la matriz definida anteriormente y $B_m$ a la matriz \"comprimida\" utilizando los métodos correspondientes para un $m$ particular."
   ]
  },
  {
   "cell_type": "code",
   "execution_count": 17,
   "metadata": {
    "colab": {},
    "colab_type": "code",
    "id": "Wk65LuvdvGNP"
   },
   "outputs": [],
   "source": [
    "def compression_error_SVD(G, m):\n",
    "    \"\"\"\n",
    "    Parameters\n",
    "    ----------\n",
    "    G             : (q, p)-array\n",
    "                    G matrix\n",
    "    m             : int\n",
    "                    Number of components\n",
    "    Returns\n",
    "    -------\n",
    "    error          : Float\n",
    "                    total size of PCA return\n",
    "    \"\"\"\n",
    "    \n",
    "    U, s, Vt = G_SVD(G, m)\n",
    "    svd_g = SVD_G(U, s, Vt)\n",
    "    \n",
    "    error = np.linalg.norm(G - svd_g, ord=2)\n",
    "    \n",
    "    return error\n",
    "\n",
    "def compression_error_PCA(G, m):\n",
    "    \"\"\"\n",
    "    Parameters\n",
    "    ----------\n",
    "    G             : (q, p)-array\n",
    "                    G matrix\n",
    "    m             : int\n",
    "                    Number of components\n",
    "    Returns\n",
    "    -------\n",
    "    error         : Float\n",
    "                    total size of PCA return\n",
    "    \"\"\"\n",
    "    \n",
    "    PC, Y, mu = G_PCA(G, m)\n",
    "    B = PCA_G(PC, Y, mu)\n",
    "    error = np.linalg.norm(G - B, ord=2)\n",
    "    \n",
    "    return error"
   ]
  },
  {
   "cell_type": "markdown",
   "metadata": {
    "colab_type": "text",
    "id": "OCJCcJjH8Bbs"
   },
   "source": [
    "# Prueba\n",
    "\n",
    "Para verificar sus algoritmos, pruebe las funciones desarrolladas para $m=10$."
   ]
  },
  {
   "cell_type": "markdown",
   "metadata": {
    "colab_type": "text",
    "id": "R2zh8RmEvGNT"
   },
   "source": [
    "# Referencias\n",
    "\n",
    "- https://numpy.org/doc/stable/reference/generated/numpy.linalg.norm.html\n",
    "- https://numpy.org/doc/stable/reference/generated/numpy.linalg.svd.html\n",
    "- https://numpy.org/doc/stable/reference/generated/numpy.mean.html\n",
    "- https://numpy.org/doc/stable/reference/generated/numpy.ndarray.itemsize.html\n",
    "- https://numpy.org/doc/stable/reference/generated/numpy.ndarray.size.html"
   ]
  },
  {
   "cell_type": "code",
   "execution_count": null,
   "metadata": {},
   "outputs": [],
   "source": []
  }
 ],
 "metadata": {
  "colab": {
   "collapsed_sections": [],
   "name": "Tarea-2.ipynb",
   "provenance": []
  },
  "kernelspec": {
   "display_name": "Python 3",
   "language": "python",
   "name": "python3"
  },
  "language_info": {
   "codemirror_mode": {
    "name": "ipython",
    "version": 3
   },
   "file_extension": ".py",
   "mimetype": "text/x-python",
   "name": "python",
   "nbconvert_exporter": "python",
   "pygments_lexer": "ipython3",
   "version": "3.7.4"
  }
 },
 "nbformat": 4,
 "nbformat_minor": 4
}
