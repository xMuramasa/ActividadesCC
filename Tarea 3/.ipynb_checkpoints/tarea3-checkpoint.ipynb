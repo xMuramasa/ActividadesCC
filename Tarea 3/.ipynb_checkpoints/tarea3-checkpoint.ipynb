{
 "cells": [
  {
   "cell_type": "code",
   "execution_count": null,
   "metadata": {},
   "outputs": [],
   "source": [
    "import numpy as np\n",
    "import sympy as sp\n",
    "from PIL import Image\n",
    "from scipy import interpolate\n",
    "import matplotlib.pyplot as plt\n",
    "import time\n",
    "from skimage.metrics import structural_similarity as s_sim\n",
    "from skimage import img_as_float"
   ]
  },
  {
   "cell_type": "markdown",
   "metadata": {},
   "source": [
    "# Tarea 3:Interpolación Bicúbica"
   ]
  },
  {
   "cell_type": "markdown",
   "metadata": {},
   "source": [
    "## Instrucciones\n",
    "\n",
    "* La tarea es individual.\n",
    "* Las consultas sobre las tareas se deben realizar por medio de la plataforma Aula.\n",
    "* La tarea debe ser realizada en `Jupyter Notebook` (`Python3`).\n",
    "* Se evaluará la correcta utilización de librerias `NumPy`, `SciPy`, entre otras, así como la correcta implementación de algoritmos de forma vectorizada.\n",
    "*  **El archivo de entrega debe denominarse ROL-tarea-numero.ipynb**. _De no respetarse este formato existirá un descuento de **50 puntos**_\n",
    "* La fecha de entrega es el viernes 24 de Julio a las **18:00 hrs**.  Se aceptarán entregas hasta las 19:00 hrs sin descuento en caso de existir algun problema, posteriormente existirá un descuento lineal hasta las 20:00 hrs del mismo día.\n",
    "* Las tareas que sean entregadas antes del jueves a mediodía recibirán una bonificación de 10 puntos\n",
    "* Debe citar cualquier código ajeno utilizado (incluso si proviene de los Jupyter Notebooks del curso).\n"
   ]
  },
  {
   "cell_type": "markdown",
   "metadata": {},
   "source": [
    "## Introducción"
   ]
  },
  {
   "cell_type": "markdown",
   "metadata": {},
   "source": [
    "En la siguiente tarea estudiaremos un método de interpolación denominado **Interpolación Bicúbica**, utilizada frecuentemente sobre imágenes. Aplicaremos el método para aumentar la resolución de una imagen intentando preservar las propiedades de la versión original."
   ]
  },
  {
   "cell_type": "markdown",
   "metadata": {},
   "source": [
    "## Contexto"
   ]
  },
  {
   "cell_type": "markdown",
   "metadata": {},
   "source": [
    "Supongamos que usted conoce $f$ y las derivadas $f_x$, $f_y$ y $f_{xy}$ dentro de las coordenadas $(0,0),(0,1),(1,0)$ y $(1,1)$ de un cuadrado unitario. La superficie que interpola estos 4 puntos es:\n",
    "\n",
    "$$\n",
    "p(x,y) = \\sum\\limits_{i=0}^3 \\sum_{j=0}^3 a_{ij} x^i y^j.\n",
    "$$\n",
    "\n",
    "Como se puede observar el problema de interpolación se resume en determinar los 16 coeficientes $a_{ij}$ y para esto se genera un total de $16$ ecuaciones utilizando los valores conocidos de $f$,$f_x$,$f_y$ y $f_{xy}$. Por ejemplo, las primeras $4$ ecuaciones son:\n",
    "\n",
    "$$\n",
    "\\begin{aligned}\n",
    "f(0,0)&=p(0,0)=a_{00},\\\\\n",
    "f(1,0)&=p(1,0)=a_{00}+a_{10}+a_{20}+a_{30},\\\\\n",
    "f(0,1)&=p(0,1)=a_{00}+a_{01}+a_{02}+a_{03},\\\\\n",
    "f(1,1)&=p(1,1)=\\textstyle \\sum \\limits _{i=0}^{3}\\sum \\limits _{j=0}^{3}a_{ij}.\n",
    "\\end{aligned}\n",
    "$$\n",
    "\n",
    "Para las $12$ ecuaciones restantes se debe utilizar:\n",
    "\n",
    "$$\n",
    "\\begin{aligned}\n",
    "f_{x}(x,y)&=p_{x}(x,y)=\\textstyle \\sum \\limits _{i=1}^{3}\\sum \\limits _{j=0}^{3}a_{ij}ix^{i-1}y^{j},\\\\\n",
    "f_{y}(x,y)&=p_{y}(x,y)=\\textstyle \\sum \\limits _{i=0}^{3}\\sum \\limits _{j=1}^{3}a_{ij}x^{i}jy^{j-1},\\\\\n",
    "f_{xy}(x,y)&=p_{xy}(x,y)=\\textstyle \\sum \\limits _{i=1}^{3}\\sum \\limits _{j=1}^{3}a_{ij}ix^{i-1}jy^{j-1}.\n",
    "\\end{aligned}\n",
    "$$\n",
    "\n",
    "\n",
    "Una vez planteadas las ecuaciones, los coeficientes se pueden obtener al resolver el problema $A\\alpha=x$, donde $\\alpha=\\left[\\begin{smallmatrix}a_{00}&a_{10}&a_{20}&a_{30}&a_{01}&a_{11}&a_{21}&a_{31}&a_{02}&a_{12}&a_{22}&a_{32}&a_{03}&a_{13}&a_{23}&a_{33}\\end{smallmatrix}\\right]^T$ y ${\\displaystyle x=\\left[{\\begin{smallmatrix}f(0,0)&f(1,0)&f(0,1)&f(1,1)&f_{x}(0,0)&f_{x}(1,0)&f_{x}(0,1)&f_{x}(1,1)&f_{y}(0,0)&f_{y}(1,0)&f_{y}(0,1)&f_{y}(1,1)&f_{xy}(0,0)&f_{xy}(1,0)&f_{xy}(0,1)&f_{xy}(1,1)\\end{smallmatrix}}\\right]^{T}}$.\n"
   ]
  },
  {
   "cell_type": "markdown",
   "metadata": {},
   "source": [
    "En un contexto más aplicado, podemos hacer uso de la interpolación bicúbica para aumentar la resolución de una imagen. Supongamos que tenemos la siguiente imagen de tamaño $5 \\times 5$:"
   ]
  },
  {
   "cell_type": "markdown",
   "metadata": {},
   "source": [
    "<img src=\"img1.png\" width=\"20%\"/>"
   ]
  },
  {
   "cell_type": "markdown",
   "metadata": {},
   "source": [
    "Podemos ir tomando segmentos de la imagen de tamaño $2 \\times 2$ de la siguiente forma:"
   ]
  },
  {
   "cell_type": "markdown",
   "metadata": {},
   "source": [
    "<img src=\"img2.png\" width=\"50%\"/>"
   ]
  },
  {
   "cell_type": "markdown",
   "metadata": {},
   "source": [
    "Por cada segmento podemos generar una superficie interpoladora mediante el algoritmo de interpolación cubica. Para el ejemplo anterior estariamos generando $16$ superficies interpoladoras distintas. La idea es hacer uso de estas superficies para estimar los valores de los pixeles correspondienets a una imagen más grande. Por ejemplo, la imagen $5 \\times 5$ la podemos convertir a una imagen de $9 \\times 9$ agregando un pixel entre cada par de pixeles originales además de uno en el centro para que no quede un hueco."
   ]
  },
  {
   "cell_type": "markdown",
   "metadata": {},
   "source": [
    "<img src=\"img3.png\" width=\"50%\"/>"
   ]
  },
  {
   "cell_type": "markdown",
   "metadata": {},
   "source": [
    "Aca los pixeles verdes son los mismos que la imagen original y los azules son obtenidos de evaluar cada superficie interpoladora. Notar que existen pixeles azules que se pueden obtener a partir de dos superficies interpoladoras distintas, en esos casos se puede promediar el valor de los pixeles o simplemente dejar uno de los dos. \n",
    "\n",
    "Para trabajar con la interpolación bicubica necesitamos conocer los valores de $f_x$, $f_y$ y $f_{xy}$. En el caso de las imagenes solo tenemos acceso al valor de cada pixel por lo que deberemos estimar cual es el valor de estos. Para estimar $f_x$ haremos lo siguiente:"
   ]
  },
  {
   "cell_type": "markdown",
   "metadata": {},
   "source": [
    "Para estimar el valor de $f_x$ en cada pixel haremos una interpolación con los algoritmos conocidos, usando tres pixels en dirección de las filas, luego derivaremos el polinomio obtenido y finalmente evaluaremos en la posición de interes. La misma idea aplica para $f_y$ solo que ahora interpolaremos en dirección de las columnas."
   ]
  },
  {
   "cell_type": "markdown",
   "metadata": {},
   "source": [
    "<img src=\"img5.png\" width=\"60%\"/>"
   ]
  },
  {
   "cell_type": "markdown",
   "metadata": {},
   "source": [
    "Por ejemplo si queremos obtener el valor de $f_x$ en la posición $(0,0)$ (imagen de la izquierda) entonces haremos una interpolación de Lagrange utilizando los pixeles $(0,0),(0,1)$ y $(0,2)$. Derivaremos el polinomio interpolador y evaluaremos en $(0,0)$. Por otro lado si queremos obtener el valor de $f_y$ en la posición $(0,0)$ (imagen de la derecha) entonces interpolaremos los pixeles $(0,0),(1,0)$ y $(2,0)$. Luego derivaremos el polinomio interpolador y evaluaremos en $(0,0)$."
   ]
  },
  {
   "cell_type": "markdown",
   "metadata": {},
   "source": [
    "Para obtener $f_{xy}$ seguiremos la idea anterior. Solo que esta vez se utilizaran los valores de $f_y$ y se interpolaran estos en dirección de las filas."
   ]
  },
  {
   "cell_type": "markdown",
   "metadata": {},
   "source": [
    "# Preguntas"
   ]
  },
  {
   "cell_type": "markdown",
   "metadata": {},
   "source": [
    "## 1. Interpolación bicubica"
   ]
  },
  {
   "cell_type": "markdown",
   "metadata": {},
   "source": [
    "### 1.1  Obtener derivadas (30 puntos)\n",
    "\n",
    "Implemente la función `derivativeValues` que reciba como input un arreglo con valores, el método de interpolación y si es que se considera el uso de  los puntos de chebyshev . La función debe retornar un arreglo de igual dimensión con los valores de las derivadas de los puntos obtenidas\n",
    "\n",
    "Los métodos de interpolación serán representados por los siguientes valores\n",
    "\n",
    "* Interpolación de lagrange: `'lagrange'`\n",
    "* Diferencias divididas de Newton: `'newton'`\n",
    "* Spline cubica: `'spline3'`\n"
   ]
  },
  {
   "cell_type": "code",
   "execution_count": null,
   "metadata": {},
   "outputs": [],
   "source": [
    "# codigo de https://github.com/sct-utfsm/INF-285/blob/master/material/05_interpolacion_1D/interpolacion.ipynb\n",
    "def chebyshevNodes(n):\n",
    "    \"\"\"\n",
    "    Parameters\n",
    "    ----------\n",
    "    n: (int) size of array with chebyshev nodes\n",
    "\n",
    "    Returns\n",
    "    -------\n",
    "    array with chebyshev nodes\n",
    "    \"\"\"\n",
    "    i = np.arange(1, n+1)\n",
    "    t = (2*i - 1) * np.pi / (2 * n)\n",
    "    return np.cos(t)\n",
    "\n",
    "\n",
    "# codigo de https://github.com/tclaudioe/Scientific-Computing/blob/master/SC1/07_Polynomial_Interpolation_1D.ipynb\n",
    "def Divided_Differences(x, y):\n",
    "    dd = np.array([y])\n",
    "    for i in range(len(x)-1):\n",
    "        ddi = []\n",
    "        for a in range(len(x)-i-1):\n",
    "            ddi.append((dd[i][a+1]-dd[i][a])/(x[a+i+1]-x[a]))\n",
    "        ddi = np.append(ddi,np.full((len(x)-len(ddi),),0.0))\n",
    "        dd = np.append(dd,[ddi],axis=0)\n",
    "    return np.array(dd)\n",
    "\n",
    "\n",
    "def Newton(x, y, show=False):\n",
    "    # We calculate the divided differences and store them in a data structure\n",
    "    dd = Divided_Differences(x,y)\n",
    "    \n",
    "    # The function shows the data if the flag is true\n",
    "\n",
    "    #if show:\n",
    "    #print('Data Points: '); print([(x[i],y[i]) for i in range(len(x))])\n",
    "    xS = sp.Symbol('x')\n",
    "    N = np.dot(dd[:,0],np.append([1],[np.prod(xS-x[:i]) for i in range(1,len(dd))]))\n",
    "    #print('Interpolation Function: ');\n",
    "    #print(N)\n",
    "        \n",
    "    # Finally, we return a data structure with our interpolating polynomial\n",
    "    D = {'M':'Newton',\n",
    "         'P':dd[:,0],\n",
    "         'x':x,\n",
    "         'y':y,\n",
    "         'N':N}\n",
    "    return D"
   ]
  },
  {
   "cell_type": "code",
   "execution_count": null,
   "metadata": {},
   "outputs": [],
   "source": [
    "def derivativeValues(values, method, cheb):\n",
    "    \"\"\"\n",
    "    Parameters\n",
    "    ----------\n",
    "    values:\t(int array) points values\n",
    "    method:\t(string)\tinterpolation method\n",
    "    cheb:\t(boolean)\tif chebyshev points are used\n",
    "\n",
    "    Returns\n",
    "    -------\n",
    "    d:\t(float array) derivative value of interpolated points\n",
    "\n",
    "    \"\"\"\n",
    "    var, y = sp.symbols('x y')\n",
    "    \n",
    "    if cheb:\n",
    "        x = np.sort(chebyshevNodes(values.shape[0]))\n",
    "        \n",
    "    else:\n",
    "        x = np.linspace(0, 1, num=values.shape[0])\n",
    "        \n",
    "    if method == 'lagrange':\n",
    "        d = interpolate.lagrange(x, values)\n",
    "        d = np.poly1d(d).deriv()\n",
    "        \n",
    "    elif method == 'newton':\n",
    "        D = Newton(x, values)\n",
    "        d = D[\"N\"]\n",
    "        d = sp.diff(d, var)\n",
    "        \n",
    "    else:\n",
    "        d = interpolate.CubicSpline(x, values)\n",
    "        d = d.derivative()\n",
    "        \n",
    "    if method == 'newton':\n",
    "        d = np.array([d.subs({\"x\":i}) for i in x.astype(\"int\")])\n",
    "    else:\n",
    "        d = d(x)\n",
    "    \n",
    "    return d"
   ]
  },
  {
   "cell_type": "markdown",
   "metadata": {},
   "source": [
    "\n",
    "### 1.2 Interpolación de imagen (50 puntos)\n",
    "Implemente la función `bicubicInterpolation` que reciba como input la matriz de la imagen y cuantos píxeles extra se quiere agregar entre los píxeles originales y el algoritmo de interpolación a utilizar. La función debe retornar la matriz con la imagen de dimensión nueva. Considere que se debe aplicar el método de interpolación en cada canal RGB por separado."
   ]
  },
  {
   "cell_type": "code",
   "execution_count": 3,
   "metadata": {},
   "outputs": [],
   "source": [
    "def interP(Aoriginal, Anew, n, method, cheb, interiorPixels):\n",
    "    \"\"\"\n",
    "    Parameters\n",
    "    ----------\n",
    "    Aoriginal:\t    (n x n x 1 array) RGB channel\n",
    "    Anew:\t        (m x m x 1 array) Aoriginal after resizing\n",
    "    n:\t            (int)             range\n",
    "    method:         (string)          method for interpolation\n",
    "    cheb:           (boolean)         in case we need chebyshev nodes\n",
    "    interiorPixels: (int)             quantity of new pixels in between\n",
    "    Returns\n",
    "    -------\n",
    "    A:\t(float array) resized and interpolated matrix (Anew)\n",
    "\n",
    "    \"\"\"    \n",
    "    # this is for alpha = l x F x l.T multiplication   \n",
    "    l = np.array([\n",
    "        [1,0,0,0],\n",
    "        [0,0,1,0],\n",
    "        [-3,3,-2,-1],\n",
    "        [2,-2,2,1]\n",
    "    ])\n",
    "\n",
    "    # function to obtain interpolation of an x,y point w/  alpha coef\n",
    "    P = lambda x,y,a: np.array([x**i for i in range(4)])@ a @np.array([y**i for i in range(4)])\n",
    "    \n",
    "    A = Anew.copy()\n",
    "    \n",
    "    # we prepare derivatives matrices\n",
    "    fx_Matrix = np.zeros_like(Aoriginal)\n",
    "    fy_Matrix_T = np.zeros_like(Aoriginal)    \n",
    "    fxy_Matrix = np.zeros_like(Aoriginal)\n",
    "         \n",
    "    for i,x in enumerate(Aoriginal):\n",
    "        for j,y in enumerate(x):\n",
    "            if j+2 < n:\n",
    "                fx_Matrix[i,j: j+3] = derivativeValues(Aoriginal[i, j:j+3], method,cheb)\n",
    "                fy_Matrix_T[i,j: j+3] = derivativeValues(Aoriginal.T[i, j:j+3], method,cheb)\n",
    "            else:\n",
    "                break\n",
    "                \n",
    "    fy_Matrix = fy_Matrix_T.T\n",
    "    \n",
    "    for i,x in enumerate(fy_Matrix):\n",
    "        for j,y in enumerate(x):\n",
    "            if j+2 < n:\n",
    "                fxy_Matrix[i,j: j+3] = derivativeValues(fy_Matrix[i, j:j+3], method,cheb)\n",
    "            else:\n",
    "                break\n",
    "                \n",
    "    #-----------------------------------------------------------------> hasta acá ok    \n",
    "    #-----------------------------------------------------------------> \n",
    "    \n",
    "    for ii, x in enumerate(Anew):\n",
    "        for jj, y in enumerate(x):\n",
    "            \n",
    "            newI = np.floor(ii/(1+interiorPixels)).astype(int)\n",
    "            newJ = np.floor(jj/(1+interiorPixels)).astype(int)\n",
    "            \n",
    "            if newI + 1 < n:\n",
    "                if newJ + 1 < n:\n",
    "                    f00 = Aoriginal[newI, newJ]\n",
    "                    f01 = Aoriginal[newI, newJ+1]\n",
    "                    f10 = Aoriginal[newI+1, newJ]\n",
    "                    f11 = Aoriginal[newI+1, newJ+1]\n",
    "\n",
    "                    fx00 = fx_Matrix[newI, newJ]\n",
    "                    fx01 = fx_Matrix[newI, newJ+1]\n",
    "                    fx10 = fx_Matrix[newI+1, newJ]\n",
    "                    fx11 = fx_Matrix[newI+1, newJ+1]\n",
    "\n",
    "                    fy00 = fy_Matrix[newI, newJ]\n",
    "                    fy01 = fy_Matrix[newI, newJ+1]\n",
    "                    fy10 = fy_Matrix[newI+1, newJ]\n",
    "                    fy11 = fy_Matrix[newI+1, newJ+1]\n",
    "\n",
    "                    fxy00 = fxy_Matrix[newI, newJ]\n",
    "                    fxy01 = fxy_Matrix[newI, newJ+1]\n",
    "                    fxy10 = fxy_Matrix[newI+1, newJ]\n",
    "                    fxy11 = fxy_Matrix[newI+1, newJ+1]\n",
    "                \n",
    "                else:\n",
    "                    \n",
    "                    f00 = f01 = Aoriginal[newI, newJ]\n",
    "                    f10 = f11 = Aoriginal[newI+1, newJ]\n",
    "\n",
    "                    fx00 = fx01 = fx_Matrix[newI, newJ]\n",
    "                    fx10 = fx11 = fx_Matrix[newI+1, newJ]\n",
    "                    \n",
    "                    fy00 = fy01 = fy_Matrix[newI, newJ]\n",
    "                    fy10 = fy11 = fy_Matrix[newI+1, newJ]\n",
    "                    \n",
    "                    fxy00 = fxy01 = fxy_Matrix[newI, newJ]\n",
    "                    fxy10 = fxy11 = fxy_Matrix[newI+1, newJ]\n",
    "            else:\n",
    "                if newJ + 1 < n:\n",
    "                    f00 = f10 = Aoriginal[newI, newJ]\n",
    "                    f01 = f11 = Aoriginal[newI, newJ+1]\n",
    "\n",
    "                    fx00 = fx10 = fx_Matrix[newI, newJ]\n",
    "                    fx01 = fx11 = fx_Matrix[newI, newJ+1]\n",
    "                    \n",
    "                    fy00 = fy10 = fy_Matrix[newI, newJ]\n",
    "                    fy01 = fy11 = fy_Matrix[newI, newJ+1]\n",
    "                    \n",
    "                    fxy00 = fxy10 = fxy_Matrix[newI, newJ]\n",
    "                    fxy01 = fxy11 = fxy_Matrix[newI, newJ+1]  \n",
    "            #----------------------------------------------------------------------- desde aca\n",
    "            #final stuff to get te interpolated point  \n",
    "            # we got the super F\n",
    "            # compute coeficients\n",
    "            \n",
    "            F = np.array([\n",
    "                [f00,f01,fy00,fy01],\n",
    "                [f10, f11, fy10,fy11],\n",
    "                [fx00,fx01,fxy00,fxy01],\n",
    "                [fx10,fx11,fxy10,fxy11]])\n",
    "            \n",
    "            # big brain time\n",
    "            a = l @ F @ l.T\n",
    "            #----------------------------------------------------------------------- hasta acá ok\n",
    "            \n",
    "            # calculate interpolated point\n",
    "            H = ((ii - np.floor(newI*(1+interiorPixels)))/n - 1)\n",
    "            V = ((jj - np.floor(newJ*(1+interiorPixels)))/n - 1)\n",
    "            #bruh moment\n",
    "            p = P(1+H, 1+V, a)\n",
    "            if 0 <= p:\n",
    "                if p <= 255:\n",
    "                    A[ii,jj] = p\n",
    "                else:\n",
    "                    A[ii,jj] = 255\n",
    "            else:\n",
    "                A[ii,jj] = 0             \n",
    "    return A            "
   ]
  },
  {
   "cell_type": "code",
   "execution_count": null,
   "metadata": {},
   "outputs": [],
   "source": [
    "def bicubicInterpolation(image, interiorPixels, method, cheb):\n",
    "    \"\"\"\n",
    "    Parameters\n",
    "    ----------\n",
    "    image:\t(nxnx3 array) image array in RGB format\n",
    "    interiorPixels:\t(int)\tpixels for expansion\n",
    "    method:\t(string)\tinterpolation method\n",
    "    cheb:\t(boolean)\tif chebyshev points are used\n",
    "\n",
    "    Returns\n",
    "    -------\n",
    "    newImage:\t(nxnx3 array) image array in RGB format\n",
    "\n",
    "    \"\"\"\n",
    "    # original image decomposition\n",
    "    AR = image[0: , 0: , 0]\n",
    "    AG = image[0: , 0: , 1]\n",
    "    AB = image[0: , 0: , 2]   \n",
    "    \n",
    "    newN = image.shape[0] + interiorPixels*(image.shape[0] - 1)\n",
    "    # new size array for each x in {R,G,B}\n",
    "    newAR = np.zeros((newN, newN))\n",
    "    newAG = np.zeros((newN, newN))\n",
    "    newAB = np.zeros((newN, newN))   \n",
    "    \n",
    "    newAR = interP(AR, newAR, image.shape[0], method, cheb, interiorPixels)\n",
    "    newAG = interP(AG, newAG, image.shape[0], method, cheb, interiorPixels)\n",
    "    newAB = interP(AB, newAB, image.shape[0], method, cheb, interiorPixels)  \n",
    "    \n",
    "    # fill new matrices with values (just in case... just to be sure...)\n",
    "    for i,x in enumerate(AR):\n",
    "        for j,y in enumerate(x):\n",
    "            newAR[i+i*interiorPixels, j+j*interiorPixels] = y\n",
    "            newAG[i+i*interiorPixels, j+j*interiorPixels] = AG[i,j]\n",
    "            newAB[i+i*interiorPixels, j+j*interiorPixels] = AB[i,j]\n",
    "\n",
    "    newImage = np.zeros((newN,newN,3))\n",
    "    newImage[0:,0:,0] = newAR.astype(np.uint8)\n",
    "    newImage[0:,0:,1] = newAG.astype(np.uint8)\n",
    "    newImage[0:,0:,2] = newAB.astype(np.uint8)\n",
    "    \n",
    "    return newImage.astype(np.uint8)"
   ]
  },
  {
   "cell_type": "code",
   "execution_count": null,
   "metadata": {},
   "outputs": [],
   "source": [
    "#Codigo para abrir y visualizar imágenes\n",
    "img = Image.open('imagenes_prueba/cat_1pixel.png')\n",
    "img = img.convert('RGB')\n",
    "array=np.array(img)"
   ]
  },
  {
   "cell_type": "code",
   "execution_count": null,
   "metadata": {},
   "outputs": [],
   "source": [
    "imgplot = plt.imshow(array)\n",
    "plt.show()\n",
    "newImg = bicubicInterpolation(array, 2, \"spline3\", True)\n",
    "imgplt = plt.imshow(newImg)\n",
    "plt.show()"
   ]
  },
  {
   "cell_type": "markdown",
   "metadata": {},
   "source": [
    "## 2. Evaluacion de algoritmos\n",
    "\n"
   ]
  },
  {
   "cell_type": "markdown",
   "metadata": {},
   "source": [
    "### 2.1 Tiempo de ejecucion \n",
    "Implemente la funcion `timeInterpolation` que mida el tiempo de interpolacion de una imagen dado el algoritmo de interpolacion , en segundos.(5 puntos)"
   ]
  },
  {
   "cell_type": "code",
   "execution_count": null,
   "metadata": {},
   "outputs": [],
   "source": [
    "def timeInterpolation(image, interiorPixels, method,cheb):\n",
    "    \"\"\"\n",
    "    Parameters\n",
    "    ----------\n",
    "    image:\t(nxnx3 array) image array in RGB format\n",
    "    interiorPixels:\t(int)\tinterpolation method\n",
    "    method:\t(string)\tinterpolation method\n",
    "    cheb:\t(boolean)\tif chebyshev points are used\n",
    "\n",
    "\n",
    "    Returns\n",
    "    -------\n",
    "    total:\t(float) time in seconds\n",
    "\n",
    "    \"\"\"\n",
    "    t0 = time.time()\n",
    "    bicubicInterpolation(image, interiorPixels, method, cheb)\n",
    "    t1 = time.time()\n",
    "    total = t1-t0\n",
    "    \n",
    "    return total"
   ]
  },
  {
   "cell_type": "markdown",
   "metadata": {},
   "source": [
    "***Pregunta: ¿Cual es el metodo que presenta mayor velocidad en general? (5 puntos)***"
   ]
  },
  {
   "cell_type": "code",
   "execution_count": null,
   "metadata": {},
   "outputs": [],
   "source": [
    "timeInterpolation(array, 2, \"spline3\", True), timeInterpolation(array, 2, \"spline3\", False)"
   ]
  },
  {
   "cell_type": "code",
   "execution_count": null,
   "metadata": {},
   "outputs": [],
   "source": [
    "timeInterpolation(array, 2, \"lagrange\", True), timeInterpolation(array, 2, \"lagrange\", False)"
   ]
  },
  {
   "cell_type": "code",
   "execution_count": null,
   "metadata": {},
   "outputs": [],
   "source": [
    "timeInterpolation(array, 2, \"newton\", True), timeInterpolation(array, 2, \"newton\", False)"
   ]
  },
  {
   "cell_type": "markdown",
   "metadata": {},
   "source": [
    "##### RESPUESTA: El método que presenta mayor velocidad es el de splines cubicas."
   ]
  },
  {
   "cell_type": "markdown",
   "metadata": {},
   "source": [
    "### 2.2 Calculo de error\n",
    "Implemente la funcion `errorInterpolation` la cual debe obtener el error de la imagen obtenida comparandola con una de referencia. El error debe ser calculado utilizando el indice SSIM (Structural similarity) (5 puntos)"
   ]
  },
  {
   "cell_type": "code",
   "execution_count": null,
   "metadata": {},
   "outputs": [],
   "source": [
    "def errorInterpolation(original,new):\n",
    "    \"\"\"\n",
    "    Parameters\n",
    "    ----------\n",
    "    image:\t(nxn array) original image array in RGB format\n",
    "    new:\t(nxn array) new image array in RGB format obtained from interpolation\n",
    "\n",
    "\n",
    "    Returns\n",
    "    -------\n",
    "    error:\t(float) difference between images \n",
    "\n",
    "    \"\"\"\n",
    "    \n",
    "    error = 1 - s_sim(original, new, multichannel=True)\n",
    "    return error"
   ]
  },
  {
   "cell_type": "code",
   "execution_count": null,
   "metadata": {},
   "outputs": [],
   "source": [
    "#Codigo para abrir y visualizar imágenes\n",
    "img = Image.open('imagenes_prueba/sunset_2pixel.png')\n",
    "img = img.convert('RGB')\n",
    "array=np.array(img)\n",
    "im = img_as_float(img)"
   ]
  },
  {
   "cell_type": "code",
   "execution_count": null,
   "metadata": {},
   "outputs": [],
   "source": [
    "N_T = Image.fromarray(bicubicInterpolation(array, 3, \"newton\", True), \"RGB\")"
   ]
  },
  {
   "cell_type": "code",
   "execution_count": null,
   "metadata": {},
   "outputs": [],
   "source": [
    "errorInterpolation(array, img_as_float(N_T))"
   ]
  },
  {
   "cell_type": "code",
   "execution_count": null,
   "metadata": {},
   "outputs": [],
   "source": [
    "N_F = Image.fromarray(bicubicInterpolation(array, 3, \"newton\", False), \"RGB\")"
   ]
  },
  {
   "cell_type": "code",
   "execution_count": null,
   "metadata": {},
   "outputs": [],
   "source": [
    "errorInterpolation(array, img_as_float(N_F))"
   ]
  },
  {
   "cell_type": "code",
   "execution_count": null,
   "metadata": {},
   "outputs": [],
   "source": [
    "L_T = Image.fromarray(bicubicInterpolation(array, 3, \"lagrange\", True), \"RGB\")"
   ]
  },
  {
   "cell_type": "code",
   "execution_count": null,
   "metadata": {},
   "outputs": [],
   "source": [
    "errorInterpolation(array, img_as_float(L_T))"
   ]
  },
  {
   "cell_type": "code",
   "execution_count": null,
   "metadata": {},
   "outputs": [],
   "source": [
    "L_F = Image.fromarray(bicubicInterpolation(array, 3, \"lagrange\", False), \"RGB\")"
   ]
  },
  {
   "cell_type": "code",
   "execution_count": null,
   "metadata": {},
   "outputs": [],
   "source": [
    "errorInterpolation(array, img_as_float(L_F))"
   ]
  },
  {
   "cell_type": "code",
   "execution_count": null,
   "metadata": {},
   "outputs": [],
   "source": [
    "S_T = Image.fromarray(bicubicInterpolation(array, 3, \"spline3\", True), \"RGB\")"
   ]
  },
  {
   "cell_type": "code",
   "execution_count": null,
   "metadata": {},
   "outputs": [],
   "source": [
    "errorInterpolation(array, img_as_float(S_T))"
   ]
  },
  {
   "cell_type": "code",
   "execution_count": null,
   "metadata": {},
   "outputs": [],
   "source": [
    "S_F = Image.fromarray(bicubicInterpolation(array, 3, \"spline3\", False), \"RGB\")"
   ]
  },
  {
   "cell_type": "code",
   "execution_count": null,
   "metadata": {},
   "outputs": [],
   "source": [
    "errorInterpolation(array, img_as_float(S_F))"
   ]
  },
  {
   "cell_type": "markdown",
   "metadata": {},
   "source": [
    "***Pregunta: ¿Cual metodo presenta menor error? (5 puntos)***"
   ]
  },
  {
   "cell_type": "markdown",
   "metadata": {},
   "source": []
  },
  {
   "cell_type": "markdown",
   "metadata": {},
   "source": [
    "# Consideraciones"
   ]
  },
  {
   "cell_type": "markdown",
   "metadata": {},
   "source": [
    "* Solo trabajaremos con imagenes cuadradas\n",
    "* En el caso que el valor interpolado de un punto sea mayor a 255 o menor a 0, este se trunca a 255 o 0 respectivamente\n",
    "* Esta permitido el uso de sympy para calcular derivadas y para construir el polinomio interpolador \n",
    "* El calculo de error puede ser calculado utilizando la imagen en escala de grises [(ejemplo)](https://scikit-image.org/docs/dev/auto_examples/transform/plot_ssim.html)"
   ]
  },
  {
   "cell_type": "code",
   "execution_count": null,
   "metadata": {},
   "outputs": [],
   "source": []
  }
 ],
 "metadata": {
  "kernelspec": {
   "display_name": "Python 3",
   "language": "python",
   "name": "python3"
  },
  "language_info": {
   "codemirror_mode": {
    "name": "ipython",
    "version": 3
   },
   "file_extension": ".py",
   "mimetype": "text/x-python",
   "name": "python",
   "nbconvert_exporter": "python",
   "pygments_lexer": "ipython3",
   "version": "3.7.6"
  }
 },
 "nbformat": 4,
 "nbformat_minor": 4
}
