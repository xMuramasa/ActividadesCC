{
 "cells": [
  {
   "cell_type": "markdown",
   "metadata": {
    "colab_type": "text",
    "id": "qimgVFB3r58e"
   },
   "source": [
    "# INF-285 / ILI-285\n",
    "## Desafío 1, v1.01\n",
    "### SCT 2020-1"
   ]
  },
  {
   "cell_type": "markdown",
   "metadata": {
    "colab_type": "text",
    "id": "_pik3saquHQa"
   },
   "source": [
    "# Introducción\n",
    "\n",
    "En el siguiente desafío estudiaremos el comportamiento de $2$ algoritmos para obtener el punto fijo $r$ de funciones $g(x)$, es decir, $r=g(r)$.\n",
    "Es importante destacar que el punto fijo de una función no es lo mismo que la raíz de una función, sin embargo sí están muy relacionados.\n",
    "Solo a modo de recordatorio, la raíz de una función $f(x)$ es encontrar un $\\hat{x}$ tal que $f(\\hat{x})=0$.\n",
    "\n",
    "## Iteración de Punto Fijo\n",
    "\n",
    "El algoritmo llamado Iteración de Punto Fijo (IPF o *FPI*, *Fixed Point Iteration* del inglés) se define de la siguiente forma:\n",
    "\\begin{align*}\n",
    "  x_0 &= \\text{\"Initial guess''},\\\\\n",
    "  x_{i+1} &= g(x_i), \\quad i\\in {1,2,3,\\dots}.\n",
    "\\end{align*}\n",
    "\n",
    "El cual puede o no puede converger a su punto fijo $r=g(r)$ dependiendo del comportamiento de $g(x)$ entorno al punto fijo $r$.\n",
    "En el caso de que la iteración de punto fijo diverja, uno debiera buscar otra forma de encontrar el punto fijo, la otra manera se explica a continuación.\n",
    "\n",
    "## Método de la Bisección\n",
    "\n",
    "En el caso de que la iteración de punto fijo diverja o simplemente converja muy lento, podemos usar convenientemente el Método de la Bisección.\n",
    "Para poder utilizar el Método de la Bisección, debemos adaptarlo, dado que es un algoritmo diseñado para buscar raíces de una función, no puntos fijos de una función.\n",
    "La adaptación consiste en escribir convenientemente la búsqueda de un punto fijo como la búsqueda de una raíz de la siguiente forma,\n",
    "\\begin{equation}\n",
    "  f(x) = x - g(x),\n",
    "\\end{equation}\n",
    "\n",
    "donde podemos comprobar que si evaluamos la función $f(x)$ en el punto fijo de $g(x)$ obtenemos la equivalencia,\n",
    "\\begin{equation}\n",
    "  f(r) = r - g(r)=0.\n",
    "\\end{equation}\n",
    "\n",
    "Por lo tanto, ¡hemos exitosamente conectado un problema de punto fijo con un problema de búsqueda de ceros!\n",
    "\n",
    "**De esta forma ambos métodos podrían ser útiles si necesitamos encontrar puntos fijos de funciones**.\n",
    "\n",
    "Comentario: ¿Puede visualizar ahora el como utilizar búsqueda de puntos fijos para encontrar raíces de funciones?"
   ]
  },
  {
   "cell_type": "markdown",
   "metadata": {
    "colab_type": "text",
    "id": "eEBrFbq50kES"
   },
   "source": [
    "# Ejercicio\n"
   ]
  },
  {
   "cell_type": "code",
   "execution_count": 2,
   "metadata": {
    "colab": {},
    "colab_type": "code",
    "id": "qGeqEAB2mNug"
   },
   "outputs": [],
   "source": [
    "# Bibliotecas necesarias\n",
    "import numpy as np\n",
    "import pandas as pd\n",
    "import matplotlib.pyplot as plt"
   ]
  },
  {
   "cell_type": "markdown",
   "metadata": {
    "colab_type": "text",
    "id": "qluMnQPHy_OI"
   },
   "source": [
    "Se solicita implementar una rutina ```obtener_punto_fijo``` que reciba la función $g(x)$, un intervalo $[a, b]$ y un ```n_iter```, que indica el máximo número de iteraciones que pueden utilizar los métodos de bisección y punto fijo.\n",
    "Notar que los métodos deben retornar la secuencia de soluciones obtenidas hasta que se logra la convergencia, es necesario que cuando se logre el punto fijo no se retorne una secuencia de valores repetidos, si no que se trunque el vector de salida hasta donde empezó a repetirse el valor respectivo, de otra forma se estará dividiendo por $0$ en la explicación incluida más adelante.\n",
    "\n",
    "El retorno de la rutina debe ser la mejor solución aproximada ```x_sol```, y una estructura del tipo \n",
    "```[('biseccion', tasa_bisección), ('punto fijo', tasa_punto_fijo)]```, donde se reporta el algoritmo (en el orden solicitado) y la tasa de convergencia respectiva.\n",
    "Por lo tanto la firma de la función debería quedar como:\n",
    "```python\n",
    "  def obtener_punto_fijo(g, a, b, n_iter):\n",
    "    # Su algoritmo...\n",
    "\n",
    "    resultado = [('biseccion', tasa_biseccion), ('punto fijo', tasa_punto_fijo)]\n",
    "    x_sol = ...\n",
    "    return x_sol, resultado\n",
    "```\n",
    "\n",
    "La idea es que su algoritmo permita retornar la solución asociada al método con mejor *tasa de convergencia*."
   ]
  },
  {
   "cell_type": "markdown",
   "metadata": {
    "colab_type": "text",
    "id": "VtpyCvWM00H0"
   },
   "source": [
    "Para que pueda calcular la *tasa de convergencia* se pone a disposición la función ```obtener_tasa(ratio)```, que recibe un arreglo con los cocientes de la estimación numérica de los errores en cada iteración. Los cuales deben ser obtenidos de la siguiente forma:\n",
    "\\begin{equation}\n",
    "  ratio_i = \\frac{|x_{i+1} - x_i|}{|x_i - x_{i-1}|}\n",
    "\\end{equation}"
   ]
  },
  {
   "cell_type": "code",
   "execution_count": 2,
   "metadata": {
    "colab": {},
    "colab_type": "code",
    "id": "gMnDnwQ-H0KW"
   },
   "outputs": [],
   "source": [
    "def obtener_tasa(ratio):\n",
    "    hist, bin_edges = np.histogram(ratio, bins=10000)\n",
    "    k = np.argmax(hist)\n",
    "    return np.round((bin_edges[k] + bin_edges[k+1]) / 2, 5)"
   ]
  },
  {
   "cell_type": "markdown",
   "metadata": {
    "colab_type": "text",
    "id": "ow0jA-pR2TNe"
   },
   "source": [
    "Además, para que pueda probar el funcionamiento de su procedimiento, se ponen a disposición las siguientes funciones y los intevalos donde debe buscar el punto fijo:"
   ]
  },
  {
   "cell_type": "code",
   "execution_count": 3,
   "metadata": {
    "colab": {},
    "colab_type": "code",
    "id": "hMuaMxSdmSIR"
   },
   "outputs": [],
   "source": [
    "g1 = lambda x: np.cos(x) # Intervalo: [0, 1]\n",
    "g2 = lambda x: 3 / (x-2) # Intervalo: [-3, 0]\n",
    "g3 = lambda x: (x + 10.) ** (1 / 4) # Intervalo: [0, 2]\n",
    "g4 = lambda x: 3 + 2 * np.sin(x) # Intervalo: [-5, 5]\n",
    "g5 = lambda x: np.cos(x) / np.exp(x) # Intervalo: [0, 4]\n",
    "g6 = lambda x: (np.exp(x) + x ** 3 + 4 * x ** 2 + 2 * x + 2) / (x ** 2 + 3 * x - 3) # Intervalo: [-1, 0]\n",
    "g7 = lambda x: np.exp((np.exp(-x) / 3)) # Intervalo: [0, 2]\n",
    "g8 = lambda x: -0.5 * x + 3 / 2 # Intervalo: [0, 1]\n",
    "g9 = lambda x: (x ** 3 - 5) / 2 # Intervalo: [2, 3]\n",
    "g10 = lambda x: -1 + 1.5 * x # Intervalo: [0,10]\n",
    "g11 = lambda x: 0.7 + 1.7 * x # Intervalo: [-10,10]"
   ]
  },
  {
   "cell_type": "markdown",
   "metadata": {
    "colab_type": "text",
    "id": "InfGOnZqKDIF"
   },
   "source": [
    "Se incluye a continuación el enunciado de la función que usted debe entregar:"
   ]
  },
  {
   "cell_type": "code",
   "execution_count": 4,
   "metadata": {
    "colab": {},
    "colab_type": "code",
    "id": "Gn06N_slnCa0"
   },
   "outputs": [],
   "source": [
    "# CONSIDERE el caso que f(a) * f(b) sea positivo\n",
    "# RECUERDE no incluir valores repetidos al final de la secuencia del arreglo de salida para no tener errores igual a 0\n",
    "def bisection(f, a, b, n_iter):\n",
    "        \n",
    "    # Calcular los valores de x para cada iteracion\n",
    "    result = 0.0 \n",
    "    elem_calc = list()\n",
    "    \n",
    "    # Si alguna de las alternativas (fa,fb) >= 0 -> end algorithm, return 0\n",
    "    if f(a)*f(b) >= 0:\n",
    "        return \"Not work\", [\"dab\"]\n",
    "    \n",
    "    # se itera para encontrar la raiz\n",
    "    for i in range(n_iter):\n",
    "        # se calculan los valores para biseccion\n",
    "        fa = f(a); fb = f(b)\n",
    "        \n",
    "        result = (a + b)/2\n",
    "        fr = f(result)\n",
    "        \n",
    "        if result not in elem_calc:\n",
    "            elem_calc.append(result)\n",
    "\n",
    "            # se encuentra raiz\n",
    "            if fr == 0:\n",
    "                break\n",
    "\n",
    "            # se mueve cota superior\n",
    "            if fa*fr < 0:\n",
    "                b = result\n",
    "\n",
    "            # se mueve cota inferior\n",
    "            else:\n",
    "                a = result\n",
    "            \n",
    "    return (fa+fb)/2, elem_calc"
   ]
  },
  {
   "cell_type": "code",
   "execution_count": 5,
   "metadata": {
    "colab": {},
    "colab_type": "code",
    "id": "5U7xY9GmxIPg"
   },
   "outputs": [],
   "source": [
    "# CONSIDERE que el metodo puede no converger\n",
    "# RECUERDE no incluir valores repetidos al final de la secuencia del arreglo de salida para no tener errores igual a 0\n",
    "def fpi(g, x_0, n_iter):\n",
    "    # Calcular los valores de x para cada iteracion\n",
    "    result = g(x_0)\n",
    "    \n",
    "    elem_calc = list()\n",
    "    elem_calc.append(result)\n",
    "    \n",
    "    for i in range(n_iter):\n",
    "        # se calcula fp\n",
    "        try:\n",
    "            result = g(result)\n",
    "            \n",
    "            # añadimos al conjunto de valores\n",
    "            if elem_calc[-1] != result:\n",
    "                elem_calc.append(result)\n",
    "            else:\n",
    "                break\n",
    "                \n",
    "        except(OverflowError):\n",
    "            return elem_calc[-1], elem_calc \n",
    "            \n",
    "    return result, elem_calc"
   ]
  },
  {
   "cell_type": "code",
   "execution_count": 6,
   "metadata": {},
   "outputs": [],
   "source": [
    "#funcion para obtener los ratios necesarios para obtener tasas\n",
    "def calcular_ratio(l):\n",
    "    arr = np.array(l)\n",
    "    return np.abs((arr[2:]-arr[1:-1]))/np.abs((arr[1:-1]-arr[0:-2]))"
   ]
  },
  {
   "cell_type": "code",
   "execution_count": 7,
   "metadata": {
    "colab": {},
    "colab_type": "code",
    "id": "0ug6PrYzKIaM"
   },
   "outputs": [],
   "source": [
    "def obtener_punto_fijo(g, a, b, n_iter):\n",
    "    # Calcular utilizando los métodos\n",
    "    \n",
    "    sb, rb = bisection(lambda x: x - g(x), a, b, n_iter)\n",
    "    \n",
    "    sfp, rfp = fpi(g, b, n_iter)\n",
    "    \n",
    "    tasa_biseccion = tasa_punto_fijo = 0\n",
    "    \n",
    "    if sb == \"Not work\":\n",
    "        tasa_biseccion = 100\n",
    "    else:\n",
    "        tasa_biseccion = obtener_tasa(calcular_ratio(rb))\n",
    "        \n",
    "    tasa_punto_fijo = obtener_tasa(calcular_ratio(rfp))\n",
    "    \n",
    "    if sb == 0 or tasa_biseccion > tasa_punto_fijo:\n",
    "        x_sol = sfp \n",
    "    else: \n",
    "        x_sol = sb\n",
    "\n",
    "    resultado = [('biseccion', tasa_biseccion), ('punto fijo', tasa_punto_fijo)]\n",
    "\n",
    "    return x_sol, resultado"
   ]
  },
  {
   "cell_type": "code",
   "execution_count": 9,
   "metadata": {
    "colab": {},
    "colab_type": "code",
    "id": "hMuaMxSdmSIR"
   },
   "outputs": [
    {
     "name": "stdout",
     "output_type": "stream",
     "text": [
      "Convergencia para n =  100  intervalos\n"
     ]
    },
    {
     "data": {
      "text/html": [
       "<div>\n",
       "<style scoped>\n",
       "    .dataframe tbody tr th:only-of-type {\n",
       "        vertical-align: middle;\n",
       "    }\n",
       "\n",
       "    .dataframe tbody tr th {\n",
       "        vertical-align: top;\n",
       "    }\n",
       "\n",
       "    .dataframe thead th {\n",
       "        text-align: right;\n",
       "    }\n",
       "</style>\n",
       "<table border=\"1\" class=\"dataframe\">\n",
       "  <thead>\n",
       "    <tr style=\"text-align: right;\">\n",
       "      <th></th>\n",
       "      <th>Punto_Fijo</th>\n",
       "      <th>Tasa_Bisección</th>\n",
       "      <th>Tasa_Punto_Fijo</th>\n",
       "      <th>a</th>\n",
       "      <th>b</th>\n",
       "    </tr>\n",
       "  </thead>\n",
       "  <tbody>\n",
       "    <tr>\n",
       "      <td>g1(x)</td>\n",
       "      <td>5.551115e-17</td>\n",
       "      <td>0.50005</td>\n",
       "      <td>6.736100e-01</td>\n",
       "      <td>0</td>\n",
       "      <td>1</td>\n",
       "    </tr>\n",
       "    <tr>\n",
       "      <td>g2(x)</td>\n",
       "      <td>-1.000000e+00</td>\n",
       "      <td>0.49999</td>\n",
       "      <td>3.333300e-01</td>\n",
       "      <td>-3</td>\n",
       "      <td>0</td>\n",
       "    </tr>\n",
       "    <tr>\n",
       "      <td>g3(x)</td>\n",
       "      <td>1.855585e+00</td>\n",
       "      <td>0.50005</td>\n",
       "      <td>3.913000e-02</td>\n",
       "      <td>0</td>\n",
       "      <td>2</td>\n",
       "    </tr>\n",
       "    <tr>\n",
       "      <td>g4(x)</td>\n",
       "      <td>1.000816e+00</td>\n",
       "      <td>0.50005</td>\n",
       "      <td>1.000000e+00</td>\n",
       "      <td>-5</td>\n",
       "      <td>55</td>\n",
       "    </tr>\n",
       "    <tr>\n",
       "      <td>g5(x)</td>\n",
       "      <td>5.177574e-01</td>\n",
       "      <td>0.50005</td>\n",
       "      <td>8.126600e-01</td>\n",
       "      <td>0</td>\n",
       "      <td>4</td>\n",
       "    </tr>\n",
       "    <tr>\n",
       "      <td>g6(x)</td>\n",
       "      <td>-5.791589e-01</td>\n",
       "      <td>0.50005</td>\n",
       "      <td>3.000000e-05</td>\n",
       "      <td>-1</td>\n",
       "      <td>0</td>\n",
       "    </tr>\n",
       "    <tr>\n",
       "      <td>g7(x)</td>\n",
       "      <td>1.115448e+00</td>\n",
       "      <td>0.50005</td>\n",
       "      <td>1.218700e-01</td>\n",
       "      <td>0</td>\n",
       "      <td>2</td>\n",
       "    </tr>\n",
       "    <tr>\n",
       "      <td>g8(x)</td>\n",
       "      <td>1.000000e+00</td>\n",
       "      <td>100.00000</td>\n",
       "      <td>5.000000e-05</td>\n",
       "      <td>0</td>\n",
       "      <td>1</td>\n",
       "    </tr>\n",
       "    <tr>\n",
       "      <td>g9(x)</td>\n",
       "      <td>-6.661338e-16</td>\n",
       "      <td>0.50005</td>\n",
       "      <td>8.568218e+139</td>\n",
       "      <td>2</td>\n",
       "      <td>3</td>\n",
       "    </tr>\n",
       "    <tr>\n",
       "      <td>g10(x)</td>\n",
       "      <td>4.878734e+18</td>\n",
       "      <td>0.50001</td>\n",
       "      <td>1.500000e+00</td>\n",
       "      <td>0</td>\n",
       "      <td>10</td>\n",
       "    </tr>\n",
       "    <tr>\n",
       "      <td>g11(x)</td>\n",
       "      <td>2.073642e+24</td>\n",
       "      <td>0.50001</td>\n",
       "      <td>1.700000e+00</td>\n",
       "      <td>-10</td>\n",
       "      <td>10</td>\n",
       "    </tr>\n",
       "  </tbody>\n",
       "</table>\n",
       "</div>"
      ],
      "text/plain": [
       "          Punto_Fijo  Tasa_Bisección  Tasa_Punto_Fijo   a   b\n",
       "g1(x)   5.551115e-17         0.50005     6.736100e-01   0   1\n",
       "g2(x)  -1.000000e+00         0.49999     3.333300e-01  -3   0\n",
       "g3(x)   1.855585e+00         0.50005     3.913000e-02   0   2\n",
       "g4(x)   1.000816e+00         0.50005     1.000000e+00  -5  55\n",
       "g5(x)   5.177574e-01         0.50005     8.126600e-01   0   4\n",
       "g6(x)  -5.791589e-01         0.50005     3.000000e-05  -1   0\n",
       "g7(x)   1.115448e+00         0.50005     1.218700e-01   0   2\n",
       "g8(x)   1.000000e+00       100.00000     5.000000e-05   0   1\n",
       "g9(x)  -6.661338e-16         0.50005    8.568218e+139   2   3\n",
       "g10(x)  4.878734e+18         0.50001     1.500000e+00   0  10\n",
       "g11(x)  2.073642e+24         0.50001     1.700000e+00 -10  10"
      ]
     },
     "execution_count": 9,
     "metadata": {},
     "output_type": "execute_result"
    }
   ],
   "source": [
    "#numero de iteraciones\n",
    "n = 100\n",
    "\n",
    "# Estas lineas de abajo son para ver los resultados en una tabla\n",
    "x1 = obtener_punto_fijo(g1, 0, 1, n)\n",
    "x2 = obtener_punto_fijo(g2, -3, 0, n)\n",
    "x3 = obtener_punto_fijo(g3, 0, 2, n)\n",
    "x4 = obtener_punto_fijo(g4, -5, 55, n)\n",
    "x5 = obtener_punto_fijo(g5, 0, 4, n)\n",
    "x6 = obtener_punto_fijo(g6, -1, 0, n)\n",
    "x7 = obtener_punto_fijo(g7, 0, 2, n)\n",
    "x8 = obtener_punto_fijo(g8, 0, 1, n)\n",
    "x9 = obtener_punto_fijo(g9, 2, 3, n)\n",
    "x10 = obtener_punto_fijo(g10, 0, 10, n)\n",
    "x11 = obtener_punto_fijo(g11, -10, 10, n)\n",
    "\n",
    "df = pd.DataFrame([\n",
    "                    [x1[0], x1[1][0][1], x1[1][1][1], 0, 1],\n",
    "                    [x2[0], x2[1][0][1], x2[1][1][1], -3, 0],\n",
    "                    [x3[0], x3[1][0][1], x3[1][1][1], 0, 2],\n",
    "                    [x4[0], x4[1][0][1], x4[1][1][1], -5, 55],\n",
    "                    [x5[0], x5[1][0][1], x5[1][1][1], 0, 4],\n",
    "                    [x6[0], x6[1][0][1], x6[1][1][1], -1, 0],\n",
    "                    [x7[0], x7[1][0][1], x7[1][1][1], 0, 2],\n",
    "                    [x8[0], x8[1][0][1], x8[1][1][1], 0, 1],\n",
    "                    [x9[0], x9[1][0][1], x9[1][1][1], 2, 3],\n",
    "                    [x10[0], x10[1][0][1], x10[1][1][1], 0, 10],\n",
    "                    [x11[0], x11[1][0][1], x11[1][1][1], -10, 10]\n",
    "                    ], \n",
    "                    index = [\"g1(x)\",\"g2(x)\",\"g3(x)\",\"g4(x)\",\"g5(x)\",\"g6(x)\",\"g7(x)\",\"g8(x)\",\"g9(x)\",\"g10(x)\",\"g11(x)\"],\n",
    "                    columns = [\"Punto_Fijo\", \"Tasa_Bisección\", \"Tasa_Punto_Fijo\", \"a\", \"b\"]\n",
    "                )\n",
    "print(\"Convergencia para n = \", n, \" intervalos\")\n",
    "\n",
    "df"
   ]
  },
  {
   "cell_type": "code",
   "execution_count": 19,
   "metadata": {},
   "outputs": [
    {
     "ename": "IndexError",
     "evalue": "index 0 is out of bounds for axis 0 with size 0",
     "output_type": "error",
     "traceback": [
      "\u001b[1;31m---------------------------------------------------------------------------\u001b[0m",
      "\u001b[1;31mIndexError\u001b[0m                                Traceback (most recent call last)",
      "\u001b[1;32m<ipython-input-19-16b0827cf1ce>\u001b[0m in \u001b[0;36m<module>\u001b[1;34m\u001b[0m\n\u001b[0;32m      2\u001b[0m \u001b[0mf\u001b[0m \u001b[1;33m=\u001b[0m \u001b[1;32mlambda\u001b[0m \u001b[0mx\u001b[0m\u001b[1;33m:\u001b[0m \u001b[0mnp\u001b[0m\u001b[1;33m.\u001b[0m\u001b[0mpower\u001b[0m\u001b[1;33m(\u001b[0m\u001b[1;36m1\u001b[0m \u001b[1;33m+\u001b[0m \u001b[1;33m(\u001b[0m\u001b[1;36m1\u001b[0m\u001b[1;33m/\u001b[0m\u001b[0mx\u001b[0m\u001b[1;33m)\u001b[0m\u001b[1;33m,\u001b[0m \u001b[0mx\u001b[0m\u001b[1;33m)\u001b[0m\u001b[1;33m\u001b[0m\u001b[1;33m\u001b[0m\u001b[0m\n\u001b[0;32m      3\u001b[0m \u001b[0mn\u001b[0m \u001b[1;33m=\u001b[0m \u001b[0mf\u001b[0m\u001b[1;33m(\u001b[0m\u001b[0mn\u001b[0m\u001b[1;33m)\u001b[0m\u001b[1;33m\u001b[0m\u001b[1;33m\u001b[0m\u001b[0m\n\u001b[1;32m----> 4\u001b[1;33m \u001b[0mn\u001b[0m\u001b[1;33m[\u001b[0m\u001b[1;36m0\u001b[0m\u001b[1;33m]\u001b[0m\u001b[1;33m\u001b[0m\u001b[1;33m\u001b[0m\u001b[0m\n\u001b[0m",
      "\u001b[1;31mIndexError\u001b[0m: index 0 is out of bounds for axis 0 with size 0"
     ]
    }
   ],
   "source": [
    "n = np.arange(1, 0,1)\n",
    "f = lambda x: np.power(1 + (1/x), x)\n",
    "n = f(n)"
   ]
  },
  {
   "cell_type": "code",
   "execution_count": null,
   "metadata": {},
   "outputs": [],
   "source": []
  },
  {
   "cell_type": "code",
   "execution_count": null,
   "metadata": {},
   "outputs": [],
   "source": []
  }
 ],
 "metadata": {
  "colab": {
   "collapsed_sections": [],
   "name": "desafio_1.ipynb",
   "provenance": []
  },
  "kernelspec": {
   "display_name": "Python 3",
   "language": "python",
   "name": "python3"
  },
  "language_info": {
   "codemirror_mode": {
    "name": "ipython",
    "version": 3
   },
   "file_extension": ".py",
   "mimetype": "text/x-python",
   "name": "python",
   "nbconvert_exporter": "python",
   "pygments_lexer": "ipython3",
   "version": "3.7.4"
  }
 },
 "nbformat": 4,
 "nbformat_minor": 1
}
