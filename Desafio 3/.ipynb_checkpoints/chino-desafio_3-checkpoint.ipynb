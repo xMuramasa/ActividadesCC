{
 "cells": [
  {
   "cell_type": "markdown",
   "metadata": {
    "colab_type": "text",
    "id": "a853worQL4Fd"
   },
   "source": [
    "# Instrucciones\n",
    "\n",
    "- El desafío es individual, por lo cual se considera que todo el código entregado es de elaboración propia y no ha sido compartido de forma alguna.\n",
    "- Las consultas sobre el desafío se deben realizar por medio de la plataforma Aula. **No está permitido publicar código en consultas de Aula**.\n",
    "- El desafío debe ser realizado en Jupyter Notebook (Python3) utilizando este archivo como base.\n",
    "- Debe utilizar arreglos de ```NumPy``` junto a las funciones y bibliotecas que se ponen a disposición en este archivo.\n",
    "- Se debe respetar las firmas de las funciones, sus parámetros y retornos. Para eso se incluye un detalle de cada función tanto de las entregadas como las que deberá implementar. En caso de no seguir estas instrucciones, el desafío no podrá evaluarse.\n",
    "- Se evaluará la correcta utilización de librerias ```NumPy```, ```SciPy```, entre otras, así como la correcta implementación de algoritmos de forma vectorizada.\n",
    "- Evitar la impresión de mensajes salvo que se solicite en el enunciado.\n",
    "- El archivo de entrega debe denominarse **ROL-desafio-numero.ipynb**. **De no respetarse este formato existirá un descuento de 50 puntos**\n",
    "- La fecha de entrega es el **martes 16 de junio a las 12:00 hrs**,  posteriormente existirá un descuento lineal hasta las 13:00 hrs del mismo día."
   ]
  },
  {
   "cell_type": "markdown",
   "metadata": {
    "colab_type": "text",
    "id": "XI4BxxegL4Ff"
   },
   "source": [
    "# Interpolación Polinomial\n",
    "# Introducción\n",
    "\n",
    "En este desafío estudiaremos la **matriz de Vandermonde** como método de interporlación. Sea $P(x)$ el polinomio de interpolación definido como:\n",
    "\n",
    "\\begin{equation}\n",
    "    P(x) = a_0x^0 + a_1x^1 + \\cdots + a_{n-1}x^{n-1}= \\sum_{i=0}^{n-1}a_ix^i,\n",
    "\\end{equation}\n",
    "\n",
    "entonces la **matriz de Vandermonde** emerge del problema de obtener los coeficientes $a_i$ para $n$ puntos $(x_i, y_i)$.\n",
    "Por ejemplo si tenemos los puntos $(x_1, y_1), (x_2, y_2), \\cdots, (x_n, y_n)$, podemos generar las siguientes $n$ ecuaciones:\n",
    "\n",
    "\\begin{equation}\n",
    "    \\begin{split}\n",
    "        a_0x_1^0 + a_1x_1^1 + \\cdots + a_{n-1}x_1^{n-1} &= y_1 \\\\\n",
    "        a_0x_2^0 + a_1x_2^1 + \\cdots + a_{n-1}x_2^{n-1} &= y_2 \\\\\n",
    "            \\vdots     & \\\\\n",
    "        a_0x_n^0 + a_1x_n^1 + \\cdots + a_{n-1}x_n^{n-1} &= y_n \\\\\n",
    "    \\end{split},\n",
    "\\end{equation}\n",
    "\n",
    "entonces la **matriz de Vandermonde** queda definida como:\n",
    "\n",
    "\\begin{equation}\n",
    "    V = \n",
    "    \\begin{bmatrix}\n",
    "        1 & x_1 & x_1^2 & \\cdots & x_1^{n-1} \\\\\n",
    "        1 & x_2 & x_2^2 & \\cdots & x_2^{n-1} \\\\\n",
    "        \\vdots & \\vdots & \\vdots & & \\vdots \\\\\n",
    "        1 & x_n & x_n^2 & \\cdots & x_n^{n-1} \\\\\n",
    "    \\end{bmatrix}.\n",
    "\\end{equation}\n",
    "\n",
    "Luego para obtener los coeficientes $a_i$, debemos resolver el siguiente problema:\n",
    "\n",
    "\\begin{equation}\n",
    "    \\begin{split}\n",
    "        V\\, \\mathbf{a} & = \\mathbf{y} \\\\\n",
    "        \\begin{bmatrix}\n",
    "        1 & x_1 & x_1^2 & \\cdots & x_1^{n-1} \\\\\n",
    "        1 & x_2 & x_2^2 & \\cdots & x_2^{n-1} \\\\\n",
    "        \\vdots & \\vdots & \\vdots & & \\vdots \\\\\n",
    "        1 & x_n & x_n^2 & \\cdots & x_n^{n-1} \\\\\n",
    "    \\end{bmatrix}\n",
    "    \\begin{bmatrix}\n",
    "        a_0 \\\\ a_1 \\\\ \\vdots \\\\ a_{n-1} \n",
    "    \\end{bmatrix} & =\n",
    "    \\begin{bmatrix}\n",
    "        y_1 \\\\ y_2 \\\\ \\vdots \\\\ y_{n} \n",
    "    \\end{bmatrix}\n",
    "    \\end{split}\n",
    "\\end{equation}"
   ]
  },
  {
   "cell_type": "code",
   "execution_count": 212,
   "metadata": {
    "colab": {},
    "colab_type": "code",
    "id": "nHMgybmcL4Fg"
   },
   "outputs": [],
   "source": [
    "import numpy as np\n",
    "import matplotlib.pyplot as plt"
   ]
  },
  {
   "cell_type": "markdown",
   "metadata": {
    "colab_type": "text",
    "id": "zOQGZn8tL4Fk"
   },
   "source": [
    "Su primera tarea será implementar la función llamada ```interpolateVandermonde(x, y)``` que reciba como input un arreglo con los puntos $x_i$ y otro arreglo con los puntos $y_i$. Luego, su función deberá realizar una interpolación utilizando la matriz de Vandermonde y finalmente retornar un arreglo con los coeficientes resultantes de la interpolación."
   ]
  },
  {
   "cell_type": "code",
   "execution_count": 213,
   "metadata": {
    "colab": {},
    "colab_type": "code",
    "id": "tvkYcfZIL4Fl"
   },
   "outputs": [],
   "source": [
    "def interpolateVandermonde(x, y):\n",
    "    \"\"\"\n",
    "    Compute Polynomial coefficients using Vandermonde Matrix\n",
    "\n",
    "    Parameters\n",
    "    -----------\n",
    "    x     : (n, ) array\n",
    "            Data x_i to interpolate\n",
    "    y     : (n, ) array\n",
    "            Data y_i to interpolate\n",
    "\n",
    "    Returns\n",
    "    -------\n",
    "    a     : (n, ) array\n",
    "            Coefficients of the interpolating polynomial\n",
    "    \"\"\"\n",
    "    n = len(x)\n",
    "    X = np.zeros((n,n))\n",
    "    for i in range(n):\n",
    "        for j in range(n):\n",
    "            X[i,j] = x[i]**j \n",
    "    #X2 = np.vander(x,n,increasing=True)\n",
    "    #print(X)\n",
    "    #print(X2)\n",
    "    a = np.linalg.solve(X,y)\n",
    "    return a"
   ]
  },
  {
   "cell_type": "code",
   "execution_count": null,
   "metadata": {},
   "outputs": [],
   "source": []
  },
  {
   "cell_type": "markdown",
   "metadata": {
    "colab_type": "text",
    "id": "TJghkYZNL4Fp"
   },
   "source": [
    "Construya la función ```generatePolynomial(a)``` que reciba como **input** los coeficientes $a_i$ obtenidos de la función ```interpolateVandermonde(x, y)```. Su implementación debe retornar una función que permita evaluar el polinomio $P(x)$ para cualquier valor de $x$. Asegúrese que su función $P(x)$ pueda evaluar arreglos ```numpy.array```."
   ]
  },
  {
   "cell_type": "code",
   "execution_count": 214,
   "metadata": {
    "colab": {},
    "colab_type": "code",
    "id": "EmLbzcg7L4Fq"
   },
   "outputs": [],
   "source": [
    "def interpolatingPolynomial(a):\n",
    "    \"\"\"\n",
    "    Build interpolating polynomial using a coefficients\n",
    "\n",
    "    Parameters\n",
    "    -----------\n",
    "    a     : (n, ) array\n",
    "            Coefficients of the interpolating polynomial\n",
    "\n",
    "    Returns\n",
    "    -------\n",
    "    P     : Function\n",
    "            Interpolation polynomial P(x)\n",
    "    \"\"\"\n",
    "    n = len(a)\n",
    "    return lambda x : sum(a[i]*x**i for i in range(n))"
   ]
  },
  {
   "cell_type": "markdown",
   "metadata": {
    "colab_type": "text",
    "id": "-YZvzVCWL4Ft"
   },
   "source": [
    "Suponga que generamos una grilla fina a partir de $x$ que denominaremos $x_e$. Diremos de esta forma que nuestra función numérica $f(x)$ es el vector $\\mathbf{y}=f(x_e)$, y el vector $\\mathbf{p}=P(x_e)$ corresponde a nuestro vector obtenido por función interpoladora $P(x)$.\n",
    "Para poder analizar la calidad de la interpolación se pone a diposición la función ```error(y, p)``` que recibe como **input** el vector $\\mathbf{y}$ y el vector $\\mathbf{p}$. Esta función tiene como **output** el error definido como:\n",
    "\n",
    "\\begin{equation}\n",
    "    error_{int} = \\frac{\\|\\mathbf{y} - \\mathbf{p}\\|_{\\infty}}{\\|\\mathbf{y}\\|_{\\infty}}\n",
    "\\end{equation}"
   ]
  },
  {
   "cell_type": "code",
   "execution_count": 215,
   "metadata": {
    "colab": {},
    "colab_type": "code",
    "id": "dZ71tr9SL4Ft"
   },
   "outputs": [],
   "source": [
    "def error(y, p):\n",
    "    \"\"\"\n",
    "    Compute interpolation error\n",
    "\n",
    "    Parameters\n",
    "    -----------\n",
    "    y     : (n, ) array\n",
    "            y = f(x)\n",
    "    p     : (n, ) array\n",
    "            p = P(x)\n",
    "\n",
    "    Returns\n",
    "    -------\n",
    "    err   : float\n",
    "            Interpolation error\n",
    "    \"\"\"\n",
    "    return np.linalg.norm(y - p, np.inf) / np.linalg.norm(y, np.inf)"
   ]
  },
  {
   "cell_type": "markdown",
   "metadata": {
    "colab_type": "text",
    "id": "HZEAy2fEL4Fw"
   },
   "source": [
    "# Pruebas\n",
    "\n",
    "## LEER POR FAVOR\n",
    "\n",
    "Todo lo que aparece **desde esta celda hacia abajo** se incluyó para que pueda probar sus implementaciones y ver sus resultados. Una vez que verifique que está funcionando correctamente **POR FAVOR COMENTAR LOS CÓDIGOS QUE GENEREN GRÁFICOS**."
   ]
  },
  {
   "cell_type": "markdown",
   "metadata": {
    "colab_type": "text",
    "id": "aiYf6f3PL4Fx"
   },
   "source": [
    "Para que pueda probar su implementación se ponen a disposición las siguientes funciones:"
   ]
  },
  {
   "cell_type": "code",
   "execution_count": 216,
   "metadata": {
    "colab": {},
    "colab_type": "code",
    "id": "hpzLTsX_L4Fx"
   },
   "outputs": [],
   "source": [
    "f1 = lambda x: 2 * x + 3 \n",
    "f2 = lambda x: np.sin(x) ** 3\n",
    "f3 = lambda x: np.exp(x) \n",
    "f4 = lambda x: np.exp(-x ** 2)\n",
    "f5 = lambda x: np.sinc(x)"
   ]
  },
  {
   "cell_type": "markdown",
   "metadata": {
    "colab_type": "text",
    "id": "cgAADsEjL4F1"
   },
   "source": [
    "## Datos a interpolar\n",
    "\n",
    "Aquí puede escoger $f_i$, $i=\\{1, 2, \\dots, 5\\}$."
   ]
  },
  {
   "cell_type": "code",
   "execution_count": 217,
   "metadata": {
    "colab": {},
    "colab_type": "code",
    "id": "MLuGMaYXL4F1"
   },
   "outputs": [],
   "source": [
    "x_a, x_b = -2 * np.pi, 2 * np.pi # Domain\n",
    "f = f5 # Select function to evaluate"
   ]
  },
  {
   "cell_type": "markdown",
   "metadata": {
    "colab_type": "text",
    "id": "zsllZ2XwL4F5"
   },
   "source": [
    "Se generarán puntos equispaciados $x_i$ en un intervalo $[x_a,x_b]$ y luego se evaluarán dichos puntos en una función $f$ para generar puntos $y_i$."
   ]
  },
  {
   "cell_type": "code",
   "execution_count": 218,
   "metadata": {
    "colab": {},
    "colab_type": "code",
    "id": "PNhrHoQHL4F6"
   },
   "outputs": [],
   "source": [
    "N_i = 10\n",
    "x_i = np.linspace(x_a, x_b, N_i)\n",
    "y_i = f(x_i)"
   ]
  },
  {
   "cell_type": "markdown",
   "metadata": {
    "colab_type": "text",
    "id": "p3YRDLZ5L4F9"
   },
   "source": [
    "## Interpolación\n",
    "\n",
    "Acá debe realizar su interpolación."
   ]
  },
  {
   "cell_type": "code",
   "execution_count": 219,
   "metadata": {
    "colab": {},
    "colab_type": "code",
    "id": "roDNd8gpL4F9"
   },
   "outputs": [],
   "source": [
    "a = interpolateVandermonde(x_i, y_i)\n",
    "P = interpolatingPolynomial(a)"
   ]
  },
  {
   "cell_type": "markdown",
   "metadata": {
    "colab_type": "text",
    "id": "PSYFUVOdL4GA"
   },
   "source": [
    "## Datos a evaluar"
   ]
  },
  {
   "cell_type": "markdown",
   "metadata": {
    "colab_type": "text",
    "id": "sgwQsW0yL4GA"
   },
   "source": [
    "Se genera una grilla fina $\\mathbf{x}$ para poder evaluar la calidad de su interpolación."
   ]
  },
  {
   "cell_type": "code",
   "execution_count": 220,
   "metadata": {
    "colab": {},
    "colab_type": "code",
    "id": "tF8b5QVLL4GB"
   },
   "outputs": [],
   "source": [
    "N_e = 200\n",
    "x_e = np.linspace(x_a, x_b, N_e)\n",
    "y_e = f(x_e)"
   ]
  },
  {
   "cell_type": "markdown",
   "metadata": {
    "colab_type": "text",
    "id": "ygH5Qfu6L4GE"
   },
   "source": [
    "## Visualización\n",
    "\n",
    "Gráfico de $f(x)$ y $P(x)$."
   ]
  },
  {
   "cell_type": "code",
   "execution_count": 221,
   "metadata": {
    "colab": {
     "base_uri": "https://localhost:8080/",
     "height": 589
    },
    "colab_type": "code",
    "id": "MeddDRavL4GI",
    "outputId": "4ca60ec1-a14d-42cc-e6cd-cc1005136a6c"
   },
   "outputs": [
    {
     "data": {
      "image/png": "[encoded data removed]",
      "text/plain": [
       "<Figure size 864x432 with 1 Axes>"
      ]
     },
     "metadata": {
      "needs_background": "light"
     },
     "output_type": "display_data"
    }
   ],
   "source": [
    "plt.figure(figsize=(12, 6))\n",
    "plt.plot(x_e, y_e, 'b-', label=\"f(x)\")\n",
    "plt.plot(x_i, y_i, 'rd', label=\"Puntos para interpolar\")\n",
    "plt.plot(x_e, P(x_e), '.-', label=r'$P(x)$')\n",
    "plt.grid(True)\n",
    "plt.legend()\n",
    "plt.xlabel(r\"$x$\")\n",
    "plt.ylabel(r\"$y$\")\n",
    "plt.show()"
   ]
  },
  {
   "cell_type": "code",
   "execution_count": 222,
   "metadata": {
    "colab": {},
    "colab_type": "code",
    "id": "6QeM9ehUL4GM"
   },
   "outputs": [],
   "source": [
    "N = 10\n",
    "Ns = 10 * np.arange(1, N + 1) # Number of nodes for interpolation\n",
    "errors = np.zeros(Ns.shape[-1])"
   ]
  },
  {
   "cell_type": "code",
   "execution_count": 223,
   "metadata": {
    "colab": {},
    "colab_type": "code",
    "id": "DrQmJmbzL4GP"
   },
   "outputs": [],
   "source": [
    "# Compute error between interpolating polynomial and \"real function\"\n",
    "for i in range(Ns.shape[-1]):\n",
    "    # Interpolation nodes\n",
    "    x_i = np.linspace(x_a, x_b, Ns[i])\n",
    "    y_i = f(x_i)\n",
    "    # Interpolation\n",
    "    a = interpolateVandermonde(x_i, y_i)\n",
    "    P = interpolatingPolynomial(a)\n",
    "    p = P(x_e) # Polynomial evaluation\n",
    "    errors[i] = error(y_e, p)"
   ]
  },
  {
   "cell_type": "code",
   "execution_count": 224,
   "metadata": {
    "colab": {
     "base_uri": "https://localhost:8080/",
     "height": 388
    },
    "colab_type": "code",
    "id": "lIqN2zi4L4GS",
    "outputId": "7cb64f6f-d46e-4ad7-d736-29096a110e28"
   },
   "outputs": [
    {
     "data": {
      "image/png": "[encoded data removed]",
      "text/plain": [
       "<Figure size 864x432 with 1 Axes>"
      ]
     },
     "metadata": {
      "needs_background": "light"
     },
     "output_type": "display_data"
    }
   ],
   "source": [
    "plt.figure(figsize=(12, 6))\n",
    "plt.plot(Ns, errors, 'b-.')\n",
    "plt.grid(True)\n",
    "plt.yscale('log')\n",
    "plt.ylabel(\"Error\")\n",
    "plt.xlabel(\"Grado Polinomio\")\n",
    "plt.show()"
   ]
  }
 ],
 "metadata": {
  "colab": {
   "collapsed_sections": [],
   "name": "desafio_3.ipynb",
   "provenance": []
  },
  "kernelspec": {
   "display_name": "Python 3",
   "language": "python",
   "name": "python3"
  },
  "language_info": {
   "codemirror_mode": {
    "name": "ipython",
    "version": 3
   },
   "file_extension": ".py",
   "mimetype": "text/x-python",
   "name": "python",
   "nbconvert_exporter": "python",
   "pygments_lexer": "ipython3",
   "version": "3.6.9"
  }
 },
 "nbformat": 4,
 "nbformat_minor": 1
}
